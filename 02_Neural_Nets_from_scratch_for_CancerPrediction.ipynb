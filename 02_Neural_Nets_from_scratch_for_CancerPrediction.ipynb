{
 "cells": [
  {
   "cell_type": "code",
   "execution_count": 3,
   "metadata": {},
   "outputs": [],
   "source": [
    "import numpy as np \n",
    "import pandas as pd \n",
    "import matplotlib.pyplot as plt\n",
    "import plotly.express as px \n",
    "import seaborn as sns\n",
    "%matplotlib inline\n",
    "\n",
    "#from sklearn.model_selection import train_test_split \n",
    "from sklearn.metrics import accuracy_score\n",
    "from sklearn.preprocessing import StandardScaler \n"
   ]
  },
  {
   "cell_type": "code",
   "execution_count": 4,
   "metadata": {},
   "outputs": [
    {
     "data": {
      "text/html": [
       "<div>\n",
       "<style scoped>\n",
       "    .dataframe tbody tr th:only-of-type {\n",
       "        vertical-align: middle;\n",
       "    }\n",
       "\n",
       "    .dataframe tbody tr th {\n",
       "        vertical-align: top;\n",
       "    }\n",
       "\n",
       "    .dataframe thead th {\n",
       "        text-align: right;\n",
       "    }\n",
       "</style>\n",
       "<table border=\"1\" class=\"dataframe\">\n",
       "  <thead>\n",
       "    <tr style=\"text-align: right;\">\n",
       "      <th></th>\n",
       "      <th>id</th>\n",
       "      <th>diagnosis</th>\n",
       "      <th>radius_mean</th>\n",
       "      <th>texture_mean</th>\n",
       "      <th>perimeter_mean</th>\n",
       "      <th>area_mean</th>\n",
       "      <th>smoothness_mean</th>\n",
       "      <th>compactness_mean</th>\n",
       "      <th>concavity_mean</th>\n",
       "      <th>concave points_mean</th>\n",
       "      <th>...</th>\n",
       "      <th>texture_worst</th>\n",
       "      <th>perimeter_worst</th>\n",
       "      <th>area_worst</th>\n",
       "      <th>smoothness_worst</th>\n",
       "      <th>compactness_worst</th>\n",
       "      <th>concavity_worst</th>\n",
       "      <th>concave points_worst</th>\n",
       "      <th>symmetry_worst</th>\n",
       "      <th>fractal_dimension_worst</th>\n",
       "      <th>Unnamed: 32</th>\n",
       "    </tr>\n",
       "  </thead>\n",
       "  <tbody>\n",
       "    <tr>\n",
       "      <th>0</th>\n",
       "      <td>842302</td>\n",
       "      <td>M</td>\n",
       "      <td>17.99</td>\n",
       "      <td>10.38</td>\n",
       "      <td>122.80</td>\n",
       "      <td>1001.0</td>\n",
       "      <td>0.11840</td>\n",
       "      <td>0.27760</td>\n",
       "      <td>0.30010</td>\n",
       "      <td>0.14710</td>\n",
       "      <td>...</td>\n",
       "      <td>17.33</td>\n",
       "      <td>184.60</td>\n",
       "      <td>2019.0</td>\n",
       "      <td>0.16220</td>\n",
       "      <td>0.66560</td>\n",
       "      <td>0.7119</td>\n",
       "      <td>0.2654</td>\n",
       "      <td>0.4601</td>\n",
       "      <td>0.11890</td>\n",
       "      <td>NaN</td>\n",
       "    </tr>\n",
       "    <tr>\n",
       "      <th>1</th>\n",
       "      <td>842517</td>\n",
       "      <td>M</td>\n",
       "      <td>20.57</td>\n",
       "      <td>17.77</td>\n",
       "      <td>132.90</td>\n",
       "      <td>1326.0</td>\n",
       "      <td>0.08474</td>\n",
       "      <td>0.07864</td>\n",
       "      <td>0.08690</td>\n",
       "      <td>0.07017</td>\n",
       "      <td>...</td>\n",
       "      <td>23.41</td>\n",
       "      <td>158.80</td>\n",
       "      <td>1956.0</td>\n",
       "      <td>0.12380</td>\n",
       "      <td>0.18660</td>\n",
       "      <td>0.2416</td>\n",
       "      <td>0.1860</td>\n",
       "      <td>0.2750</td>\n",
       "      <td>0.08902</td>\n",
       "      <td>NaN</td>\n",
       "    </tr>\n",
       "    <tr>\n",
       "      <th>2</th>\n",
       "      <td>84300903</td>\n",
       "      <td>M</td>\n",
       "      <td>19.69</td>\n",
       "      <td>21.25</td>\n",
       "      <td>130.00</td>\n",
       "      <td>1203.0</td>\n",
       "      <td>0.10960</td>\n",
       "      <td>0.15990</td>\n",
       "      <td>0.19740</td>\n",
       "      <td>0.12790</td>\n",
       "      <td>...</td>\n",
       "      <td>25.53</td>\n",
       "      <td>152.50</td>\n",
       "      <td>1709.0</td>\n",
       "      <td>0.14440</td>\n",
       "      <td>0.42450</td>\n",
       "      <td>0.4504</td>\n",
       "      <td>0.2430</td>\n",
       "      <td>0.3613</td>\n",
       "      <td>0.08758</td>\n",
       "      <td>NaN</td>\n",
       "    </tr>\n",
       "    <tr>\n",
       "      <th>3</th>\n",
       "      <td>84348301</td>\n",
       "      <td>M</td>\n",
       "      <td>11.42</td>\n",
       "      <td>20.38</td>\n",
       "      <td>77.58</td>\n",
       "      <td>386.1</td>\n",
       "      <td>0.14250</td>\n",
       "      <td>0.28390</td>\n",
       "      <td>0.24140</td>\n",
       "      <td>0.10520</td>\n",
       "      <td>...</td>\n",
       "      <td>26.50</td>\n",
       "      <td>98.87</td>\n",
       "      <td>567.7</td>\n",
       "      <td>0.20980</td>\n",
       "      <td>0.86630</td>\n",
       "      <td>0.6869</td>\n",
       "      <td>0.2575</td>\n",
       "      <td>0.6638</td>\n",
       "      <td>0.17300</td>\n",
       "      <td>NaN</td>\n",
       "    </tr>\n",
       "    <tr>\n",
       "      <th>4</th>\n",
       "      <td>84358402</td>\n",
       "      <td>M</td>\n",
       "      <td>20.29</td>\n",
       "      <td>14.34</td>\n",
       "      <td>135.10</td>\n",
       "      <td>1297.0</td>\n",
       "      <td>0.10030</td>\n",
       "      <td>0.13280</td>\n",
       "      <td>0.19800</td>\n",
       "      <td>0.10430</td>\n",
       "      <td>...</td>\n",
       "      <td>16.67</td>\n",
       "      <td>152.20</td>\n",
       "      <td>1575.0</td>\n",
       "      <td>0.13740</td>\n",
       "      <td>0.20500</td>\n",
       "      <td>0.4000</td>\n",
       "      <td>0.1625</td>\n",
       "      <td>0.2364</td>\n",
       "      <td>0.07678</td>\n",
       "      <td>NaN</td>\n",
       "    </tr>\n",
       "    <tr>\n",
       "      <th>...</th>\n",
       "      <td>...</td>\n",
       "      <td>...</td>\n",
       "      <td>...</td>\n",
       "      <td>...</td>\n",
       "      <td>...</td>\n",
       "      <td>...</td>\n",
       "      <td>...</td>\n",
       "      <td>...</td>\n",
       "      <td>...</td>\n",
       "      <td>...</td>\n",
       "      <td>...</td>\n",
       "      <td>...</td>\n",
       "      <td>...</td>\n",
       "      <td>...</td>\n",
       "      <td>...</td>\n",
       "      <td>...</td>\n",
       "      <td>...</td>\n",
       "      <td>...</td>\n",
       "      <td>...</td>\n",
       "      <td>...</td>\n",
       "      <td>...</td>\n",
       "    </tr>\n",
       "    <tr>\n",
       "      <th>564</th>\n",
       "      <td>926424</td>\n",
       "      <td>M</td>\n",
       "      <td>21.56</td>\n",
       "      <td>22.39</td>\n",
       "      <td>142.00</td>\n",
       "      <td>1479.0</td>\n",
       "      <td>0.11100</td>\n",
       "      <td>0.11590</td>\n",
       "      <td>0.24390</td>\n",
       "      <td>0.13890</td>\n",
       "      <td>...</td>\n",
       "      <td>26.40</td>\n",
       "      <td>166.10</td>\n",
       "      <td>2027.0</td>\n",
       "      <td>0.14100</td>\n",
       "      <td>0.21130</td>\n",
       "      <td>0.4107</td>\n",
       "      <td>0.2216</td>\n",
       "      <td>0.2060</td>\n",
       "      <td>0.07115</td>\n",
       "      <td>NaN</td>\n",
       "    </tr>\n",
       "    <tr>\n",
       "      <th>565</th>\n",
       "      <td>926682</td>\n",
       "      <td>M</td>\n",
       "      <td>20.13</td>\n",
       "      <td>28.25</td>\n",
       "      <td>131.20</td>\n",
       "      <td>1261.0</td>\n",
       "      <td>0.09780</td>\n",
       "      <td>0.10340</td>\n",
       "      <td>0.14400</td>\n",
       "      <td>0.09791</td>\n",
       "      <td>...</td>\n",
       "      <td>38.25</td>\n",
       "      <td>155.00</td>\n",
       "      <td>1731.0</td>\n",
       "      <td>0.11660</td>\n",
       "      <td>0.19220</td>\n",
       "      <td>0.3215</td>\n",
       "      <td>0.1628</td>\n",
       "      <td>0.2572</td>\n",
       "      <td>0.06637</td>\n",
       "      <td>NaN</td>\n",
       "    </tr>\n",
       "    <tr>\n",
       "      <th>566</th>\n",
       "      <td>926954</td>\n",
       "      <td>M</td>\n",
       "      <td>16.60</td>\n",
       "      <td>28.08</td>\n",
       "      <td>108.30</td>\n",
       "      <td>858.1</td>\n",
       "      <td>0.08455</td>\n",
       "      <td>0.10230</td>\n",
       "      <td>0.09251</td>\n",
       "      <td>0.05302</td>\n",
       "      <td>...</td>\n",
       "      <td>34.12</td>\n",
       "      <td>126.70</td>\n",
       "      <td>1124.0</td>\n",
       "      <td>0.11390</td>\n",
       "      <td>0.30940</td>\n",
       "      <td>0.3403</td>\n",
       "      <td>0.1418</td>\n",
       "      <td>0.2218</td>\n",
       "      <td>0.07820</td>\n",
       "      <td>NaN</td>\n",
       "    </tr>\n",
       "    <tr>\n",
       "      <th>567</th>\n",
       "      <td>927241</td>\n",
       "      <td>M</td>\n",
       "      <td>20.60</td>\n",
       "      <td>29.33</td>\n",
       "      <td>140.10</td>\n",
       "      <td>1265.0</td>\n",
       "      <td>0.11780</td>\n",
       "      <td>0.27700</td>\n",
       "      <td>0.35140</td>\n",
       "      <td>0.15200</td>\n",
       "      <td>...</td>\n",
       "      <td>39.42</td>\n",
       "      <td>184.60</td>\n",
       "      <td>1821.0</td>\n",
       "      <td>0.16500</td>\n",
       "      <td>0.86810</td>\n",
       "      <td>0.9387</td>\n",
       "      <td>0.2650</td>\n",
       "      <td>0.4087</td>\n",
       "      <td>0.12400</td>\n",
       "      <td>NaN</td>\n",
       "    </tr>\n",
       "    <tr>\n",
       "      <th>568</th>\n",
       "      <td>92751</td>\n",
       "      <td>B</td>\n",
       "      <td>7.76</td>\n",
       "      <td>24.54</td>\n",
       "      <td>47.92</td>\n",
       "      <td>181.0</td>\n",
       "      <td>0.05263</td>\n",
       "      <td>0.04362</td>\n",
       "      <td>0.00000</td>\n",
       "      <td>0.00000</td>\n",
       "      <td>...</td>\n",
       "      <td>30.37</td>\n",
       "      <td>59.16</td>\n",
       "      <td>268.6</td>\n",
       "      <td>0.08996</td>\n",
       "      <td>0.06444</td>\n",
       "      <td>0.0000</td>\n",
       "      <td>0.0000</td>\n",
       "      <td>0.2871</td>\n",
       "      <td>0.07039</td>\n",
       "      <td>NaN</td>\n",
       "    </tr>\n",
       "  </tbody>\n",
       "</table>\n",
       "<p>569 rows × 33 columns</p>\n",
       "</div>"
      ],
      "text/plain": [
       "           id diagnosis  radius_mean  texture_mean  perimeter_mean  area_mean  \\\n",
       "0      842302         M        17.99         10.38          122.80     1001.0   \n",
       "1      842517         M        20.57         17.77          132.90     1326.0   \n",
       "2    84300903         M        19.69         21.25          130.00     1203.0   \n",
       "3    84348301         M        11.42         20.38           77.58      386.1   \n",
       "4    84358402         M        20.29         14.34          135.10     1297.0   \n",
       "..        ...       ...          ...           ...             ...        ...   \n",
       "564    926424         M        21.56         22.39          142.00     1479.0   \n",
       "565    926682         M        20.13         28.25          131.20     1261.0   \n",
       "566    926954         M        16.60         28.08          108.30      858.1   \n",
       "567    927241         M        20.60         29.33          140.10     1265.0   \n",
       "568     92751         B         7.76         24.54           47.92      181.0   \n",
       "\n",
       "     smoothness_mean  compactness_mean  concavity_mean  concave points_mean  \\\n",
       "0            0.11840           0.27760         0.30010              0.14710   \n",
       "1            0.08474           0.07864         0.08690              0.07017   \n",
       "2            0.10960           0.15990         0.19740              0.12790   \n",
       "3            0.14250           0.28390         0.24140              0.10520   \n",
       "4            0.10030           0.13280         0.19800              0.10430   \n",
       "..               ...               ...             ...                  ...   \n",
       "564          0.11100           0.11590         0.24390              0.13890   \n",
       "565          0.09780           0.10340         0.14400              0.09791   \n",
       "566          0.08455           0.10230         0.09251              0.05302   \n",
       "567          0.11780           0.27700         0.35140              0.15200   \n",
       "568          0.05263           0.04362         0.00000              0.00000   \n",
       "\n",
       "     ...  texture_worst  perimeter_worst  area_worst  smoothness_worst  \\\n",
       "0    ...          17.33           184.60      2019.0           0.16220   \n",
       "1    ...          23.41           158.80      1956.0           0.12380   \n",
       "2    ...          25.53           152.50      1709.0           0.14440   \n",
       "3    ...          26.50            98.87       567.7           0.20980   \n",
       "4    ...          16.67           152.20      1575.0           0.13740   \n",
       "..   ...            ...              ...         ...               ...   \n",
       "564  ...          26.40           166.10      2027.0           0.14100   \n",
       "565  ...          38.25           155.00      1731.0           0.11660   \n",
       "566  ...          34.12           126.70      1124.0           0.11390   \n",
       "567  ...          39.42           184.60      1821.0           0.16500   \n",
       "568  ...          30.37            59.16       268.6           0.08996   \n",
       "\n",
       "     compactness_worst  concavity_worst  concave points_worst  symmetry_worst  \\\n",
       "0              0.66560           0.7119                0.2654          0.4601   \n",
       "1              0.18660           0.2416                0.1860          0.2750   \n",
       "2              0.42450           0.4504                0.2430          0.3613   \n",
       "3              0.86630           0.6869                0.2575          0.6638   \n",
       "4              0.20500           0.4000                0.1625          0.2364   \n",
       "..                 ...              ...                   ...             ...   \n",
       "564            0.21130           0.4107                0.2216          0.2060   \n",
       "565            0.19220           0.3215                0.1628          0.2572   \n",
       "566            0.30940           0.3403                0.1418          0.2218   \n",
       "567            0.86810           0.9387                0.2650          0.4087   \n",
       "568            0.06444           0.0000                0.0000          0.2871   \n",
       "\n",
       "     fractal_dimension_worst  Unnamed: 32  \n",
       "0                    0.11890          NaN  \n",
       "1                    0.08902          NaN  \n",
       "2                    0.08758          NaN  \n",
       "3                    0.17300          NaN  \n",
       "4                    0.07678          NaN  \n",
       "..                       ...          ...  \n",
       "564                  0.07115          NaN  \n",
       "565                  0.06637          NaN  \n",
       "566                  0.07820          NaN  \n",
       "567                  0.12400          NaN  \n",
       "568                  0.07039          NaN  \n",
       "\n",
       "[569 rows x 33 columns]"
      ]
     },
     "execution_count": 4,
     "metadata": {},
     "output_type": "execute_result"
    }
   ],
   "source": [
    "df = pd.read_csv('breast_cancer_data.csv')\n",
    "df"
   ]
  },
  {
   "cell_type": "code",
   "execution_count": 5,
   "metadata": {},
   "outputs": [
    {
     "data": {
      "application/vnd.plotly.v1+json": {
       "config": {
        "plotlyServerURL": "https://plot.ly"
       },
       "data": [
        {
         "alignmentgroup": "True",
         "bingroup": "x",
         "hovertemplate": "diagnosis=%{x}<br>count=%{y}<extra></extra>",
         "legendgroup": "M",
         "marker": {
          "color": "#05445E",
          "pattern": {
           "shape": ""
          }
         },
         "name": "M",
         "offsetgroup": "M",
         "orientation": "v",
         "showlegend": true,
         "type": "histogram",
         "x": [
          "M",
          "M",
          "M",
          "M",
          "M",
          "M",
          "M",
          "M",
          "M",
          "M",
          "M",
          "M",
          "M",
          "M",
          "M",
          "M",
          "M",
          "M",
          "M",
          "M",
          "M",
          "M",
          "M",
          "M",
          "M",
          "M",
          "M",
          "M",
          "M",
          "M",
          "M",
          "M",
          "M",
          "M",
          "M",
          "M",
          "M",
          "M",
          "M",
          "M",
          "M",
          "M",
          "M",
          "M",
          "M",
          "M",
          "M",
          "M",
          "M",
          "M",
          "M",
          "M",
          "M",
          "M",
          "M",
          "M",
          "M",
          "M",
          "M",
          "M",
          "M",
          "M",
          "M",
          "M",
          "M",
          "M",
          "M",
          "M",
          "M",
          "M",
          "M",
          "M",
          "M",
          "M",
          "M",
          "M",
          "M",
          "M",
          "M",
          "M",
          "M",
          "M",
          "M",
          "M",
          "M",
          "M",
          "M",
          "M",
          "M",
          "M",
          "M",
          "M",
          "M",
          "M",
          "M",
          "M",
          "M",
          "M",
          "M",
          "M",
          "M",
          "M",
          "M",
          "M",
          "M",
          "M",
          "M",
          "M",
          "M",
          "M",
          "M",
          "M",
          "M",
          "M",
          "M",
          "M",
          "M",
          "M",
          "M",
          "M",
          "M",
          "M",
          "M",
          "M",
          "M",
          "M",
          "M",
          "M",
          "M",
          "M",
          "M",
          "M",
          "M",
          "M",
          "M",
          "M",
          "M",
          "M",
          "M",
          "M",
          "M",
          "M",
          "M",
          "M",
          "M",
          "M",
          "M",
          "M",
          "M",
          "M",
          "M",
          "M",
          "M",
          "M",
          "M",
          "M",
          "M",
          "M",
          "M",
          "M",
          "M",
          "M",
          "M",
          "M",
          "M",
          "M",
          "M",
          "M",
          "M",
          "M",
          "M",
          "M",
          "M",
          "M",
          "M",
          "M",
          "M",
          "M",
          "M",
          "M",
          "M",
          "M",
          "M",
          "M",
          "M",
          "M",
          "M",
          "M",
          "M",
          "M",
          "M",
          "M",
          "M",
          "M",
          "M",
          "M",
          "M",
          "M",
          "M",
          "M",
          "M",
          "M",
          "M",
          "M",
          "M",
          "M",
          "M",
          "M",
          "M",
          "M",
          "M",
          "M"
         ],
         "xaxis": "x",
         "yaxis": "y"
        },
        {
         "alignmentgroup": "True",
         "bingroup": "x",
         "hovertemplate": "diagnosis=%{x}<br>count=%{y}<extra></extra>",
         "legendgroup": "B",
         "marker": {
          "color": "#75E6DA",
          "pattern": {
           "shape": ""
          }
         },
         "name": "B",
         "offsetgroup": "B",
         "orientation": "v",
         "showlegend": true,
         "type": "histogram",
         "x": [
          "B",
          "B",
          "B",
          "B",
          "B",
          "B",
          "B",
          "B",
          "B",
          "B",
          "B",
          "B",
          "B",
          "B",
          "B",
          "B",
          "B",
          "B",
          "B",
          "B",
          "B",
          "B",
          "B",
          "B",
          "B",
          "B",
          "B",
          "B",
          "B",
          "B",
          "B",
          "B",
          "B",
          "B",
          "B",
          "B",
          "B",
          "B",
          "B",
          "B",
          "B",
          "B",
          "B",
          "B",
          "B",
          "B",
          "B",
          "B",
          "B",
          "B",
          "B",
          "B",
          "B",
          "B",
          "B",
          "B",
          "B",
          "B",
          "B",
          "B",
          "B",
          "B",
          "B",
          "B",
          "B",
          "B",
          "B",
          "B",
          "B",
          "B",
          "B",
          "B",
          "B",
          "B",
          "B",
          "B",
          "B",
          "B",
          "B",
          "B",
          "B",
          "B",
          "B",
          "B",
          "B",
          "B",
          "B",
          "B",
          "B",
          "B",
          "B",
          "B",
          "B",
          "B",
          "B",
          "B",
          "B",
          "B",
          "B",
          "B",
          "B",
          "B",
          "B",
          "B",
          "B",
          "B",
          "B",
          "B",
          "B",
          "B",
          "B",
          "B",
          "B",
          "B",
          "B",
          "B",
          "B",
          "B",
          "B",
          "B",
          "B",
          "B",
          "B",
          "B",
          "B",
          "B",
          "B",
          "B",
          "B",
          "B",
          "B",
          "B",
          "B",
          "B",
          "B",
          "B",
          "B",
          "B",
          "B",
          "B",
          "B",
          "B",
          "B",
          "B",
          "B",
          "B",
          "B",
          "B",
          "B",
          "B",
          "B",
          "B",
          "B",
          "B",
          "B",
          "B",
          "B",
          "B",
          "B",
          "B",
          "B",
          "B",
          "B",
          "B",
          "B",
          "B",
          "B",
          "B",
          "B",
          "B",
          "B",
          "B",
          "B",
          "B",
          "B",
          "B",
          "B",
          "B",
          "B",
          "B",
          "B",
          "B",
          "B",
          "B",
          "B",
          "B",
          "B",
          "B",
          "B",
          "B",
          "B",
          "B",
          "B",
          "B",
          "B",
          "B",
          "B",
          "B",
          "B",
          "B",
          "B",
          "B",
          "B",
          "B",
          "B",
          "B",
          "B",
          "B",
          "B",
          "B",
          "B",
          "B",
          "B",
          "B",
          "B",
          "B",
          "B",
          "B",
          "B",
          "B",
          "B",
          "B",
          "B",
          "B",
          "B",
          "B",
          "B",
          "B",
          "B",
          "B",
          "B",
          "B",
          "B",
          "B",
          "B",
          "B",
          "B",
          "B",
          "B",
          "B",
          "B",
          "B",
          "B",
          "B",
          "B",
          "B",
          "B",
          "B",
          "B",
          "B",
          "B",
          "B",
          "B",
          "B",
          "B",
          "B",
          "B",
          "B",
          "B",
          "B",
          "B",
          "B",
          "B",
          "B",
          "B",
          "B",
          "B",
          "B",
          "B",
          "B",
          "B",
          "B",
          "B",
          "B",
          "B",
          "B",
          "B",
          "B",
          "B",
          "B",
          "B",
          "B",
          "B",
          "B",
          "B",
          "B",
          "B",
          "B",
          "B",
          "B",
          "B",
          "B",
          "B",
          "B",
          "B",
          "B",
          "B",
          "B",
          "B",
          "B",
          "B",
          "B",
          "B",
          "B",
          "B",
          "B",
          "B",
          "B",
          "B",
          "B",
          "B",
          "B",
          "B",
          "B",
          "B",
          "B",
          "B",
          "B",
          "B",
          "B",
          "B",
          "B",
          "B",
          "B",
          "B",
          "B",
          "B",
          "B",
          "B",
          "B",
          "B",
          "B",
          "B",
          "B",
          "B",
          "B",
          "B",
          "B",
          "B",
          "B",
          "B",
          "B",
          "B",
          "B",
          "B",
          "B",
          "B",
          "B",
          "B",
          "B",
          "B",
          "B",
          "B",
          "B",
          "B",
          "B",
          "B"
         ],
         "xaxis": "x",
         "yaxis": "y"
        }
       ],
       "layout": {
        "barmode": "relative",
        "height": 600,
        "legend": {
         "title": {
          "text": "diagnosis"
         },
         "tracegroupgap": 0
        },
        "margin": {
         "t": 60
        },
        "template": {
         "data": {
          "bar": [
           {
            "error_x": {
             "color": "#2a3f5f"
            },
            "error_y": {
             "color": "#2a3f5f"
            },
            "marker": {
             "line": {
              "color": "#E5ECF6",
              "width": 0.5
             },
             "pattern": {
              "fillmode": "overlay",
              "size": 10,
              "solidity": 0.2
             }
            },
            "type": "bar"
           }
          ],
          "barpolar": [
           {
            "marker": {
             "line": {
              "color": "#E5ECF6",
              "width": 0.5
             },
             "pattern": {
              "fillmode": "overlay",
              "size": 10,
              "solidity": 0.2
             }
            },
            "type": "barpolar"
           }
          ],
          "carpet": [
           {
            "aaxis": {
             "endlinecolor": "#2a3f5f",
             "gridcolor": "white",
             "linecolor": "white",
             "minorgridcolor": "white",
             "startlinecolor": "#2a3f5f"
            },
            "baxis": {
             "endlinecolor": "#2a3f5f",
             "gridcolor": "white",
             "linecolor": "white",
             "minorgridcolor": "white",
             "startlinecolor": "#2a3f5f"
            },
            "type": "carpet"
           }
          ],
          "choropleth": [
           {
            "colorbar": {
             "outlinewidth": 0,
             "ticks": ""
            },
            "type": "choropleth"
           }
          ],
          "contour": [
           {
            "colorbar": {
             "outlinewidth": 0,
             "ticks": ""
            },
            "colorscale": [
             [
              0,
              "#0d0887"
             ],
             [
              0.1111111111111111,
              "#46039f"
             ],
             [
              0.2222222222222222,
              "#7201a8"
             ],
             [
              0.3333333333333333,
              "#9c179e"
             ],
             [
              0.4444444444444444,
              "#bd3786"
             ],
             [
              0.5555555555555556,
              "#d8576b"
             ],
             [
              0.6666666666666666,
              "#ed7953"
             ],
             [
              0.7777777777777778,
              "#fb9f3a"
             ],
             [
              0.8888888888888888,
              "#fdca26"
             ],
             [
              1,
              "#f0f921"
             ]
            ],
            "type": "contour"
           }
          ],
          "contourcarpet": [
           {
            "colorbar": {
             "outlinewidth": 0,
             "ticks": ""
            },
            "type": "contourcarpet"
           }
          ],
          "heatmap": [
           {
            "colorbar": {
             "outlinewidth": 0,
             "ticks": ""
            },
            "colorscale": [
             [
              0,
              "#0d0887"
             ],
             [
              0.1111111111111111,
              "#46039f"
             ],
             [
              0.2222222222222222,
              "#7201a8"
             ],
             [
              0.3333333333333333,
              "#9c179e"
             ],
             [
              0.4444444444444444,
              "#bd3786"
             ],
             [
              0.5555555555555556,
              "#d8576b"
             ],
             [
              0.6666666666666666,
              "#ed7953"
             ],
             [
              0.7777777777777778,
              "#fb9f3a"
             ],
             [
              0.8888888888888888,
              "#fdca26"
             ],
             [
              1,
              "#f0f921"
             ]
            ],
            "type": "heatmap"
           }
          ],
          "heatmapgl": [
           {
            "colorbar": {
             "outlinewidth": 0,
             "ticks": ""
            },
            "colorscale": [
             [
              0,
              "#0d0887"
             ],
             [
              0.1111111111111111,
              "#46039f"
             ],
             [
              0.2222222222222222,
              "#7201a8"
             ],
             [
              0.3333333333333333,
              "#9c179e"
             ],
             [
              0.4444444444444444,
              "#bd3786"
             ],
             [
              0.5555555555555556,
              "#d8576b"
             ],
             [
              0.6666666666666666,
              "#ed7953"
             ],
             [
              0.7777777777777778,
              "#fb9f3a"
             ],
             [
              0.8888888888888888,
              "#fdca26"
             ],
             [
              1,
              "#f0f921"
             ]
            ],
            "type": "heatmapgl"
           }
          ],
          "histogram": [
           {
            "marker": {
             "pattern": {
              "fillmode": "overlay",
              "size": 10,
              "solidity": 0.2
             }
            },
            "type": "histogram"
           }
          ],
          "histogram2d": [
           {
            "colorbar": {
             "outlinewidth": 0,
             "ticks": ""
            },
            "colorscale": [
             [
              0,
              "#0d0887"
             ],
             [
              0.1111111111111111,
              "#46039f"
             ],
             [
              0.2222222222222222,
              "#7201a8"
             ],
             [
              0.3333333333333333,
              "#9c179e"
             ],
             [
              0.4444444444444444,
              "#bd3786"
             ],
             [
              0.5555555555555556,
              "#d8576b"
             ],
             [
              0.6666666666666666,
              "#ed7953"
             ],
             [
              0.7777777777777778,
              "#fb9f3a"
             ],
             [
              0.8888888888888888,
              "#fdca26"
             ],
             [
              1,
              "#f0f921"
             ]
            ],
            "type": "histogram2d"
           }
          ],
          "histogram2dcontour": [
           {
            "colorbar": {
             "outlinewidth": 0,
             "ticks": ""
            },
            "colorscale": [
             [
              0,
              "#0d0887"
             ],
             [
              0.1111111111111111,
              "#46039f"
             ],
             [
              0.2222222222222222,
              "#7201a8"
             ],
             [
              0.3333333333333333,
              "#9c179e"
             ],
             [
              0.4444444444444444,
              "#bd3786"
             ],
             [
              0.5555555555555556,
              "#d8576b"
             ],
             [
              0.6666666666666666,
              "#ed7953"
             ],
             [
              0.7777777777777778,
              "#fb9f3a"
             ],
             [
              0.8888888888888888,
              "#fdca26"
             ],
             [
              1,
              "#f0f921"
             ]
            ],
            "type": "histogram2dcontour"
           }
          ],
          "mesh3d": [
           {
            "colorbar": {
             "outlinewidth": 0,
             "ticks": ""
            },
            "type": "mesh3d"
           }
          ],
          "parcoords": [
           {
            "line": {
             "colorbar": {
              "outlinewidth": 0,
              "ticks": ""
             }
            },
            "type": "parcoords"
           }
          ],
          "pie": [
           {
            "automargin": true,
            "type": "pie"
           }
          ],
          "scatter": [
           {
            "fillpattern": {
             "fillmode": "overlay",
             "size": 10,
             "solidity": 0.2
            },
            "type": "scatter"
           }
          ],
          "scatter3d": [
           {
            "line": {
             "colorbar": {
              "outlinewidth": 0,
              "ticks": ""
             }
            },
            "marker": {
             "colorbar": {
              "outlinewidth": 0,
              "ticks": ""
             }
            },
            "type": "scatter3d"
           }
          ],
          "scattercarpet": [
           {
            "marker": {
             "colorbar": {
              "outlinewidth": 0,
              "ticks": ""
             }
            },
            "type": "scattercarpet"
           }
          ],
          "scattergeo": [
           {
            "marker": {
             "colorbar": {
              "outlinewidth": 0,
              "ticks": ""
             }
            },
            "type": "scattergeo"
           }
          ],
          "scattergl": [
           {
            "marker": {
             "colorbar": {
              "outlinewidth": 0,
              "ticks": ""
             }
            },
            "type": "scattergl"
           }
          ],
          "scattermapbox": [
           {
            "marker": {
             "colorbar": {
              "outlinewidth": 0,
              "ticks": ""
             }
            },
            "type": "scattermapbox"
           }
          ],
          "scatterpolar": [
           {
            "marker": {
             "colorbar": {
              "outlinewidth": 0,
              "ticks": ""
             }
            },
            "type": "scatterpolar"
           }
          ],
          "scatterpolargl": [
           {
            "marker": {
             "colorbar": {
              "outlinewidth": 0,
              "ticks": ""
             }
            },
            "type": "scatterpolargl"
           }
          ],
          "scatterternary": [
           {
            "marker": {
             "colorbar": {
              "outlinewidth": 0,
              "ticks": ""
             }
            },
            "type": "scatterternary"
           }
          ],
          "surface": [
           {
            "colorbar": {
             "outlinewidth": 0,
             "ticks": ""
            },
            "colorscale": [
             [
              0,
              "#0d0887"
             ],
             [
              0.1111111111111111,
              "#46039f"
             ],
             [
              0.2222222222222222,
              "#7201a8"
             ],
             [
              0.3333333333333333,
              "#9c179e"
             ],
             [
              0.4444444444444444,
              "#bd3786"
             ],
             [
              0.5555555555555556,
              "#d8576b"
             ],
             [
              0.6666666666666666,
              "#ed7953"
             ],
             [
              0.7777777777777778,
              "#fb9f3a"
             ],
             [
              0.8888888888888888,
              "#fdca26"
             ],
             [
              1,
              "#f0f921"
             ]
            ],
            "type": "surface"
           }
          ],
          "table": [
           {
            "cells": {
             "fill": {
              "color": "#EBF0F8"
             },
             "line": {
              "color": "white"
             }
            },
            "header": {
             "fill": {
              "color": "#C8D4E3"
             },
             "line": {
              "color": "white"
             }
            },
            "type": "table"
           }
          ]
         },
         "layout": {
          "annotationdefaults": {
           "arrowcolor": "#2a3f5f",
           "arrowhead": 0,
           "arrowwidth": 1
          },
          "autotypenumbers": "strict",
          "coloraxis": {
           "colorbar": {
            "outlinewidth": 0,
            "ticks": ""
           }
          },
          "colorscale": {
           "diverging": [
            [
             0,
             "#8e0152"
            ],
            [
             0.1,
             "#c51b7d"
            ],
            [
             0.2,
             "#de77ae"
            ],
            [
             0.3,
             "#f1b6da"
            ],
            [
             0.4,
             "#fde0ef"
            ],
            [
             0.5,
             "#f7f7f7"
            ],
            [
             0.6,
             "#e6f5d0"
            ],
            [
             0.7,
             "#b8e186"
            ],
            [
             0.8,
             "#7fbc41"
            ],
            [
             0.9,
             "#4d9221"
            ],
            [
             1,
             "#276419"
            ]
           ],
           "sequential": [
            [
             0,
             "#0d0887"
            ],
            [
             0.1111111111111111,
             "#46039f"
            ],
            [
             0.2222222222222222,
             "#7201a8"
            ],
            [
             0.3333333333333333,
             "#9c179e"
            ],
            [
             0.4444444444444444,
             "#bd3786"
            ],
            [
             0.5555555555555556,
             "#d8576b"
            ],
            [
             0.6666666666666666,
             "#ed7953"
            ],
            [
             0.7777777777777778,
             "#fb9f3a"
            ],
            [
             0.8888888888888888,
             "#fdca26"
            ],
            [
             1,
             "#f0f921"
            ]
           ],
           "sequentialminus": [
            [
             0,
             "#0d0887"
            ],
            [
             0.1111111111111111,
             "#46039f"
            ],
            [
             0.2222222222222222,
             "#7201a8"
            ],
            [
             0.3333333333333333,
             "#9c179e"
            ],
            [
             0.4444444444444444,
             "#bd3786"
            ],
            [
             0.5555555555555556,
             "#d8576b"
            ],
            [
             0.6666666666666666,
             "#ed7953"
            ],
            [
             0.7777777777777778,
             "#fb9f3a"
            ],
            [
             0.8888888888888888,
             "#fdca26"
            ],
            [
             1,
             "#f0f921"
            ]
           ]
          },
          "colorway": [
           "#636efa",
           "#EF553B",
           "#00cc96",
           "#ab63fa",
           "#FFA15A",
           "#19d3f3",
           "#FF6692",
           "#B6E880",
           "#FF97FF",
           "#FECB52"
          ],
          "font": {
           "color": "#2a3f5f"
          },
          "geo": {
           "bgcolor": "white",
           "lakecolor": "white",
           "landcolor": "#E5ECF6",
           "showlakes": true,
           "showland": true,
           "subunitcolor": "white"
          },
          "hoverlabel": {
           "align": "left"
          },
          "hovermode": "closest",
          "mapbox": {
           "style": "light"
          },
          "paper_bgcolor": "white",
          "plot_bgcolor": "#E5ECF6",
          "polar": {
           "angularaxis": {
            "gridcolor": "white",
            "linecolor": "white",
            "ticks": ""
           },
           "bgcolor": "#E5ECF6",
           "radialaxis": {
            "gridcolor": "white",
            "linecolor": "white",
            "ticks": ""
           }
          },
          "scene": {
           "xaxis": {
            "backgroundcolor": "#E5ECF6",
            "gridcolor": "white",
            "gridwidth": 2,
            "linecolor": "white",
            "showbackground": true,
            "ticks": "",
            "zerolinecolor": "white"
           },
           "yaxis": {
            "backgroundcolor": "#E5ECF6",
            "gridcolor": "white",
            "gridwidth": 2,
            "linecolor": "white",
            "showbackground": true,
            "ticks": "",
            "zerolinecolor": "white"
           },
           "zaxis": {
            "backgroundcolor": "#E5ECF6",
            "gridcolor": "white",
            "gridwidth": 2,
            "linecolor": "white",
            "showbackground": true,
            "ticks": "",
            "zerolinecolor": "white"
           }
          },
          "shapedefaults": {
           "line": {
            "color": "#2a3f5f"
           }
          },
          "ternary": {
           "aaxis": {
            "gridcolor": "white",
            "linecolor": "white",
            "ticks": ""
           },
           "baxis": {
            "gridcolor": "white",
            "linecolor": "white",
            "ticks": ""
           },
           "bgcolor": "#E5ECF6",
           "caxis": {
            "gridcolor": "white",
            "linecolor": "white",
            "ticks": ""
           }
          },
          "title": {
           "x": 0.05
          },
          "xaxis": {
           "automargin": true,
           "gridcolor": "white",
           "linecolor": "white",
           "ticks": "",
           "title": {
            "standoff": 15
           },
           "zerolinecolor": "white",
           "zerolinewidth": 2
          },
          "yaxis": {
           "automargin": true,
           "gridcolor": "white",
           "linecolor": "white",
           "ticks": "",
           "title": {
            "standoff": 15
           },
           "zerolinecolor": "white",
           "zerolinewidth": 2
          }
         }
        },
        "width": 800,
        "xaxis": {
         "anchor": "y",
         "categoryarray": [
          "M",
          "B"
         ],
         "categoryorder": "array",
         "domain": [
          0,
          1
         ],
         "title": {
          "text": "diagnosis"
         }
        },
        "yaxis": {
         "anchor": "x",
         "domain": [
          0,
          1
         ],
         "title": {
          "text": "count"
         }
        }
       }
      }
     },
     "metadata": {},
     "output_type": "display_data"
    }
   ],
   "source": [
    "\n",
    "px.histogram(data_frame = df, x = \"diagnosis\", color = 'diagnosis', color_discrete_sequence = ['#05445E', '#75E6DA'], width = 800, height = 600)"
   ]
  },
  {
   "cell_type": "code",
   "execution_count": 6,
   "metadata": {},
   "outputs": [
    {
     "data": {
      "application/vnd.plotly.v1+json": {
       "config": {
        "plotlyServerURL": "https://plot.ly"
       },
       "data": [
        {
         "alignmentgroup": "True",
         "bingroup": "x",
         "hovertemplate": "diagnosis=M<br>area_mean=%{x}<br>count=%{y}<extra></extra>",
         "legendgroup": "M",
         "marker": {
          "color": "#05445E",
          "pattern": {
           "shape": ""
          }
         },
         "name": "M",
         "offsetgroup": "M",
         "orientation": "v",
         "showlegend": true,
         "type": "histogram",
         "x": [
          1001,
          1326,
          1203,
          386.1,
          1297,
          477.1,
          1040,
          577.9,
          519.8,
          475.9,
          797.8,
          781,
          1123,
          782.7,
          578.3,
          658.8,
          684.5,
          798.8,
          1260,
          704.4,
          1404,
          904.6,
          912.7,
          644.8,
          1094,
          732.4,
          955.1,
          1088,
          440.6,
          899.3,
          1162,
          807.2,
          869.5,
          633,
          698.8,
          559.2,
          563,
          371.1,
          1104,
          545.2,
          531.5,
          1076,
          534.6,
          1033,
          712.8,
          1152,
          656.9,
          645.7,
          499,
          668.3,
          1130,
          929.4,
          584.1,
          817.7,
          1006,
          1245,
          1878,
          1132,
          1075,
          648.2,
          1076,
          728.2,
          705.6,
          1264,
          642.5,
          582.7,
          530.2,
          1509,
          682.5,
          782.6,
          982,
          1077,
          1761,
          572.6,
          1138,
          1192,
          748.9,
          809.8,
          1075,
          506.3,
          678.1,
          813,
          432,
          963.7,
          1157,
          1214,
          1686,
          886.3,
          984.6,
          565.4,
          736.9,
          832.9,
          2250,
          1311,
          766.6,
          710.6,
          1041,
          609.9,
          477.4,
          671.4,
          588.9,
          1024,
          1148,
          642.7,
          951.6,
          1685,
          597.8,
          716.6,
          904.3,
          1290,
          2499,
          948,
          610.7,
          578.9,
          1230,
          1223,
          761.3,
          503.2,
          895,
          1319,
          1670,
          1306,
          920.6,
          1155,
          1364,
          1206,
          928.2,
          1169,
          602.4,
          1207,
          713.3,
          773.5,
          744.9,
          1288,
          933.1,
          947.8,
          758.6,
          928.3,
          1419,
          1491,
          998.9,
          1102,
          1138,
          1145,
          805.1,
          431.1,
          1217,
          1247,
          1027,
          1274,
          1264,
          813.7,
          826.8,
          793.2,
          918.6,
          1092,
          1747,
          1194,
          758.6,
          2010,
          716.6,
          1293,
          1234,
          1546,
          1482,
          840.4,
          1386,
          1335,
          361.6,
          664.7,
          1174,
          744.7,
          1407,
          994,
          991.7,
          719.5,
          803.1,
          685,
          1250,
          1110,
          599.5,
          928.8,
          990,
          981.6,
          1384,
          1191,
          930.9,
          2501,
          980.5,
          815.8,
          1167,
          857.6,
          1007,
          1068,
          1320,
          595.9,
          1682,
          731.3,
          556.7,
          701.9,
          1052,
          1214,
          1841,
          1299,
          1308,
          629.8,
          716.9,
          1347,
          1479,
          1261,
          858.1,
          1265
         ],
         "xaxis": "x",
         "yaxis": "y"
        },
        {
         "alignmentgroup": "True",
         "bingroup": "x",
         "hovertemplate": "diagnosis=B<br>area_mean=%{x}<br>count=%{y}<extra></extra>",
         "legendgroup": "B",
         "marker": {
          "color": "#75E6DA",
          "pattern": {
           "shape": ""
          }
         },
         "name": "B",
         "offsetgroup": "B",
         "orientation": "v",
         "showlegend": true,
         "type": "histogram",
         "x": [
          566.3,
          520,
          273.9,
          523.8,
          201.9,
          449.3,
          561,
          427.9,
          571.8,
          437.6,
          409,
          527.2,
          224.5,
          311.9,
          221.8,
          260.9,
          269.4,
          394.1,
          250.5,
          502.5,
          244,
          470.9,
          559.2,
          506.3,
          401.5,
          520,
          443.3,
          466.1,
          651.9,
          662.7,
          551.7,
          555.1,
          451.1,
          294.5,
          412.6,
          143.5,
          458.7,
          298.3,
          336.1,
          412.5,
          466.7,
          396.5,
          290.2,
          480.4,
          629.9,
          334.2,
          230.9,
          438.6,
          245.2,
          403.3,
          640.7,
          553.5,
          588.7,
          674.5,
          455.8,
          761.7,
          423.6,
          399.8,
          384.8,
          288.5,
          398,
          512.2,
          355.3,
          432.8,
          689.5,
          640.1,
          585,
          519.4,
          203.9,
          300.2,
          381.9,
          538.9,
          460.3,
          880.2,
          448.6,
          366.8,
          419.8,
          464.5,
          690.2,
          357.6,
          685.9,
          464.1,
          372.7,
          349.6,
          227.2,
          302.4,
          526.4,
          508.8,
          402,
          317.5,
          420.3,
          428.9,
          463.7,
          507.4,
          288.1,
          516.4,
          461,
          481.9,
          295.4,
          529.4,
          725.5,
          428,
          432.2,
          321.2,
          568.9,
          561.3,
          313.1,
          546.4,
          641.2,
          329.6,
          684.5,
          496.4,
          395.7,
          386.8,
          279.6,
          603.4,
          623.9,
          575.3,
          476.5,
          389.4,
          590,
          337.7,
          541.6,
          512.2,
          347,
          406.3,
          407.4,
          346.4,
          561,
          512.2,
          344.9,
          632.6,
          388,
          289.9,
          435.6,
          396.6,
          572.3,
          587.4,
          427.3,
          516.6,
          489,
          441,
          515.9,
          394.1,
          396,
          651,
          687.3,
          513.7,
          432.7,
          492.1,
          582.7,
          363.7,
          633.1,
          334.2,
          471.3,
          334.3,
          403.1,
          417.2,
          537.3,
          246.3,
          566.2,
          530.6,
          418.7,
          664.9,
          504.1,
          409.1,
          221.2,
          481.6,
          461.4,
          244.5,
          477.3,
          324.2,
          504.8,
          457.9,
          489.9,
          616.5,
          446,
          514,
          387.3,
          390,
          464.4,
          514.3,
          310.8,
          641.2,
          280.5,
          373.9,
          420.3,
          321.6,
          445.3,
          668.7,
          402.7,
          426.7,
          421,
          384.6,
          485.8,
          512,
          593.7,
          241,
          278.6,
          491.9,
          546.1,
          496.6,
          838.1,
          552.4,
          458.4,
          711.8,
          579.1,
          788.5,
          338.3,
          562.1,
          580.6,
          386.3,
          372.7,
          447.8,
          462.9,
          541.8,
          462,
          596.6,
          392,
          321.6,
          234.3,
          446.2,
          609.1,
          558.1,
          508.3,
          378.2,
          431.9,
          442.7,
          525.2,
          507.6,
          469.1,
          370,
          800,
          514.5,
          466.1,
          399.8,
          373.2,
          268.8,
          693.7,
          433.8,
          271.2,
          495,
          380.3,
          409.7,
          656.1,
          408.2,
          575.3,
          289.7,
          307.3,
          333.6,
          359.9,
          381.1,
          501.3,
          467.8,
          673.7,
          509.2,
          611.2,
          592.6,
          606.5,
          371.5,
          585.9,
          340.9,
          441.3,
          674.8,
          659.7,
          432,
          442.5,
          644.2,
          492.9,
          557.2,
          415.1,
          537.9,
          520.2,
          290.9,
          646.1,
          412.7,
          537.3,
          542.9,
          536.9,
          286.3,
          408.8,
          289.1,
          449.9,
          686.9,
          465.4,
          358.9,
          506.9,
          618.4,
          599.4,
          404.9,
          455.3,
          602.9,
          546.3,
          571.1,
          747.2,
          476.7,
          666,
          420.5,
          466.5,
          992.1,
          477.3,
          538.7,
          680.9,
          485.6,
          480.1,
          689.4,
          476.3,
          248.7,
          272.5,
          453.1,
          366.5,
          819.8,
          426,
          680.7,
          658.8,
          391.2,
          493.1,
          493.8,
          257.8,
          388.1,
          571,
          293.2,
          221.3,
          551.1,
          468.5,
          594.2,
          445.2,
          422.9,
          416.2,
          575.5,
          365.6,
          406.4,
          178.8,
          170.4,
          402.9,
          656.4,
          668.6,
          538.4,
          584.8,
          573.2,
          324.9,
          320.8,
          285.7,
          361.6,
          360.5,
          378.4,
          507.9,
          264,
          514.3,
          321.4,
          311.7,
          271.3,
          657.1,
          403.5,
          600.4,
          386,
          181
         ],
         "xaxis": "x",
         "yaxis": "y"
        }
       ],
       "layout": {
        "barmode": "relative",
        "legend": {
         "title": {
          "text": "diagnosis"
         },
         "tracegroupgap": 0
        },
        "margin": {
         "t": 60
        },
        "template": {
         "data": {
          "bar": [
           {
            "error_x": {
             "color": "#2a3f5f"
            },
            "error_y": {
             "color": "#2a3f5f"
            },
            "marker": {
             "line": {
              "color": "#E5ECF6",
              "width": 0.5
             },
             "pattern": {
              "fillmode": "overlay",
              "size": 10,
              "solidity": 0.2
             }
            },
            "type": "bar"
           }
          ],
          "barpolar": [
           {
            "marker": {
             "line": {
              "color": "#E5ECF6",
              "width": 0.5
             },
             "pattern": {
              "fillmode": "overlay",
              "size": 10,
              "solidity": 0.2
             }
            },
            "type": "barpolar"
           }
          ],
          "carpet": [
           {
            "aaxis": {
             "endlinecolor": "#2a3f5f",
             "gridcolor": "white",
             "linecolor": "white",
             "minorgridcolor": "white",
             "startlinecolor": "#2a3f5f"
            },
            "baxis": {
             "endlinecolor": "#2a3f5f",
             "gridcolor": "white",
             "linecolor": "white",
             "minorgridcolor": "white",
             "startlinecolor": "#2a3f5f"
            },
            "type": "carpet"
           }
          ],
          "choropleth": [
           {
            "colorbar": {
             "outlinewidth": 0,
             "ticks": ""
            },
            "type": "choropleth"
           }
          ],
          "contour": [
           {
            "colorbar": {
             "outlinewidth": 0,
             "ticks": ""
            },
            "colorscale": [
             [
              0,
              "#0d0887"
             ],
             [
              0.1111111111111111,
              "#46039f"
             ],
             [
              0.2222222222222222,
              "#7201a8"
             ],
             [
              0.3333333333333333,
              "#9c179e"
             ],
             [
              0.4444444444444444,
              "#bd3786"
             ],
             [
              0.5555555555555556,
              "#d8576b"
             ],
             [
              0.6666666666666666,
              "#ed7953"
             ],
             [
              0.7777777777777778,
              "#fb9f3a"
             ],
             [
              0.8888888888888888,
              "#fdca26"
             ],
             [
              1,
              "#f0f921"
             ]
            ],
            "type": "contour"
           }
          ],
          "contourcarpet": [
           {
            "colorbar": {
             "outlinewidth": 0,
             "ticks": ""
            },
            "type": "contourcarpet"
           }
          ],
          "heatmap": [
           {
            "colorbar": {
             "outlinewidth": 0,
             "ticks": ""
            },
            "colorscale": [
             [
              0,
              "#0d0887"
             ],
             [
              0.1111111111111111,
              "#46039f"
             ],
             [
              0.2222222222222222,
              "#7201a8"
             ],
             [
              0.3333333333333333,
              "#9c179e"
             ],
             [
              0.4444444444444444,
              "#bd3786"
             ],
             [
              0.5555555555555556,
              "#d8576b"
             ],
             [
              0.6666666666666666,
              "#ed7953"
             ],
             [
              0.7777777777777778,
              "#fb9f3a"
             ],
             [
              0.8888888888888888,
              "#fdca26"
             ],
             [
              1,
              "#f0f921"
             ]
            ],
            "type": "heatmap"
           }
          ],
          "heatmapgl": [
           {
            "colorbar": {
             "outlinewidth": 0,
             "ticks": ""
            },
            "colorscale": [
             [
              0,
              "#0d0887"
             ],
             [
              0.1111111111111111,
              "#46039f"
             ],
             [
              0.2222222222222222,
              "#7201a8"
             ],
             [
              0.3333333333333333,
              "#9c179e"
             ],
             [
              0.4444444444444444,
              "#bd3786"
             ],
             [
              0.5555555555555556,
              "#d8576b"
             ],
             [
              0.6666666666666666,
              "#ed7953"
             ],
             [
              0.7777777777777778,
              "#fb9f3a"
             ],
             [
              0.8888888888888888,
              "#fdca26"
             ],
             [
              1,
              "#f0f921"
             ]
            ],
            "type": "heatmapgl"
           }
          ],
          "histogram": [
           {
            "marker": {
             "pattern": {
              "fillmode": "overlay",
              "size": 10,
              "solidity": 0.2
             }
            },
            "type": "histogram"
           }
          ],
          "histogram2d": [
           {
            "colorbar": {
             "outlinewidth": 0,
             "ticks": ""
            },
            "colorscale": [
             [
              0,
              "#0d0887"
             ],
             [
              0.1111111111111111,
              "#46039f"
             ],
             [
              0.2222222222222222,
              "#7201a8"
             ],
             [
              0.3333333333333333,
              "#9c179e"
             ],
             [
              0.4444444444444444,
              "#bd3786"
             ],
             [
              0.5555555555555556,
              "#d8576b"
             ],
             [
              0.6666666666666666,
              "#ed7953"
             ],
             [
              0.7777777777777778,
              "#fb9f3a"
             ],
             [
              0.8888888888888888,
              "#fdca26"
             ],
             [
              1,
              "#f0f921"
             ]
            ],
            "type": "histogram2d"
           }
          ],
          "histogram2dcontour": [
           {
            "colorbar": {
             "outlinewidth": 0,
             "ticks": ""
            },
            "colorscale": [
             [
              0,
              "#0d0887"
             ],
             [
              0.1111111111111111,
              "#46039f"
             ],
             [
              0.2222222222222222,
              "#7201a8"
             ],
             [
              0.3333333333333333,
              "#9c179e"
             ],
             [
              0.4444444444444444,
              "#bd3786"
             ],
             [
              0.5555555555555556,
              "#d8576b"
             ],
             [
              0.6666666666666666,
              "#ed7953"
             ],
             [
              0.7777777777777778,
              "#fb9f3a"
             ],
             [
              0.8888888888888888,
              "#fdca26"
             ],
             [
              1,
              "#f0f921"
             ]
            ],
            "type": "histogram2dcontour"
           }
          ],
          "mesh3d": [
           {
            "colorbar": {
             "outlinewidth": 0,
             "ticks": ""
            },
            "type": "mesh3d"
           }
          ],
          "parcoords": [
           {
            "line": {
             "colorbar": {
              "outlinewidth": 0,
              "ticks": ""
             }
            },
            "type": "parcoords"
           }
          ],
          "pie": [
           {
            "automargin": true,
            "type": "pie"
           }
          ],
          "scatter": [
           {
            "fillpattern": {
             "fillmode": "overlay",
             "size": 10,
             "solidity": 0.2
            },
            "type": "scatter"
           }
          ],
          "scatter3d": [
           {
            "line": {
             "colorbar": {
              "outlinewidth": 0,
              "ticks": ""
             }
            },
            "marker": {
             "colorbar": {
              "outlinewidth": 0,
              "ticks": ""
             }
            },
            "type": "scatter3d"
           }
          ],
          "scattercarpet": [
           {
            "marker": {
             "colorbar": {
              "outlinewidth": 0,
              "ticks": ""
             }
            },
            "type": "scattercarpet"
           }
          ],
          "scattergeo": [
           {
            "marker": {
             "colorbar": {
              "outlinewidth": 0,
              "ticks": ""
             }
            },
            "type": "scattergeo"
           }
          ],
          "scattergl": [
           {
            "marker": {
             "colorbar": {
              "outlinewidth": 0,
              "ticks": ""
             }
            },
            "type": "scattergl"
           }
          ],
          "scattermapbox": [
           {
            "marker": {
             "colorbar": {
              "outlinewidth": 0,
              "ticks": ""
             }
            },
            "type": "scattermapbox"
           }
          ],
          "scatterpolar": [
           {
            "marker": {
             "colorbar": {
              "outlinewidth": 0,
              "ticks": ""
             }
            },
            "type": "scatterpolar"
           }
          ],
          "scatterpolargl": [
           {
            "marker": {
             "colorbar": {
              "outlinewidth": 0,
              "ticks": ""
             }
            },
            "type": "scatterpolargl"
           }
          ],
          "scatterternary": [
           {
            "marker": {
             "colorbar": {
              "outlinewidth": 0,
              "ticks": ""
             }
            },
            "type": "scatterternary"
           }
          ],
          "surface": [
           {
            "colorbar": {
             "outlinewidth": 0,
             "ticks": ""
            },
            "colorscale": [
             [
              0,
              "#0d0887"
             ],
             [
              0.1111111111111111,
              "#46039f"
             ],
             [
              0.2222222222222222,
              "#7201a8"
             ],
             [
              0.3333333333333333,
              "#9c179e"
             ],
             [
              0.4444444444444444,
              "#bd3786"
             ],
             [
              0.5555555555555556,
              "#d8576b"
             ],
             [
              0.6666666666666666,
              "#ed7953"
             ],
             [
              0.7777777777777778,
              "#fb9f3a"
             ],
             [
              0.8888888888888888,
              "#fdca26"
             ],
             [
              1,
              "#f0f921"
             ]
            ],
            "type": "surface"
           }
          ],
          "table": [
           {
            "cells": {
             "fill": {
              "color": "#EBF0F8"
             },
             "line": {
              "color": "white"
             }
            },
            "header": {
             "fill": {
              "color": "#C8D4E3"
             },
             "line": {
              "color": "white"
             }
            },
            "type": "table"
           }
          ]
         },
         "layout": {
          "annotationdefaults": {
           "arrowcolor": "#2a3f5f",
           "arrowhead": 0,
           "arrowwidth": 1
          },
          "autotypenumbers": "strict",
          "coloraxis": {
           "colorbar": {
            "outlinewidth": 0,
            "ticks": ""
           }
          },
          "colorscale": {
           "diverging": [
            [
             0,
             "#8e0152"
            ],
            [
             0.1,
             "#c51b7d"
            ],
            [
             0.2,
             "#de77ae"
            ],
            [
             0.3,
             "#f1b6da"
            ],
            [
             0.4,
             "#fde0ef"
            ],
            [
             0.5,
             "#f7f7f7"
            ],
            [
             0.6,
             "#e6f5d0"
            ],
            [
             0.7,
             "#b8e186"
            ],
            [
             0.8,
             "#7fbc41"
            ],
            [
             0.9,
             "#4d9221"
            ],
            [
             1,
             "#276419"
            ]
           ],
           "sequential": [
            [
             0,
             "#0d0887"
            ],
            [
             0.1111111111111111,
             "#46039f"
            ],
            [
             0.2222222222222222,
             "#7201a8"
            ],
            [
             0.3333333333333333,
             "#9c179e"
            ],
            [
             0.4444444444444444,
             "#bd3786"
            ],
            [
             0.5555555555555556,
             "#d8576b"
            ],
            [
             0.6666666666666666,
             "#ed7953"
            ],
            [
             0.7777777777777778,
             "#fb9f3a"
            ],
            [
             0.8888888888888888,
             "#fdca26"
            ],
            [
             1,
             "#f0f921"
            ]
           ],
           "sequentialminus": [
            [
             0,
             "#0d0887"
            ],
            [
             0.1111111111111111,
             "#46039f"
            ],
            [
             0.2222222222222222,
             "#7201a8"
            ],
            [
             0.3333333333333333,
             "#9c179e"
            ],
            [
             0.4444444444444444,
             "#bd3786"
            ],
            [
             0.5555555555555556,
             "#d8576b"
            ],
            [
             0.6666666666666666,
             "#ed7953"
            ],
            [
             0.7777777777777778,
             "#fb9f3a"
            ],
            [
             0.8888888888888888,
             "#fdca26"
            ],
            [
             1,
             "#f0f921"
            ]
           ]
          },
          "colorway": [
           "#636efa",
           "#EF553B",
           "#00cc96",
           "#ab63fa",
           "#FFA15A",
           "#19d3f3",
           "#FF6692",
           "#B6E880",
           "#FF97FF",
           "#FECB52"
          ],
          "font": {
           "color": "#2a3f5f"
          },
          "geo": {
           "bgcolor": "white",
           "lakecolor": "white",
           "landcolor": "#E5ECF6",
           "showlakes": true,
           "showland": true,
           "subunitcolor": "white"
          },
          "hoverlabel": {
           "align": "left"
          },
          "hovermode": "closest",
          "mapbox": {
           "style": "light"
          },
          "paper_bgcolor": "white",
          "plot_bgcolor": "#E5ECF6",
          "polar": {
           "angularaxis": {
            "gridcolor": "white",
            "linecolor": "white",
            "ticks": ""
           },
           "bgcolor": "#E5ECF6",
           "radialaxis": {
            "gridcolor": "white",
            "linecolor": "white",
            "ticks": ""
           }
          },
          "scene": {
           "xaxis": {
            "backgroundcolor": "#E5ECF6",
            "gridcolor": "white",
            "gridwidth": 2,
            "linecolor": "white",
            "showbackground": true,
            "ticks": "",
            "zerolinecolor": "white"
           },
           "yaxis": {
            "backgroundcolor": "#E5ECF6",
            "gridcolor": "white",
            "gridwidth": 2,
            "linecolor": "white",
            "showbackground": true,
            "ticks": "",
            "zerolinecolor": "white"
           },
           "zaxis": {
            "backgroundcolor": "#E5ECF6",
            "gridcolor": "white",
            "gridwidth": 2,
            "linecolor": "white",
            "showbackground": true,
            "ticks": "",
            "zerolinecolor": "white"
           }
          },
          "shapedefaults": {
           "line": {
            "color": "#2a3f5f"
           }
          },
          "ternary": {
           "aaxis": {
            "gridcolor": "white",
            "linecolor": "white",
            "ticks": ""
           },
           "baxis": {
            "gridcolor": "white",
            "linecolor": "white",
            "ticks": ""
           },
           "bgcolor": "#E5ECF6",
           "caxis": {
            "gridcolor": "white",
            "linecolor": "white",
            "ticks": ""
           }
          },
          "title": {
           "x": 0.05
          },
          "xaxis": {
           "automargin": true,
           "gridcolor": "white",
           "linecolor": "white",
           "ticks": "",
           "title": {
            "standoff": 15
           },
           "zerolinecolor": "white",
           "zerolinewidth": 2
          },
          "yaxis": {
           "automargin": true,
           "gridcolor": "white",
           "linecolor": "white",
           "ticks": "",
           "title": {
            "standoff": 15
           },
           "zerolinecolor": "white",
           "zerolinewidth": 2
          }
         }
        },
        "width": 700,
        "xaxis": {
         "anchor": "y",
         "domain": [
          0,
          1
         ],
         "title": {
          "text": "area_mean"
         }
        },
        "yaxis": {
         "anchor": "x",
         "domain": [
          0,
          1
         ],
         "title": {
          "text": "count"
         }
        }
       }
      }
     },
     "metadata": {},
     "output_type": "display_data"
    }
   ],
   "source": [
    "px.histogram(data_frame = df, x = 'area_mean', color = 'diagnosis', color_discrete_sequence = ['#05445E', '#75E6DA'], width = 700)"
   ]
  },
  {
   "cell_type": "code",
   "execution_count": 7,
   "metadata": {},
   "outputs": [
    {
     "data": {
      "application/vnd.plotly.v1+json": {
       "config": {
        "plotlyServerURL": "https://plot.ly"
       },
       "data": [
        {
         "alignmentgroup": "True",
         "bingroup": "x",
         "hovertemplate": "diagnosis=M<br>radius_mean=%{x}<br>count=%{y}<extra></extra>",
         "legendgroup": "M",
         "marker": {
          "color": "#05445E",
          "pattern": {
           "shape": ""
          }
         },
         "name": "M",
         "offsetgroup": "M",
         "orientation": "v",
         "showlegend": true,
         "type": "histogram",
         "x": [
          17.99,
          20.57,
          19.69,
          11.42,
          20.29,
          12.45,
          18.25,
          13.71,
          13,
          12.46,
          16.02,
          15.78,
          19.17,
          15.85,
          13.73,
          14.54,
          14.68,
          16.13,
          19.81,
          15.34,
          21.16,
          16.65,
          17.14,
          14.58,
          18.61,
          15.3,
          17.57,
          18.63,
          11.84,
          17.02,
          19.27,
          16.13,
          16.74,
          14.25,
          14.99,
          13.48,
          13.44,
          10.95,
          19.07,
          13.28,
          13.17,
          18.65,
          13.17,
          18.22,
          15.1,
          19.21,
          14.71,
          14.25,
          12.68,
          14.78,
          18.94,
          17.2,
          13.8,
          16.07,
          18.05,
          20.18,
          25.22,
          19.1,
          18.46,
          14.48,
          19.02,
          15.37,
          15.06,
          20.26,
          14.42,
          13.61,
          13.11,
          22.27,
          14.87,
          15.78,
          17.95,
          18.66,
          24.25,
          13.61,
          19,
          19.79,
          15.46,
          16.16,
          18.45,
          12.77,
          14.95,
          16.11,
          11.8,
          17.68,
          19.19,
          19.59,
          23.27,
          16.78,
          17.47,
          13.43,
          15.46,
          16.46,
          27.22,
          21.09,
          15.7,
          15.28,
          18.31,
          14.22,
          12.34,
          14.86,
          13.77,
          18.08,
          19.18,
          14.45,
          17.54,
          23.29,
          13.81,
          15.12,
          17.01,
          20.58,
          28.11,
          17.42,
          14.19,
          13.86,
          19.8,
          19.53,
          15.75,
          12.83,
          17.05,
          20.51,
          23.21,
          20.48,
          17.46,
          19.4,
          20.94,
          19.73,
          17.3,
          19.45,
          13.96,
          19.55,
          15.32,
          15.66,
          15.53,
          20.31,
          17.35,
          17.29,
          15.61,
          17.19,
          20.73,
          21.75,
          17.93,
          18.81,
          19.16,
          19.4,
          16.24,
          11.76,
          19.53,
          20.09,
          18.22,
          20.16,
          20.34,
          16.27,
          16.26,
          16.03,
          17.06,
          18.77,
          23.51,
          19.68,
          15.75,
          25.73,
          15.08,
          20.44,
          20.2,
          21.71,
          22.01,
          16.35,
          21.37,
          20.64,
          11.08,
          14.6,
          19.55,
          15.49,
          21.61,
          17.91,
          17.99,
          15.13,
          15.5,
          14.9,
          20.18,
          18.82,
          13.98,
          17.27,
          18.03,
          17.75,
          21.1,
          19.59,
          17.08,
          27.42,
          17.6,
          16.25,
          19.44,
          16.69,
          18.01,
          18.49,
          20.59,
          13.82,
          23.09,
          15.46,
          13.4,
          15.05,
          18.31,
          19.89,
          24.63,
          20.47,
          20.55,
          14.27,
          15.22,
          20.92,
          21.56,
          20.13,
          16.6,
          20.6
         ],
         "xaxis": "x",
         "yaxis": "y"
        },
        {
         "alignmentgroup": "True",
         "bingroup": "x",
         "hovertemplate": "diagnosis=B<br>radius_mean=%{x}<br>count=%{y}<extra></extra>",
         "legendgroup": "B",
         "marker": {
          "color": "#75E6DA",
          "pattern": {
           "shape": ""
          }
         },
         "name": "B",
         "offsetgroup": "B",
         "orientation": "v",
         "showlegend": true,
         "type": "histogram",
         "x": [
          13.54,
          13.08,
          9.504,
          13.03,
          8.196,
          12.05,
          13.49,
          11.76,
          13.64,
          11.94,
          11.52,
          13.05,
          8.618,
          10.17,
          8.598,
          9.173,
          9.465,
          11.31,
          9.029,
          12.78,
          8.888,
          12.31,
          13.53,
          12.86,
          11.45,
          13.34,
          12,
          12.36,
          14.64,
          14.62,
          13.27,
          13.45,
          12.18,
          9.787,
          11.6,
          6.981,
          12.18,
          9.876,
          10.49,
          11.64,
          12.36,
          11.34,
          9.777,
          12.63,
          14.26,
          10.51,
          8.726,
          11.93,
          8.95,
          11.41,
          14.5,
          13.37,
          13.85,
          15.1,
          12.19,
          15.71,
          11.71,
          11.43,
          11.28,
          9.738,
          11.43,
          12.9,
          10.75,
          11.9,
          14.95,
          14.44,
          13.74,
          13,
          8.219,
          9.731,
          11.15,
          13.15,
          12.25,
          16.84,
          12.06,
          10.9,
          11.75,
          12.34,
          14.97,
          10.8,
          14.97,
          12.32,
          11.08,
          10.66,
          8.671,
          9.904,
          13.01,
          12.81,
          11.41,
          10.08,
          11.71,
          11.81,
          12.3,
          12.77,
          9.72,
          12.91,
          12.23,
          12.47,
          9.876,
          13.11,
          15.27,
          11.84,
          11.89,
          10.2,
          13.65,
          13.56,
          10.18,
          13.27,
          14.34,
          10.44,
          15,
          12.62,
          11.32,
          11.22,
          9.567,
          14.03,
          14.22,
          13.64,
          12.42,
          11.3,
          13.75,
          10.48,
          13.2,
          12.89,
          10.65,
          11.52,
          11.5,
          10.6,
          13.59,
          12.87,
          10.71,
          14.29,
          11.29,
          9.742,
          11.89,
          11.33,
          13.59,
          13.85,
          11.74,
          12.89,
          12.58,
          11.94,
          12.89,
          11.26,
          11.37,
          14.41,
          14.96,
          12.95,
          11.85,
          12.72,
          13.77,
          10.91,
          14.26,
          10.51,
          12.46,
          10.49,
          11.46,
          11.6,
          13.2,
          9,
          13.5,
          13.05,
          11.7,
          14.61,
          12.76,
          11.54,
          8.597,
          12.49,
          12.18,
          9.042,
          12.43,
          10.25,
          12.86,
          12.2,
          12.67,
          14.11,
          12.03,
          12.98,
          11.22,
          11.25,
          12.3,
          12.99,
          10.05,
          14.42,
          9.606,
          11.06,
          11.71,
          10.26,
          12.06,
          14.76,
          11.47,
          11.95,
          11.66,
          11.14,
          12.56,
          13.05,
          13.87,
          8.878,
          9.436,
          12.54,
          13.3,
          12.76,
          16.5,
          13.4,
          12.21,
          15.19,
          13.69,
          16.17,
          10.57,
          13.46,
          13.66,
          11.27,
          11.04,
          12.05,
          12.39,
          13.28,
          12.21,
          13.88,
          11.27,
          10.26,
          8.734,
          12.1,
          14.06,
          13.51,
          12.8,
          11.06,
          11.8,
          11.93,
          12.96,
          12.94,
          12.34,
          10.94,
          16.14,
          12.85,
          12.27,
          11.36,
          11.04,
          9.397,
          14.99,
          11.89,
          9.405,
          12.7,
          11.16,
          11.57,
          14.69,
          11.61,
          13.66,
          9.742,
          10.03,
          10.48,
          10.8,
          11.13,
          12.72,
          12.4,
          14.86,
          12.87,
          14.04,
          13.85,
          14.02,
          10.97,
          13.78,
          10.57,
          11.99,
          14.8,
          14.53,
          11.87,
          12,
          14.53,
          12.62,
          13.38,
          11.63,
          13.21,
          13,
          9.755,
          14.4,
          11.6,
          13.17,
          13.24,
          13.14,
          9.668,
          11.62,
          9.667,
          12.04,
          14.92,
          12.27,
          10.88,
          12.83,
          14.2,
          13.9,
          11.49,
          12.16,
          13.9,
          13.47,
          13.7,
          15.73,
          12.45,
          14.64,
          11.68,
          12.25,
          17.85,
          12.46,
          13.16,
          14.87,
          12.65,
          12.47,
          15.04,
          12.54,
          9.268,
          9.676,
          12.22,
          11.06,
          16.3,
          11.74,
          14.81,
          14.58,
          11.34,
          12.88,
          12.75,
          9.295,
          11.26,
          13.71,
          9.847,
          8.571,
          13.46,
          12.34,
          13.94,
          12.07,
          11.75,
          11.67,
          13.68,
          10.96,
          11.69,
          7.729,
          7.691,
          11.54,
          14.47,
          14.74,
          13.21,
          13.87,
          13.62,
          10.32,
          10.26,
          9.683,
          10.82,
          10.86,
          11.13,
          12.77,
          9.333,
          12.88,
          10.29,
          10.16,
          9.423,
          14.59,
          11.51,
          14.05,
          11.2,
          7.76
         ],
         "xaxis": "x",
         "yaxis": "y"
        }
       ],
       "layout": {
        "barmode": "relative",
        "legend": {
         "title": {
          "text": "diagnosis"
         },
         "tracegroupgap": 0
        },
        "margin": {
         "t": 60
        },
        "template": {
         "data": {
          "bar": [
           {
            "error_x": {
             "color": "#2a3f5f"
            },
            "error_y": {
             "color": "#2a3f5f"
            },
            "marker": {
             "line": {
              "color": "#E5ECF6",
              "width": 0.5
             },
             "pattern": {
              "fillmode": "overlay",
              "size": 10,
              "solidity": 0.2
             }
            },
            "type": "bar"
           }
          ],
          "barpolar": [
           {
            "marker": {
             "line": {
              "color": "#E5ECF6",
              "width": 0.5
             },
             "pattern": {
              "fillmode": "overlay",
              "size": 10,
              "solidity": 0.2
             }
            },
            "type": "barpolar"
           }
          ],
          "carpet": [
           {
            "aaxis": {
             "endlinecolor": "#2a3f5f",
             "gridcolor": "white",
             "linecolor": "white",
             "minorgridcolor": "white",
             "startlinecolor": "#2a3f5f"
            },
            "baxis": {
             "endlinecolor": "#2a3f5f",
             "gridcolor": "white",
             "linecolor": "white",
             "minorgridcolor": "white",
             "startlinecolor": "#2a3f5f"
            },
            "type": "carpet"
           }
          ],
          "choropleth": [
           {
            "colorbar": {
             "outlinewidth": 0,
             "ticks": ""
            },
            "type": "choropleth"
           }
          ],
          "contour": [
           {
            "colorbar": {
             "outlinewidth": 0,
             "ticks": ""
            },
            "colorscale": [
             [
              0,
              "#0d0887"
             ],
             [
              0.1111111111111111,
              "#46039f"
             ],
             [
              0.2222222222222222,
              "#7201a8"
             ],
             [
              0.3333333333333333,
              "#9c179e"
             ],
             [
              0.4444444444444444,
              "#bd3786"
             ],
             [
              0.5555555555555556,
              "#d8576b"
             ],
             [
              0.6666666666666666,
              "#ed7953"
             ],
             [
              0.7777777777777778,
              "#fb9f3a"
             ],
             [
              0.8888888888888888,
              "#fdca26"
             ],
             [
              1,
              "#f0f921"
             ]
            ],
            "type": "contour"
           }
          ],
          "contourcarpet": [
           {
            "colorbar": {
             "outlinewidth": 0,
             "ticks": ""
            },
            "type": "contourcarpet"
           }
          ],
          "heatmap": [
           {
            "colorbar": {
             "outlinewidth": 0,
             "ticks": ""
            },
            "colorscale": [
             [
              0,
              "#0d0887"
             ],
             [
              0.1111111111111111,
              "#46039f"
             ],
             [
              0.2222222222222222,
              "#7201a8"
             ],
             [
              0.3333333333333333,
              "#9c179e"
             ],
             [
              0.4444444444444444,
              "#bd3786"
             ],
             [
              0.5555555555555556,
              "#d8576b"
             ],
             [
              0.6666666666666666,
              "#ed7953"
             ],
             [
              0.7777777777777778,
              "#fb9f3a"
             ],
             [
              0.8888888888888888,
              "#fdca26"
             ],
             [
              1,
              "#f0f921"
             ]
            ],
            "type": "heatmap"
           }
          ],
          "heatmapgl": [
           {
            "colorbar": {
             "outlinewidth": 0,
             "ticks": ""
            },
            "colorscale": [
             [
              0,
              "#0d0887"
             ],
             [
              0.1111111111111111,
              "#46039f"
             ],
             [
              0.2222222222222222,
              "#7201a8"
             ],
             [
              0.3333333333333333,
              "#9c179e"
             ],
             [
              0.4444444444444444,
              "#bd3786"
             ],
             [
              0.5555555555555556,
              "#d8576b"
             ],
             [
              0.6666666666666666,
              "#ed7953"
             ],
             [
              0.7777777777777778,
              "#fb9f3a"
             ],
             [
              0.8888888888888888,
              "#fdca26"
             ],
             [
              1,
              "#f0f921"
             ]
            ],
            "type": "heatmapgl"
           }
          ],
          "histogram": [
           {
            "marker": {
             "pattern": {
              "fillmode": "overlay",
              "size": 10,
              "solidity": 0.2
             }
            },
            "type": "histogram"
           }
          ],
          "histogram2d": [
           {
            "colorbar": {
             "outlinewidth": 0,
             "ticks": ""
            },
            "colorscale": [
             [
              0,
              "#0d0887"
             ],
             [
              0.1111111111111111,
              "#46039f"
             ],
             [
              0.2222222222222222,
              "#7201a8"
             ],
             [
              0.3333333333333333,
              "#9c179e"
             ],
             [
              0.4444444444444444,
              "#bd3786"
             ],
             [
              0.5555555555555556,
              "#d8576b"
             ],
             [
              0.6666666666666666,
              "#ed7953"
             ],
             [
              0.7777777777777778,
              "#fb9f3a"
             ],
             [
              0.8888888888888888,
              "#fdca26"
             ],
             [
              1,
              "#f0f921"
             ]
            ],
            "type": "histogram2d"
           }
          ],
          "histogram2dcontour": [
           {
            "colorbar": {
             "outlinewidth": 0,
             "ticks": ""
            },
            "colorscale": [
             [
              0,
              "#0d0887"
             ],
             [
              0.1111111111111111,
              "#46039f"
             ],
             [
              0.2222222222222222,
              "#7201a8"
             ],
             [
              0.3333333333333333,
              "#9c179e"
             ],
             [
              0.4444444444444444,
              "#bd3786"
             ],
             [
              0.5555555555555556,
              "#d8576b"
             ],
             [
              0.6666666666666666,
              "#ed7953"
             ],
             [
              0.7777777777777778,
              "#fb9f3a"
             ],
             [
              0.8888888888888888,
              "#fdca26"
             ],
             [
              1,
              "#f0f921"
             ]
            ],
            "type": "histogram2dcontour"
           }
          ],
          "mesh3d": [
           {
            "colorbar": {
             "outlinewidth": 0,
             "ticks": ""
            },
            "type": "mesh3d"
           }
          ],
          "parcoords": [
           {
            "line": {
             "colorbar": {
              "outlinewidth": 0,
              "ticks": ""
             }
            },
            "type": "parcoords"
           }
          ],
          "pie": [
           {
            "automargin": true,
            "type": "pie"
           }
          ],
          "scatter": [
           {
            "fillpattern": {
             "fillmode": "overlay",
             "size": 10,
             "solidity": 0.2
            },
            "type": "scatter"
           }
          ],
          "scatter3d": [
           {
            "line": {
             "colorbar": {
              "outlinewidth": 0,
              "ticks": ""
             }
            },
            "marker": {
             "colorbar": {
              "outlinewidth": 0,
              "ticks": ""
             }
            },
            "type": "scatter3d"
           }
          ],
          "scattercarpet": [
           {
            "marker": {
             "colorbar": {
              "outlinewidth": 0,
              "ticks": ""
             }
            },
            "type": "scattercarpet"
           }
          ],
          "scattergeo": [
           {
            "marker": {
             "colorbar": {
              "outlinewidth": 0,
              "ticks": ""
             }
            },
            "type": "scattergeo"
           }
          ],
          "scattergl": [
           {
            "marker": {
             "colorbar": {
              "outlinewidth": 0,
              "ticks": ""
             }
            },
            "type": "scattergl"
           }
          ],
          "scattermapbox": [
           {
            "marker": {
             "colorbar": {
              "outlinewidth": 0,
              "ticks": ""
             }
            },
            "type": "scattermapbox"
           }
          ],
          "scatterpolar": [
           {
            "marker": {
             "colorbar": {
              "outlinewidth": 0,
              "ticks": ""
             }
            },
            "type": "scatterpolar"
           }
          ],
          "scatterpolargl": [
           {
            "marker": {
             "colorbar": {
              "outlinewidth": 0,
              "ticks": ""
             }
            },
            "type": "scatterpolargl"
           }
          ],
          "scatterternary": [
           {
            "marker": {
             "colorbar": {
              "outlinewidth": 0,
              "ticks": ""
             }
            },
            "type": "scatterternary"
           }
          ],
          "surface": [
           {
            "colorbar": {
             "outlinewidth": 0,
             "ticks": ""
            },
            "colorscale": [
             [
              0,
              "#0d0887"
             ],
             [
              0.1111111111111111,
              "#46039f"
             ],
             [
              0.2222222222222222,
              "#7201a8"
             ],
             [
              0.3333333333333333,
              "#9c179e"
             ],
             [
              0.4444444444444444,
              "#bd3786"
             ],
             [
              0.5555555555555556,
              "#d8576b"
             ],
             [
              0.6666666666666666,
              "#ed7953"
             ],
             [
              0.7777777777777778,
              "#fb9f3a"
             ],
             [
              0.8888888888888888,
              "#fdca26"
             ],
             [
              1,
              "#f0f921"
             ]
            ],
            "type": "surface"
           }
          ],
          "table": [
           {
            "cells": {
             "fill": {
              "color": "#EBF0F8"
             },
             "line": {
              "color": "white"
             }
            },
            "header": {
             "fill": {
              "color": "#C8D4E3"
             },
             "line": {
              "color": "white"
             }
            },
            "type": "table"
           }
          ]
         },
         "layout": {
          "annotationdefaults": {
           "arrowcolor": "#2a3f5f",
           "arrowhead": 0,
           "arrowwidth": 1
          },
          "autotypenumbers": "strict",
          "coloraxis": {
           "colorbar": {
            "outlinewidth": 0,
            "ticks": ""
           }
          },
          "colorscale": {
           "diverging": [
            [
             0,
             "#8e0152"
            ],
            [
             0.1,
             "#c51b7d"
            ],
            [
             0.2,
             "#de77ae"
            ],
            [
             0.3,
             "#f1b6da"
            ],
            [
             0.4,
             "#fde0ef"
            ],
            [
             0.5,
             "#f7f7f7"
            ],
            [
             0.6,
             "#e6f5d0"
            ],
            [
             0.7,
             "#b8e186"
            ],
            [
             0.8,
             "#7fbc41"
            ],
            [
             0.9,
             "#4d9221"
            ],
            [
             1,
             "#276419"
            ]
           ],
           "sequential": [
            [
             0,
             "#0d0887"
            ],
            [
             0.1111111111111111,
             "#46039f"
            ],
            [
             0.2222222222222222,
             "#7201a8"
            ],
            [
             0.3333333333333333,
             "#9c179e"
            ],
            [
             0.4444444444444444,
             "#bd3786"
            ],
            [
             0.5555555555555556,
             "#d8576b"
            ],
            [
             0.6666666666666666,
             "#ed7953"
            ],
            [
             0.7777777777777778,
             "#fb9f3a"
            ],
            [
             0.8888888888888888,
             "#fdca26"
            ],
            [
             1,
             "#f0f921"
            ]
           ],
           "sequentialminus": [
            [
             0,
             "#0d0887"
            ],
            [
             0.1111111111111111,
             "#46039f"
            ],
            [
             0.2222222222222222,
             "#7201a8"
            ],
            [
             0.3333333333333333,
             "#9c179e"
            ],
            [
             0.4444444444444444,
             "#bd3786"
            ],
            [
             0.5555555555555556,
             "#d8576b"
            ],
            [
             0.6666666666666666,
             "#ed7953"
            ],
            [
             0.7777777777777778,
             "#fb9f3a"
            ],
            [
             0.8888888888888888,
             "#fdca26"
            ],
            [
             1,
             "#f0f921"
            ]
           ]
          },
          "colorway": [
           "#636efa",
           "#EF553B",
           "#00cc96",
           "#ab63fa",
           "#FFA15A",
           "#19d3f3",
           "#FF6692",
           "#B6E880",
           "#FF97FF",
           "#FECB52"
          ],
          "font": {
           "color": "#2a3f5f"
          },
          "geo": {
           "bgcolor": "white",
           "lakecolor": "white",
           "landcolor": "#E5ECF6",
           "showlakes": true,
           "showland": true,
           "subunitcolor": "white"
          },
          "hoverlabel": {
           "align": "left"
          },
          "hovermode": "closest",
          "mapbox": {
           "style": "light"
          },
          "paper_bgcolor": "white",
          "plot_bgcolor": "#E5ECF6",
          "polar": {
           "angularaxis": {
            "gridcolor": "white",
            "linecolor": "white",
            "ticks": ""
           },
           "bgcolor": "#E5ECF6",
           "radialaxis": {
            "gridcolor": "white",
            "linecolor": "white",
            "ticks": ""
           }
          },
          "scene": {
           "xaxis": {
            "backgroundcolor": "#E5ECF6",
            "gridcolor": "white",
            "gridwidth": 2,
            "linecolor": "white",
            "showbackground": true,
            "ticks": "",
            "zerolinecolor": "white"
           },
           "yaxis": {
            "backgroundcolor": "#E5ECF6",
            "gridcolor": "white",
            "gridwidth": 2,
            "linecolor": "white",
            "showbackground": true,
            "ticks": "",
            "zerolinecolor": "white"
           },
           "zaxis": {
            "backgroundcolor": "#E5ECF6",
            "gridcolor": "white",
            "gridwidth": 2,
            "linecolor": "white",
            "showbackground": true,
            "ticks": "",
            "zerolinecolor": "white"
           }
          },
          "shapedefaults": {
           "line": {
            "color": "#2a3f5f"
           }
          },
          "ternary": {
           "aaxis": {
            "gridcolor": "white",
            "linecolor": "white",
            "ticks": ""
           },
           "baxis": {
            "gridcolor": "white",
            "linecolor": "white",
            "ticks": ""
           },
           "bgcolor": "#E5ECF6",
           "caxis": {
            "gridcolor": "white",
            "linecolor": "white",
            "ticks": ""
           }
          },
          "title": {
           "x": 0.05
          },
          "xaxis": {
           "automargin": true,
           "gridcolor": "white",
           "linecolor": "white",
           "ticks": "",
           "title": {
            "standoff": 15
           },
           "zerolinecolor": "white",
           "zerolinewidth": 2
          },
          "yaxis": {
           "automargin": true,
           "gridcolor": "white",
           "linecolor": "white",
           "ticks": "",
           "title": {
            "standoff": 15
           },
           "zerolinecolor": "white",
           "zerolinewidth": 2
          }
         }
        },
        "width": 700,
        "xaxis": {
         "anchor": "y",
         "domain": [
          0,
          1
         ],
         "title": {
          "text": "radius_mean"
         }
        },
        "yaxis": {
         "anchor": "x",
         "domain": [
          0,
          1
         ],
         "title": {
          "text": "count"
         }
        }
       }
      }
     },
     "metadata": {},
     "output_type": "display_data"
    }
   ],
   "source": [
    "px.histogram(data_frame = df, x = 'radius_mean', color = 'diagnosis', color_discrete_sequence = ['#05445E', '#75E6DA'], width = 700)"
   ]
  },
  {
   "cell_type": "code",
   "execution_count": 8,
   "metadata": {},
   "outputs": [
    {
     "data": {
      "application/vnd.plotly.v1+json": {
       "config": {
        "plotlyServerURL": "https://plot.ly"
       },
       "data": [
        {
         "alignmentgroup": "True",
         "bingroup": "x",
         "hovertemplate": "diagnosis=M<br>smoothness_mean=%{x}<br>count=%{y}<extra></extra>",
         "legendgroup": "M",
         "marker": {
          "color": "#05445E",
          "pattern": {
           "shape": ""
          }
         },
         "name": "M",
         "offsetgroup": "M",
         "orientation": "v",
         "showlegend": true,
         "type": "histogram",
         "x": [
          0.1184,
          0.08474,
          0.1096,
          0.1425,
          0.1003,
          0.1278,
          0.09463,
          0.1189,
          0.1273,
          0.1186,
          0.08206,
          0.0971,
          0.0974,
          0.08401,
          0.1131,
          0.1139,
          0.09867,
          0.117,
          0.09831,
          0.1073,
          0.09428,
          0.1121,
          0.1186,
          0.1054,
          0.0944,
          0.1082,
          0.09847,
          0.1064,
          0.1109,
          0.1197,
          0.09401,
          0.104,
          0.0961,
          0.09823,
          0.09387,
          0.1016,
          0.08162,
          0.1227,
          0.09081,
          0.1041,
          0.09714,
          0.1099,
          0.1158,
          0.1148,
          0.09056,
          0.1053,
          0.1137,
          0.1049,
          0.1122,
          0.1172,
          0.09009,
          0.1071,
          0.1007,
          0.09168,
          0.1065,
          0.1286,
          0.1063,
          0.1215,
          0.09874,
          0.09444,
          0.09029,
          0.092,
          0.1039,
          0.09078,
          0.09752,
          0.09488,
          0.1398,
          0.1326,
          0.1162,
          0.1155,
          0.08402,
          0.1054,
          0.1447,
          0.09258,
          0.08217,
          0.1015,
          0.1092,
          0.1008,
          0.0943,
          0.09055,
          0.1167,
          0.09721,
          0.1091,
          0.1115,
          0.08694,
          0.112,
          0.08439,
          0.08865,
          0.1049,
          0.09048,
          0.1257,
          0.09831,
          0.1094,
          0.1141,
          0.09597,
          0.09057,
          0.08588,
          0.1075,
          0.1034,
          0.1044,
          0.12,
          0.07371,
          0.08523,
          0.09872,
          0.08968,
          0.1141,
          0.1323,
          0.08876,
          0.08772,
          0.0909,
          0.1142,
          0.1006,
          0.09463,
          0.1026,
          0.09383,
          0.0842,
          0.1025,
          0.1088,
          0.1141,
          0.09159,
          0.09509,
          0.08355,
          0.09812,
          0.1027,
          0.1007,
          0.1062,
          0.1008,
          0.1035,
          0.1096,
          0.0926,
          0.1335,
          0.1109,
          0.1063,
          0.1,
          0.08662,
          0.08999,
          0.0784,
          0.09726,
          0.09469,
          0.09401,
          0.08855,
          0.08923,
          0.102,
          0.1037,
          0.1066,
          0.09968,
          0.115,
          0.108,
          0.09746,
          0.0802,
          0.117,
          0.1169,
          0.1165,
          0.09491,
          0.1119,
          0.09116,
          0.1069,
          0.09797,
          0.1243,
          0.1149,
          0.1024,
          0.0915,
          0.09905,
          0.09384,
          0.1063,
          0.09742,
          0.1001,
          0.09446,
          0.1216,
          0.08682,
          0.101,
          0.116,
          0.1167,
          0.123,
          0.1036,
          0.0832,
          0.112,
          0.09947,
          0.1133,
          0.1018,
          0.106,
          0.08331,
          0.08947,
          0.09997,
          0.09684,
          0.1032,
          0.09898,
          0.1084,
          0.09289,
          0.1026,
          0.1089,
          0.07497,
          0.1001,
          0.1012,
          0.1085,
          0.1162,
          0.09342,
          0.1183,
          0.1106,
          0.09215,
          0.1068,
          0.1037,
          0.103,
          0.09156,
          0.1046,
          0.1038,
          0.1048,
          0.1099,
          0.111,
          0.0978,
          0.08455,
          0.1178
         ],
         "xaxis": "x",
         "yaxis": "y"
        },
        {
         "alignmentgroup": "True",
         "bingroup": "x",
         "hovertemplate": "diagnosis=B<br>smoothness_mean=%{x}<br>count=%{y}<extra></extra>",
         "legendgroup": "B",
         "marker": {
          "color": "#75E6DA",
          "pattern": {
           "shape": ""
          }
         },
         "name": "B",
         "offsetgroup": "B",
         "orientation": "v",
         "showlegend": true,
         "type": "histogram",
         "x": [
          0.09779,
          0.1075,
          0.1024,
          0.08983,
          0.086,
          0.1031,
          0.08752,
          0.08637,
          0.07685,
          0.08261,
          0.09524,
          0.0806,
          0.09752,
          0.1134,
          0.1243,
          0.07721,
          0.1044,
          0.08139,
          0.1066,
          0.09831,
          0.09783,
          0.09172,
          0.1291,
          0.09934,
          0.1102,
          0.1078,
          0.09723,
          0.08772,
          0.1132,
          0.08974,
          0.07355,
          0.1022,
          0.1045,
          0.1024,
          0.08983,
          0.117,
          0.08013,
          0.1005,
          0.09989,
          0.1142,
          0.08477,
          0.08759,
          0.1037,
          0.09933,
          0.07837,
          0.1122,
          0.115,
          0.09768,
          0.09462,
          0.09373,
          0.1101,
          0.07115,
          0.08785,
          0.115,
          0.1066,
          0.09462,
          0.1051,
          0.09639,
          0.1164,
          0.0925,
          0.1092,
          0.08677,
          0.07793,
          0.1152,
          0.08138,
          0.0997,
          0.07944,
          0.1135,
          0.09405,
          0.1072,
          0.09754,
          0.09384,
          0.08654,
          0.07445,
          0.09311,
          0.07515,
          0.1089,
          0.1012,
          0.08421,
          0.09594,
          0.09855,
          0.1028,
          0.1006,
          0.08792,
          0.09138,
          0.09699,
          0.06251,
          0.08739,
          0.09059,
          0.09267,
          0.09774,
          0.1007,
          0.0808,
          0.08749,
          0.0695,
          0.07941,
          0.09586,
          0.09965,
          0.1089,
          0.1002,
          0.08182,
          0.08871,
          0.09363,
          0.08054,
          0.09646,
          0.1051,
          0.1061,
          0.08445,
          0.09906,
          0.1053,
          0.08371,
          0.07903,
          0.06883,
          0.0778,
          0.08464,
          0.0907,
          0.08223,
          0.09423,
          0.07926,
          0.09592,
          0.08043,
          0.107,
          0.07215,
          0.0876,
          0.09657,
          0.1013,
          0.09345,
          0.09688,
          0.07956,
          0.09425,
          0.1082,
          0.06429,
          0.09834,
          0.09037,
          0.1225,
          0.09379,
          0.07948,
          0.09516,
          0.07813,
          0.07818,
          0.08393,
          0.08605,
          0.06955,
          0.0802,
          0.08713,
          0.08757,
          0.08992,
          0.1005,
          0.08372,
          0.09667,
          0.09198,
          0.08518,
          0.06576,
          0.1015,
          0.08451,
          0.1068,
          0.08853,
          0.07474,
          0.08511,
          0.07005,
          0.07376,
          0.08352,
          0.08814,
          0.07618,
          0.08794,
          0.08597,
          0.1074,
          0.08511,
          0.07734,
          0.09968,
          0.07557,
          0.1061,
          0.1134,
          0.08673,
          0.1028,
          0.09309,
          0.07683,
          0.09579,
          0.1054,
          0.08306,
          0.08313,
          0.09462,
          0.1007,
          0.09751,
          0.08481,
          0.1033,
          0.115,
          0.09882,
          0.08386,
          0.08875,
          0.09076,
          0.1158,
          0.07561,
          0.07274,
          0.0876,
          0.1082,
          0.08743,
          0.08293,
          0.1009,
          0.07436,
          0.08582,
          0.09676,
          0.09686,
          0.07937,
          0.09231,
          0.07963,
          0.08302,
          0.0988,
          0.09073,
          0.07517,
          0.08268,
          0.1237,
          0.07987,
          0.06935,
          0.1042,
          0.08363,
          0.08108,
          0.07026,
          0.08365,
          0.09996,
          0.1039,
          0.1029,
          0.08045,
          0.1059,
          0.08044,
          0.07741,
          0.09087,
          0.08872,
          0.07351,
          0.09879,
          0.08682,
          0.1004,
          0.09495,
          0.07551,
          0.08685,
          0.08858,
          0.1077,
          0.07969,
          0.08515,
          0.09773,
          0.1044,
          0.08785,
          0.1018,
          0.08546,
          0.1031,
          0.1088,
          0.09057,
          0.1075,
          0.08117,
          0.09816,
          0.08801,
          0.08151,
          0.07896,
          0.1054,
          0.08924,
          0.09136,
          0.08458,
          0.08684,
          0.07966,
          0.08915,
          0.08817,
          0.08142,
          0.103,
          0.09179,
          0.08388,
          0.06613,
          0.08437,
          0.1099,
          0.08583,
          0.09245,
          0.09357,
          0.08791,
          0.08369,
          0.07984,
          0.06995,
          0.08508,
          0.07466,
          0.08284,
          0.08675,
          0.08311,
          0.1175,
          0.08946,
          0.08752,
          0.08098,
          0.07699,
          0.1007,
          0.0904,
          0.08931,
          0.06828,
          0.1046,
          0.09087,
          0.07991,
          0.1071,
          0.0995,
          0.1043,
          0.09514,
          0.08641,
          0.1128,
          0.08192,
          0.07838,
          0.07372,
          0.07335,
          0.09587,
          0.1076,
          0.08928,
          0.09883,
          0.1158,
          0.1634,
          0.1255,
          0.1096,
          0.1194,
          0.09427,
          0.08099,
          0.08472,
          0.09832,
          0.1049,
          0.1218,
          0.1125,
          0.1371,
          0.08511,
          0.09916,
          0.09492,
          0.1036,
          0.1075,
          0.09003,
          0.1248,
          0.11,
          0.1073,
          0.1016,
          0.09277,
          0.09687,
          0.1236,
          0.08098,
          0.08668,
          0.09984,
          0.08837,
          0.08275,
          0.08671,
          0.09578,
          0.09246,
          0.09434,
          0.08877,
          0.08491,
          0.08192,
          0.07431,
          0.09566,
          0.08276,
          0.0924,
          0.08123,
          0.0903,
          0.1003,
          0.08123,
          0.08473,
          0.09261,
          0.09929,
          0.07449,
          0.05263
         ],
         "xaxis": "x",
         "yaxis": "y"
        }
       ],
       "layout": {
        "barmode": "relative",
        "legend": {
         "title": {
          "text": "diagnosis"
         },
         "tracegroupgap": 0
        },
        "margin": {
         "t": 60
        },
        "template": {
         "data": {
          "bar": [
           {
            "error_x": {
             "color": "#2a3f5f"
            },
            "error_y": {
             "color": "#2a3f5f"
            },
            "marker": {
             "line": {
              "color": "#E5ECF6",
              "width": 0.5
             },
             "pattern": {
              "fillmode": "overlay",
              "size": 10,
              "solidity": 0.2
             }
            },
            "type": "bar"
           }
          ],
          "barpolar": [
           {
            "marker": {
             "line": {
              "color": "#E5ECF6",
              "width": 0.5
             },
             "pattern": {
              "fillmode": "overlay",
              "size": 10,
              "solidity": 0.2
             }
            },
            "type": "barpolar"
           }
          ],
          "carpet": [
           {
            "aaxis": {
             "endlinecolor": "#2a3f5f",
             "gridcolor": "white",
             "linecolor": "white",
             "minorgridcolor": "white",
             "startlinecolor": "#2a3f5f"
            },
            "baxis": {
             "endlinecolor": "#2a3f5f",
             "gridcolor": "white",
             "linecolor": "white",
             "minorgridcolor": "white",
             "startlinecolor": "#2a3f5f"
            },
            "type": "carpet"
           }
          ],
          "choropleth": [
           {
            "colorbar": {
             "outlinewidth": 0,
             "ticks": ""
            },
            "type": "choropleth"
           }
          ],
          "contour": [
           {
            "colorbar": {
             "outlinewidth": 0,
             "ticks": ""
            },
            "colorscale": [
             [
              0,
              "#0d0887"
             ],
             [
              0.1111111111111111,
              "#46039f"
             ],
             [
              0.2222222222222222,
              "#7201a8"
             ],
             [
              0.3333333333333333,
              "#9c179e"
             ],
             [
              0.4444444444444444,
              "#bd3786"
             ],
             [
              0.5555555555555556,
              "#d8576b"
             ],
             [
              0.6666666666666666,
              "#ed7953"
             ],
             [
              0.7777777777777778,
              "#fb9f3a"
             ],
             [
              0.8888888888888888,
              "#fdca26"
             ],
             [
              1,
              "#f0f921"
             ]
            ],
            "type": "contour"
           }
          ],
          "contourcarpet": [
           {
            "colorbar": {
             "outlinewidth": 0,
             "ticks": ""
            },
            "type": "contourcarpet"
           }
          ],
          "heatmap": [
           {
            "colorbar": {
             "outlinewidth": 0,
             "ticks": ""
            },
            "colorscale": [
             [
              0,
              "#0d0887"
             ],
             [
              0.1111111111111111,
              "#46039f"
             ],
             [
              0.2222222222222222,
              "#7201a8"
             ],
             [
              0.3333333333333333,
              "#9c179e"
             ],
             [
              0.4444444444444444,
              "#bd3786"
             ],
             [
              0.5555555555555556,
              "#d8576b"
             ],
             [
              0.6666666666666666,
              "#ed7953"
             ],
             [
              0.7777777777777778,
              "#fb9f3a"
             ],
             [
              0.8888888888888888,
              "#fdca26"
             ],
             [
              1,
              "#f0f921"
             ]
            ],
            "type": "heatmap"
           }
          ],
          "heatmapgl": [
           {
            "colorbar": {
             "outlinewidth": 0,
             "ticks": ""
            },
            "colorscale": [
             [
              0,
              "#0d0887"
             ],
             [
              0.1111111111111111,
              "#46039f"
             ],
             [
              0.2222222222222222,
              "#7201a8"
             ],
             [
              0.3333333333333333,
              "#9c179e"
             ],
             [
              0.4444444444444444,
              "#bd3786"
             ],
             [
              0.5555555555555556,
              "#d8576b"
             ],
             [
              0.6666666666666666,
              "#ed7953"
             ],
             [
              0.7777777777777778,
              "#fb9f3a"
             ],
             [
              0.8888888888888888,
              "#fdca26"
             ],
             [
              1,
              "#f0f921"
             ]
            ],
            "type": "heatmapgl"
           }
          ],
          "histogram": [
           {
            "marker": {
             "pattern": {
              "fillmode": "overlay",
              "size": 10,
              "solidity": 0.2
             }
            },
            "type": "histogram"
           }
          ],
          "histogram2d": [
           {
            "colorbar": {
             "outlinewidth": 0,
             "ticks": ""
            },
            "colorscale": [
             [
              0,
              "#0d0887"
             ],
             [
              0.1111111111111111,
              "#46039f"
             ],
             [
              0.2222222222222222,
              "#7201a8"
             ],
             [
              0.3333333333333333,
              "#9c179e"
             ],
             [
              0.4444444444444444,
              "#bd3786"
             ],
             [
              0.5555555555555556,
              "#d8576b"
             ],
             [
              0.6666666666666666,
              "#ed7953"
             ],
             [
              0.7777777777777778,
              "#fb9f3a"
             ],
             [
              0.8888888888888888,
              "#fdca26"
             ],
             [
              1,
              "#f0f921"
             ]
            ],
            "type": "histogram2d"
           }
          ],
          "histogram2dcontour": [
           {
            "colorbar": {
             "outlinewidth": 0,
             "ticks": ""
            },
            "colorscale": [
             [
              0,
              "#0d0887"
             ],
             [
              0.1111111111111111,
              "#46039f"
             ],
             [
              0.2222222222222222,
              "#7201a8"
             ],
             [
              0.3333333333333333,
              "#9c179e"
             ],
             [
              0.4444444444444444,
              "#bd3786"
             ],
             [
              0.5555555555555556,
              "#d8576b"
             ],
             [
              0.6666666666666666,
              "#ed7953"
             ],
             [
              0.7777777777777778,
              "#fb9f3a"
             ],
             [
              0.8888888888888888,
              "#fdca26"
             ],
             [
              1,
              "#f0f921"
             ]
            ],
            "type": "histogram2dcontour"
           }
          ],
          "mesh3d": [
           {
            "colorbar": {
             "outlinewidth": 0,
             "ticks": ""
            },
            "type": "mesh3d"
           }
          ],
          "parcoords": [
           {
            "line": {
             "colorbar": {
              "outlinewidth": 0,
              "ticks": ""
             }
            },
            "type": "parcoords"
           }
          ],
          "pie": [
           {
            "automargin": true,
            "type": "pie"
           }
          ],
          "scatter": [
           {
            "fillpattern": {
             "fillmode": "overlay",
             "size": 10,
             "solidity": 0.2
            },
            "type": "scatter"
           }
          ],
          "scatter3d": [
           {
            "line": {
             "colorbar": {
              "outlinewidth": 0,
              "ticks": ""
             }
            },
            "marker": {
             "colorbar": {
              "outlinewidth": 0,
              "ticks": ""
             }
            },
            "type": "scatter3d"
           }
          ],
          "scattercarpet": [
           {
            "marker": {
             "colorbar": {
              "outlinewidth": 0,
              "ticks": ""
             }
            },
            "type": "scattercarpet"
           }
          ],
          "scattergeo": [
           {
            "marker": {
             "colorbar": {
              "outlinewidth": 0,
              "ticks": ""
             }
            },
            "type": "scattergeo"
           }
          ],
          "scattergl": [
           {
            "marker": {
             "colorbar": {
              "outlinewidth": 0,
              "ticks": ""
             }
            },
            "type": "scattergl"
           }
          ],
          "scattermapbox": [
           {
            "marker": {
             "colorbar": {
              "outlinewidth": 0,
              "ticks": ""
             }
            },
            "type": "scattermapbox"
           }
          ],
          "scatterpolar": [
           {
            "marker": {
             "colorbar": {
              "outlinewidth": 0,
              "ticks": ""
             }
            },
            "type": "scatterpolar"
           }
          ],
          "scatterpolargl": [
           {
            "marker": {
             "colorbar": {
              "outlinewidth": 0,
              "ticks": ""
             }
            },
            "type": "scatterpolargl"
           }
          ],
          "scatterternary": [
           {
            "marker": {
             "colorbar": {
              "outlinewidth": 0,
              "ticks": ""
             }
            },
            "type": "scatterternary"
           }
          ],
          "surface": [
           {
            "colorbar": {
             "outlinewidth": 0,
             "ticks": ""
            },
            "colorscale": [
             [
              0,
              "#0d0887"
             ],
             [
              0.1111111111111111,
              "#46039f"
             ],
             [
              0.2222222222222222,
              "#7201a8"
             ],
             [
              0.3333333333333333,
              "#9c179e"
             ],
             [
              0.4444444444444444,
              "#bd3786"
             ],
             [
              0.5555555555555556,
              "#d8576b"
             ],
             [
              0.6666666666666666,
              "#ed7953"
             ],
             [
              0.7777777777777778,
              "#fb9f3a"
             ],
             [
              0.8888888888888888,
              "#fdca26"
             ],
             [
              1,
              "#f0f921"
             ]
            ],
            "type": "surface"
           }
          ],
          "table": [
           {
            "cells": {
             "fill": {
              "color": "#EBF0F8"
             },
             "line": {
              "color": "white"
             }
            },
            "header": {
             "fill": {
              "color": "#C8D4E3"
             },
             "line": {
              "color": "white"
             }
            },
            "type": "table"
           }
          ]
         },
         "layout": {
          "annotationdefaults": {
           "arrowcolor": "#2a3f5f",
           "arrowhead": 0,
           "arrowwidth": 1
          },
          "autotypenumbers": "strict",
          "coloraxis": {
           "colorbar": {
            "outlinewidth": 0,
            "ticks": ""
           }
          },
          "colorscale": {
           "diverging": [
            [
             0,
             "#8e0152"
            ],
            [
             0.1,
             "#c51b7d"
            ],
            [
             0.2,
             "#de77ae"
            ],
            [
             0.3,
             "#f1b6da"
            ],
            [
             0.4,
             "#fde0ef"
            ],
            [
             0.5,
             "#f7f7f7"
            ],
            [
             0.6,
             "#e6f5d0"
            ],
            [
             0.7,
             "#b8e186"
            ],
            [
             0.8,
             "#7fbc41"
            ],
            [
             0.9,
             "#4d9221"
            ],
            [
             1,
             "#276419"
            ]
           ],
           "sequential": [
            [
             0,
             "#0d0887"
            ],
            [
             0.1111111111111111,
             "#46039f"
            ],
            [
             0.2222222222222222,
             "#7201a8"
            ],
            [
             0.3333333333333333,
             "#9c179e"
            ],
            [
             0.4444444444444444,
             "#bd3786"
            ],
            [
             0.5555555555555556,
             "#d8576b"
            ],
            [
             0.6666666666666666,
             "#ed7953"
            ],
            [
             0.7777777777777778,
             "#fb9f3a"
            ],
            [
             0.8888888888888888,
             "#fdca26"
            ],
            [
             1,
             "#f0f921"
            ]
           ],
           "sequentialminus": [
            [
             0,
             "#0d0887"
            ],
            [
             0.1111111111111111,
             "#46039f"
            ],
            [
             0.2222222222222222,
             "#7201a8"
            ],
            [
             0.3333333333333333,
             "#9c179e"
            ],
            [
             0.4444444444444444,
             "#bd3786"
            ],
            [
             0.5555555555555556,
             "#d8576b"
            ],
            [
             0.6666666666666666,
             "#ed7953"
            ],
            [
             0.7777777777777778,
             "#fb9f3a"
            ],
            [
             0.8888888888888888,
             "#fdca26"
            ],
            [
             1,
             "#f0f921"
            ]
           ]
          },
          "colorway": [
           "#636efa",
           "#EF553B",
           "#00cc96",
           "#ab63fa",
           "#FFA15A",
           "#19d3f3",
           "#FF6692",
           "#B6E880",
           "#FF97FF",
           "#FECB52"
          ],
          "font": {
           "color": "#2a3f5f"
          },
          "geo": {
           "bgcolor": "white",
           "lakecolor": "white",
           "landcolor": "#E5ECF6",
           "showlakes": true,
           "showland": true,
           "subunitcolor": "white"
          },
          "hoverlabel": {
           "align": "left"
          },
          "hovermode": "closest",
          "mapbox": {
           "style": "light"
          },
          "paper_bgcolor": "white",
          "plot_bgcolor": "#E5ECF6",
          "polar": {
           "angularaxis": {
            "gridcolor": "white",
            "linecolor": "white",
            "ticks": ""
           },
           "bgcolor": "#E5ECF6",
           "radialaxis": {
            "gridcolor": "white",
            "linecolor": "white",
            "ticks": ""
           }
          },
          "scene": {
           "xaxis": {
            "backgroundcolor": "#E5ECF6",
            "gridcolor": "white",
            "gridwidth": 2,
            "linecolor": "white",
            "showbackground": true,
            "ticks": "",
            "zerolinecolor": "white"
           },
           "yaxis": {
            "backgroundcolor": "#E5ECF6",
            "gridcolor": "white",
            "gridwidth": 2,
            "linecolor": "white",
            "showbackground": true,
            "ticks": "",
            "zerolinecolor": "white"
           },
           "zaxis": {
            "backgroundcolor": "#E5ECF6",
            "gridcolor": "white",
            "gridwidth": 2,
            "linecolor": "white",
            "showbackground": true,
            "ticks": "",
            "zerolinecolor": "white"
           }
          },
          "shapedefaults": {
           "line": {
            "color": "#2a3f5f"
           }
          },
          "ternary": {
           "aaxis": {
            "gridcolor": "white",
            "linecolor": "white",
            "ticks": ""
           },
           "baxis": {
            "gridcolor": "white",
            "linecolor": "white",
            "ticks": ""
           },
           "bgcolor": "#E5ECF6",
           "caxis": {
            "gridcolor": "white",
            "linecolor": "white",
            "ticks": ""
           }
          },
          "title": {
           "x": 0.05
          },
          "xaxis": {
           "automargin": true,
           "gridcolor": "white",
           "linecolor": "white",
           "ticks": "",
           "title": {
            "standoff": 15
           },
           "zerolinecolor": "white",
           "zerolinewidth": 2
          },
          "yaxis": {
           "automargin": true,
           "gridcolor": "white",
           "linecolor": "white",
           "ticks": "",
           "title": {
            "standoff": 15
           },
           "zerolinecolor": "white",
           "zerolinewidth": 2
          }
         }
        },
        "width": 700,
        "xaxis": {
         "anchor": "y",
         "domain": [
          0,
          1
         ],
         "title": {
          "text": "smoothness_mean"
         }
        },
        "yaxis": {
         "anchor": "x",
         "domain": [
          0,
          1
         ],
         "title": {
          "text": "count"
         }
        }
       }
      }
     },
     "metadata": {},
     "output_type": "display_data"
    }
   ],
   "source": [
    "px.histogram(data_frame = df, x = 'smoothness_mean', color = 'diagnosis', color_discrete_sequence = ['#05445E', '#75E6DA'], width = 700)"
   ]
  },
  {
   "cell_type": "code",
   "execution_count": 9,
   "metadata": {},
   "outputs": [
    {
     "data": {
      "application/vnd.plotly.v1+json": {
       "config": {
        "plotlyServerURL": "https://plot.ly"
       },
       "data": [
        {
         "hovertemplate": "diagnosis=M<br>symmetry_worst=%{x}<br>index=%{y}<extra></extra>",
         "legendgroup": "M",
         "marker": {
          "color": "#05445E",
          "symbol": "circle"
         },
         "mode": "markers",
         "name": "M",
         "orientation": "h",
         "showlegend": true,
         "type": "scatter",
         "x": [
          0.4601,
          0.275,
          0.3613,
          0.6638,
          0.2364,
          0.3985,
          0.3063,
          0.3196,
          0.4378,
          0.4366,
          0.2948,
          0.3792,
          0.3176,
          0.2809,
          0.3596,
          0.4218,
          0.3029,
          0.3706,
          0.2768,
          0.4667,
          0.2822,
          0.3613,
          0.4066,
          0.4264,
          0.2341,
          0.4027,
          0.2756,
          0.3444,
          0.4761,
          0.353,
          0.3672,
          0.427,
          0.4863,
          0.3591,
          0.1565,
          0.2807,
          0.2994,
          0.2964,
          0.467,
          0.3739,
          0.3693,
          0.3799,
          0.39,
          0.3021,
          0.2675,
          0.3537,
          0.3698,
          0.2844,
          0.3383,
          0.3321,
          0.2551,
          0.3313,
          0.2589,
          0.265,
          0.3751,
          0.544,
          0.2355,
          0.2311,
          0.3695,
          0.302,
          0.3956,
          0.2556,
          0.2834,
          0.3689,
          0.2718,
          0.2651,
          0.3147,
          0.4055,
          0.3585,
          0.3274,
          0.4882,
          0.2894,
          0.3222,
          0.347,
          0.2841,
          0.3305,
          0.2837,
          0.348,
          0.3109,
          0.2829,
          0.3414,
          0.2792,
          0.5774,
          0.2463,
          0.2443,
          0.3643,
          0.3589,
          0.281,
          0.216,
          0.2884,
          0.3216,
          0.3054,
          0.2856,
          0.4098,
          0.3437,
          0.3175,
          0.3206,
          0.5166,
          0.3215,
          0.3,
          0.308,
          0.2369,
          0.3193,
          0.4753,
          0.2928,
          0.3198,
          0.4432,
          0.3415,
          0.3275,
          0.2909,
          0.1648,
          0.1603,
          0.4724,
          0.363,
          0.307,
          0.2713,
          0.3993,
          0.3407,
          0.3109,
          0.2437,
          0.3103,
          0.2238,
          0.2853,
          0.292,
          0.3126,
          0.2749,
          0.3138,
          0.3379,
          0.3068,
          0.2818,
          0.3258,
          0.3277,
          0.3512,
          0.3151,
          0.2452,
          0.3067,
          0.2683,
          0.3216,
          0.2868,
          0.2833,
          0.2504,
          0.2567,
          0.3258,
          0.359,
          0.277,
          0.1978,
          0.2968,
          0.3294,
          0.2812,
          0.3055,
          0.5558,
          0.3103,
          0.2736,
          0.3019,
          0.2623,
          0.3679,
          0.2593,
          0.4045,
          0.4245,
          0.369,
          0.2654,
          0.2609,
          0.3271,
          0.251,
          0.2741,
          0.4824,
          0.273,
          0.2689,
          0.4154,
          0.2477,
          0.2576,
          0.3187,
          0.3828,
          0.3245,
          0.306,
          0.3233,
          0.3003,
          0.2866,
          0.3032,
          0.3007,
          0.3179,
          0.25,
          0.2842,
          0.2972,
          0.2268,
          0.2293,
          0.301,
          0.2641,
          0.2301,
          0.3318,
          0.3266,
          0.4677,
          0.3251,
          0.251,
          0.248,
          0.3651,
          0.2908,
          0.3013,
          0.3585,
          0.2282,
          0.3074,
          0.2549,
          0.3157,
          0.322,
          0.3077,
          0.2698,
          0.4089,
          0.2929,
          0.206,
          0.2572,
          0.2218,
          0.4087
         ],
         "xaxis": "x",
         "y": [
          0,
          1,
          2,
          3,
          4,
          5,
          6,
          7,
          8,
          9,
          10,
          11,
          12,
          13,
          14,
          15,
          16,
          17,
          18,
          22,
          23,
          24,
          25,
          26,
          27,
          28,
          29,
          30,
          31,
          32,
          33,
          34,
          35,
          36,
          38,
          39,
          40,
          41,
          42,
          43,
          44,
          45,
          47,
          53,
          54,
          56,
          57,
          62,
          64,
          65,
          70,
          72,
          73,
          75,
          77,
          78,
          82,
          83,
          85,
          86,
          87,
          91,
          94,
          95,
          99,
          100,
          105,
          108,
          117,
          118,
          119,
          121,
          122,
          126,
          127,
          129,
          131,
          132,
          134,
          135,
          138,
          141,
          146,
          156,
          161,
          162,
          164,
          167,
          168,
          171,
          172,
          177,
          180,
          181,
          182,
          184,
          186,
          190,
          193,
          194,
          196,
          197,
          198,
          199,
          201,
          202,
          203,
          205,
          207,
          210,
          212,
          213,
          214,
          215,
          218,
          219,
          223,
          229,
          230,
          233,
          236,
          237,
          239,
          244,
          250,
          252,
          253,
          254,
          255,
          256,
          257,
          258,
          259,
          260,
          261,
          262,
          263,
          264,
          265,
          272,
          274,
          277,
          280,
          282,
          283,
          297,
          300,
          302,
          317,
          321,
          323,
          328,
          329,
          330,
          335,
          337,
          339,
          343,
          351,
          352,
          353,
          365,
          366,
          368,
          369,
          370,
          372,
          373,
          379,
          385,
          389,
          392,
          393,
          400,
          408,
          414,
          417,
          430,
          432,
          433,
          435,
          441,
          444,
          446,
          449,
          451,
          460,
          461,
          468,
          479,
          487,
          489,
          492,
          498,
          499,
          501,
          503,
          509,
          512,
          514,
          516,
          517,
          521,
          533,
          535,
          536,
          562,
          563,
          564,
          565,
          566,
          567
         ],
         "yaxis": "y"
        },
        {
         "hovertemplate": "diagnosis=B<br>symmetry_worst=%{x}<br>index=%{y}<extra></extra>",
         "legendgroup": "B",
         "marker": {
          "color": "#75E6DA",
          "symbol": "circle"
         },
         "mode": "markers",
         "name": "B",
         "orientation": "h",
         "showlegend": true,
         "type": "scatter",
         "x": [
          0.2977,
          0.3184,
          0.245,
          0.1987,
          0.3105,
          0.2747,
          0.2871,
          0.2433,
          0.2346,
          0.2785,
          0.3306,
          0.2439,
          0.322,
          0.3557,
          0.2972,
          0.3282,
          0.2878,
          0.24,
          0.4228,
          0.2383,
          0.2254,
          0.2618,
          0.271,
          0.2779,
          0.2762,
          0.3527,
          0.3379,
          0.2972,
          0.3151,
          0.2522,
          0.2027,
          0.2678,
          0.2227,
          0.1934,
          0.2772,
          0.2932,
          0.2694,
          0.2622,
          0.2826,
          0.2806,
          0.2983,
          0.2829,
          0.2533,
          0.2226,
          0.2398,
          0.2383,
          0.2926,
          0.2438,
          0.1652,
          0.3016,
          0.2889,
          0.2048,
          0.2364,
          0.259,
          0.3469,
          0.2723,
          0.1712,
          0.2676,
          0.2102,
          0.3105,
          0.2584,
          0.3549,
          0.23,
          0.2727,
          0.2852,
          0.2691,
          0.235,
          0.3196,
          0.3322,
          0.3108,
          0.2859,
          0.3849,
          0.3113,
          0.2527,
          0.2514,
          0.2738,
          0.3168,
          0.2268,
          0.2646,
          0.209,
          0.2404,
          0.2827,
          0.1902,
          0.271,
          0.2592,
          0.2614,
          0.2295,
          0.1783,
          0.1811,
          0.2933,
          0.2572,
          0.32,
          0.2482,
          0.2179,
          0.1909,
          0.3024,
          0.2668,
          0.3014,
          0.2989,
          0.4128,
          0.232,
          0.2535,
          0.3397,
          0.2868,
          0.238,
          0.3065,
          0.3055,
          0.2506,
          0.3062,
          0.2615,
          0.2954,
          0.2826,
          0.2849,
          0.2911,
          0.2757,
          0.2226,
          0.189,
          0.253,
          0.2901,
          0.3308,
          0.2663,
          0.2883,
          0.2767,
          0.2639,
          0.3409,
          0.2664,
          0.274,
          0.294,
          0.2446,
          0.3604,
          0.2605,
          0.2458,
          0.2733,
          0.2841,
          0.222,
          0.2758,
          0.2335,
          0.2955,
          0.3101,
          0.1999,
          0.2505,
          0.2465,
          0.2309,
          0.2955,
          0.3267,
          0.2272,
          0.2962,
          0.338,
          0.3101,
          0.2369,
          0.2823,
          0.2143,
          0.2636,
          0.2227,
          0.2685,
          0.2213,
          0.2208,
          0.3244,
          0.2651,
          0.2991,
          0.2267,
          0.2107,
          0.3487,
          0.253,
          0.2564,
          0.339,
          0.3142,
          0.1917,
          0.2293,
          0.3135,
          0.1901,
          0.2608,
          0.2382,
          0.2661,
          0.2688,
          0.21,
          0.2171,
          0.3596,
          0.3292,
          0.2815,
          0.2554,
          0.2432,
          0.2894,
          0.3053,
          0.2982,
          0.3301,
          0.2765,
          0.2434,
          0.288,
          0.3109,
          0.2851,
          0.3124,
          0.2731,
          0.2576,
          0.2121,
          0.3113,
          0.2362,
          0.2434,
          0.2454,
          0.2233,
          0.2637,
          0.2744,
          0.2394,
          0.2741,
          0.3218,
          0.2487,
          0.3323,
          0.3153,
          0.2597,
          0.2694,
          0.3387,
          0.3343,
          0.3202,
          0.2191,
          0.2819,
          0.2736,
          0.2677,
          0.2542,
          0.2157,
          0.2937,
          0.2445,
          0.3049,
          0.2523,
          0.2666,
          0.1988,
          0.259,
          0.2779,
          0.246,
          0.3207,
          0.3297,
          0.2298,
          0.2251,
          0.2778,
          0.2488,
          0.3455,
          0.2973,
          0.2998,
          0.2376,
          0.3163,
          0.3075,
          0.2872,
          0.2775,
          0.2976,
          0.3035,
          0.2827,
          0.2787,
          0.2744,
          0.3196,
          0.2349,
          0.302,
          0.2965,
          0.2383,
          0.2165,
          0.2556,
          0.2525,
          0.3313,
          0.2725,
          0.2513,
          0.2136,
          0.254,
          0.1859,
          0.2699,
          0.2599,
          0.36,
          0.2471,
          0.2305,
          0.2447,
          0.2606,
          0.327,
          0.2196,
          0.2884,
          0.2444,
          0.2306,
          0.2321,
          0.2345,
          0.321,
          0.2235,
          0.2845,
          0.2563,
          0.3057,
          0.266,
          0.3174,
          0.2404,
          0.2688,
          0.2409,
          0.2581,
          0.3006,
          0.2534,
          0.2679,
          0.2941,
          0.2406,
          0.2356,
          0.3227,
          0.2518,
          0.2557,
          0.3231,
          0.2455,
          0.2804,
          0.31,
          0.1783,
          0.228,
          0.2687,
          0.2369,
          0.323,
          0.3035,
          0.2177,
          0.3155,
          0.3038,
          0.2848,
          0.2709,
          0.278,
          0.23,
          0.2604,
          0.2334,
          0.2626,
          0.306,
          0.2582,
          0.3071,
          0.3681,
          0.2557,
          0.2849,
          0.2502,
          0.2983,
          0.3518,
          0.311,
          0.216,
          0.2781,
          0.2478,
          0.3206,
          0.2806,
          0.2289,
          0.2803,
          0.3058,
          0.279,
          0.2329,
          0.3187,
          0.2722,
          0.2473,
          0.2249,
          0.2642,
          0.2681,
          0.2691,
          0.2552,
          0.3059,
          0.2458,
          0.3169,
          0.2407,
          0.2435,
          0.2372,
          0.2226,
          0.2262,
          0.2475,
          0.2258,
          0.2112,
          0.225,
          0.1566,
          0.2871
         ],
         "xaxis": "x",
         "y": [
          19,
          20,
          21,
          37,
          46,
          48,
          49,
          50,
          51,
          52,
          55,
          58,
          59,
          60,
          61,
          63,
          66,
          67,
          68,
          69,
          71,
          74,
          76,
          79,
          80,
          81,
          84,
          88,
          89,
          90,
          92,
          93,
          96,
          97,
          98,
          101,
          102,
          103,
          104,
          106,
          107,
          109,
          110,
          111,
          112,
          113,
          114,
          115,
          116,
          120,
          123,
          124,
          125,
          128,
          130,
          133,
          136,
          137,
          139,
          140,
          142,
          143,
          144,
          145,
          147,
          148,
          149,
          150,
          151,
          152,
          153,
          154,
          155,
          157,
          158,
          159,
          160,
          163,
          165,
          166,
          169,
          170,
          173,
          174,
          175,
          176,
          178,
          179,
          183,
          185,
          187,
          188,
          189,
          191,
          192,
          195,
          200,
          204,
          206,
          208,
          209,
          211,
          216,
          217,
          220,
          221,
          222,
          224,
          225,
          226,
          227,
          228,
          231,
          232,
          234,
          235,
          238,
          240,
          241,
          242,
          243,
          245,
          246,
          247,
          248,
          249,
          251,
          266,
          267,
          268,
          269,
          270,
          271,
          273,
          275,
          276,
          278,
          279,
          281,
          284,
          285,
          286,
          287,
          288,
          289,
          290,
          291,
          292,
          293,
          294,
          295,
          296,
          298,
          299,
          301,
          303,
          304,
          305,
          306,
          307,
          308,
          309,
          310,
          311,
          312,
          313,
          314,
          315,
          316,
          318,
          319,
          320,
          322,
          324,
          325,
          326,
          327,
          331,
          332,
          333,
          334,
          336,
          338,
          340,
          341,
          342,
          344,
          345,
          346,
          347,
          348,
          349,
          350,
          354,
          355,
          356,
          357,
          358,
          359,
          360,
          361,
          362,
          363,
          364,
          367,
          371,
          374,
          375,
          376,
          377,
          378,
          380,
          381,
          382,
          383,
          384,
          386,
          387,
          388,
          390,
          391,
          394,
          395,
          396,
          397,
          398,
          399,
          401,
          402,
          403,
          404,
          405,
          406,
          407,
          409,
          410,
          411,
          412,
          413,
          415,
          416,
          418,
          419,
          420,
          421,
          422,
          423,
          424,
          425,
          426,
          427,
          428,
          429,
          431,
          434,
          436,
          437,
          438,
          439,
          440,
          442,
          443,
          445,
          447,
          448,
          450,
          452,
          453,
          454,
          455,
          456,
          457,
          458,
          459,
          462,
          463,
          464,
          465,
          466,
          467,
          469,
          470,
          471,
          472,
          473,
          474,
          475,
          476,
          477,
          478,
          480,
          481,
          482,
          483,
          484,
          485,
          486,
          488,
          490,
          491,
          493,
          494,
          495,
          496,
          497,
          500,
          502,
          504,
          505,
          506,
          507,
          508,
          510,
          511,
          513,
          515,
          518,
          519,
          520,
          522,
          523,
          524,
          525,
          526,
          527,
          528,
          529,
          530,
          531,
          532,
          534,
          537,
          538,
          539,
          540,
          541,
          542,
          543,
          544,
          545,
          546,
          547,
          548,
          549,
          550,
          551,
          552,
          553,
          554,
          555,
          556,
          557,
          558,
          559,
          560,
          561,
          568
         ],
         "yaxis": "y"
        }
       ],
       "layout": {
        "legend": {
         "title": {
          "text": "diagnosis"
         },
         "tracegroupgap": 0
        },
        "margin": {
         "t": 60
        },
        "template": {
         "data": {
          "bar": [
           {
            "error_x": {
             "color": "#2a3f5f"
            },
            "error_y": {
             "color": "#2a3f5f"
            },
            "marker": {
             "line": {
              "color": "#E5ECF6",
              "width": 0.5
             },
             "pattern": {
              "fillmode": "overlay",
              "size": 10,
              "solidity": 0.2
             }
            },
            "type": "bar"
           }
          ],
          "barpolar": [
           {
            "marker": {
             "line": {
              "color": "#E5ECF6",
              "width": 0.5
             },
             "pattern": {
              "fillmode": "overlay",
              "size": 10,
              "solidity": 0.2
             }
            },
            "type": "barpolar"
           }
          ],
          "carpet": [
           {
            "aaxis": {
             "endlinecolor": "#2a3f5f",
             "gridcolor": "white",
             "linecolor": "white",
             "minorgridcolor": "white",
             "startlinecolor": "#2a3f5f"
            },
            "baxis": {
             "endlinecolor": "#2a3f5f",
             "gridcolor": "white",
             "linecolor": "white",
             "minorgridcolor": "white",
             "startlinecolor": "#2a3f5f"
            },
            "type": "carpet"
           }
          ],
          "choropleth": [
           {
            "colorbar": {
             "outlinewidth": 0,
             "ticks": ""
            },
            "type": "choropleth"
           }
          ],
          "contour": [
           {
            "colorbar": {
             "outlinewidth": 0,
             "ticks": ""
            },
            "colorscale": [
             [
              0,
              "#0d0887"
             ],
             [
              0.1111111111111111,
              "#46039f"
             ],
             [
              0.2222222222222222,
              "#7201a8"
             ],
             [
              0.3333333333333333,
              "#9c179e"
             ],
             [
              0.4444444444444444,
              "#bd3786"
             ],
             [
              0.5555555555555556,
              "#d8576b"
             ],
             [
              0.6666666666666666,
              "#ed7953"
             ],
             [
              0.7777777777777778,
              "#fb9f3a"
             ],
             [
              0.8888888888888888,
              "#fdca26"
             ],
             [
              1,
              "#f0f921"
             ]
            ],
            "type": "contour"
           }
          ],
          "contourcarpet": [
           {
            "colorbar": {
             "outlinewidth": 0,
             "ticks": ""
            },
            "type": "contourcarpet"
           }
          ],
          "heatmap": [
           {
            "colorbar": {
             "outlinewidth": 0,
             "ticks": ""
            },
            "colorscale": [
             [
              0,
              "#0d0887"
             ],
             [
              0.1111111111111111,
              "#46039f"
             ],
             [
              0.2222222222222222,
              "#7201a8"
             ],
             [
              0.3333333333333333,
              "#9c179e"
             ],
             [
              0.4444444444444444,
              "#bd3786"
             ],
             [
              0.5555555555555556,
              "#d8576b"
             ],
             [
              0.6666666666666666,
              "#ed7953"
             ],
             [
              0.7777777777777778,
              "#fb9f3a"
             ],
             [
              0.8888888888888888,
              "#fdca26"
             ],
             [
              1,
              "#f0f921"
             ]
            ],
            "type": "heatmap"
           }
          ],
          "heatmapgl": [
           {
            "colorbar": {
             "outlinewidth": 0,
             "ticks": ""
            },
            "colorscale": [
             [
              0,
              "#0d0887"
             ],
             [
              0.1111111111111111,
              "#46039f"
             ],
             [
              0.2222222222222222,
              "#7201a8"
             ],
             [
              0.3333333333333333,
              "#9c179e"
             ],
             [
              0.4444444444444444,
              "#bd3786"
             ],
             [
              0.5555555555555556,
              "#d8576b"
             ],
             [
              0.6666666666666666,
              "#ed7953"
             ],
             [
              0.7777777777777778,
              "#fb9f3a"
             ],
             [
              0.8888888888888888,
              "#fdca26"
             ],
             [
              1,
              "#f0f921"
             ]
            ],
            "type": "heatmapgl"
           }
          ],
          "histogram": [
           {
            "marker": {
             "pattern": {
              "fillmode": "overlay",
              "size": 10,
              "solidity": 0.2
             }
            },
            "type": "histogram"
           }
          ],
          "histogram2d": [
           {
            "colorbar": {
             "outlinewidth": 0,
             "ticks": ""
            },
            "colorscale": [
             [
              0,
              "#0d0887"
             ],
             [
              0.1111111111111111,
              "#46039f"
             ],
             [
              0.2222222222222222,
              "#7201a8"
             ],
             [
              0.3333333333333333,
              "#9c179e"
             ],
             [
              0.4444444444444444,
              "#bd3786"
             ],
             [
              0.5555555555555556,
              "#d8576b"
             ],
             [
              0.6666666666666666,
              "#ed7953"
             ],
             [
              0.7777777777777778,
              "#fb9f3a"
             ],
             [
              0.8888888888888888,
              "#fdca26"
             ],
             [
              1,
              "#f0f921"
             ]
            ],
            "type": "histogram2d"
           }
          ],
          "histogram2dcontour": [
           {
            "colorbar": {
             "outlinewidth": 0,
             "ticks": ""
            },
            "colorscale": [
             [
              0,
              "#0d0887"
             ],
             [
              0.1111111111111111,
              "#46039f"
             ],
             [
              0.2222222222222222,
              "#7201a8"
             ],
             [
              0.3333333333333333,
              "#9c179e"
             ],
             [
              0.4444444444444444,
              "#bd3786"
             ],
             [
              0.5555555555555556,
              "#d8576b"
             ],
             [
              0.6666666666666666,
              "#ed7953"
             ],
             [
              0.7777777777777778,
              "#fb9f3a"
             ],
             [
              0.8888888888888888,
              "#fdca26"
             ],
             [
              1,
              "#f0f921"
             ]
            ],
            "type": "histogram2dcontour"
           }
          ],
          "mesh3d": [
           {
            "colorbar": {
             "outlinewidth": 0,
             "ticks": ""
            },
            "type": "mesh3d"
           }
          ],
          "parcoords": [
           {
            "line": {
             "colorbar": {
              "outlinewidth": 0,
              "ticks": ""
             }
            },
            "type": "parcoords"
           }
          ],
          "pie": [
           {
            "automargin": true,
            "type": "pie"
           }
          ],
          "scatter": [
           {
            "fillpattern": {
             "fillmode": "overlay",
             "size": 10,
             "solidity": 0.2
            },
            "type": "scatter"
           }
          ],
          "scatter3d": [
           {
            "line": {
             "colorbar": {
              "outlinewidth": 0,
              "ticks": ""
             }
            },
            "marker": {
             "colorbar": {
              "outlinewidth": 0,
              "ticks": ""
             }
            },
            "type": "scatter3d"
           }
          ],
          "scattercarpet": [
           {
            "marker": {
             "colorbar": {
              "outlinewidth": 0,
              "ticks": ""
             }
            },
            "type": "scattercarpet"
           }
          ],
          "scattergeo": [
           {
            "marker": {
             "colorbar": {
              "outlinewidth": 0,
              "ticks": ""
             }
            },
            "type": "scattergeo"
           }
          ],
          "scattergl": [
           {
            "marker": {
             "colorbar": {
              "outlinewidth": 0,
              "ticks": ""
             }
            },
            "type": "scattergl"
           }
          ],
          "scattermapbox": [
           {
            "marker": {
             "colorbar": {
              "outlinewidth": 0,
              "ticks": ""
             }
            },
            "type": "scattermapbox"
           }
          ],
          "scatterpolar": [
           {
            "marker": {
             "colorbar": {
              "outlinewidth": 0,
              "ticks": ""
             }
            },
            "type": "scatterpolar"
           }
          ],
          "scatterpolargl": [
           {
            "marker": {
             "colorbar": {
              "outlinewidth": 0,
              "ticks": ""
             }
            },
            "type": "scatterpolargl"
           }
          ],
          "scatterternary": [
           {
            "marker": {
             "colorbar": {
              "outlinewidth": 0,
              "ticks": ""
             }
            },
            "type": "scatterternary"
           }
          ],
          "surface": [
           {
            "colorbar": {
             "outlinewidth": 0,
             "ticks": ""
            },
            "colorscale": [
             [
              0,
              "#0d0887"
             ],
             [
              0.1111111111111111,
              "#46039f"
             ],
             [
              0.2222222222222222,
              "#7201a8"
             ],
             [
              0.3333333333333333,
              "#9c179e"
             ],
             [
              0.4444444444444444,
              "#bd3786"
             ],
             [
              0.5555555555555556,
              "#d8576b"
             ],
             [
              0.6666666666666666,
              "#ed7953"
             ],
             [
              0.7777777777777778,
              "#fb9f3a"
             ],
             [
              0.8888888888888888,
              "#fdca26"
             ],
             [
              1,
              "#f0f921"
             ]
            ],
            "type": "surface"
           }
          ],
          "table": [
           {
            "cells": {
             "fill": {
              "color": "#EBF0F8"
             },
             "line": {
              "color": "white"
             }
            },
            "header": {
             "fill": {
              "color": "#C8D4E3"
             },
             "line": {
              "color": "white"
             }
            },
            "type": "table"
           }
          ]
         },
         "layout": {
          "annotationdefaults": {
           "arrowcolor": "#2a3f5f",
           "arrowhead": 0,
           "arrowwidth": 1
          },
          "autotypenumbers": "strict",
          "coloraxis": {
           "colorbar": {
            "outlinewidth": 0,
            "ticks": ""
           }
          },
          "colorscale": {
           "diverging": [
            [
             0,
             "#8e0152"
            ],
            [
             0.1,
             "#c51b7d"
            ],
            [
             0.2,
             "#de77ae"
            ],
            [
             0.3,
             "#f1b6da"
            ],
            [
             0.4,
             "#fde0ef"
            ],
            [
             0.5,
             "#f7f7f7"
            ],
            [
             0.6,
             "#e6f5d0"
            ],
            [
             0.7,
             "#b8e186"
            ],
            [
             0.8,
             "#7fbc41"
            ],
            [
             0.9,
             "#4d9221"
            ],
            [
             1,
             "#276419"
            ]
           ],
           "sequential": [
            [
             0,
             "#0d0887"
            ],
            [
             0.1111111111111111,
             "#46039f"
            ],
            [
             0.2222222222222222,
             "#7201a8"
            ],
            [
             0.3333333333333333,
             "#9c179e"
            ],
            [
             0.4444444444444444,
             "#bd3786"
            ],
            [
             0.5555555555555556,
             "#d8576b"
            ],
            [
             0.6666666666666666,
             "#ed7953"
            ],
            [
             0.7777777777777778,
             "#fb9f3a"
            ],
            [
             0.8888888888888888,
             "#fdca26"
            ],
            [
             1,
             "#f0f921"
            ]
           ],
           "sequentialminus": [
            [
             0,
             "#0d0887"
            ],
            [
             0.1111111111111111,
             "#46039f"
            ],
            [
             0.2222222222222222,
             "#7201a8"
            ],
            [
             0.3333333333333333,
             "#9c179e"
            ],
            [
             0.4444444444444444,
             "#bd3786"
            ],
            [
             0.5555555555555556,
             "#d8576b"
            ],
            [
             0.6666666666666666,
             "#ed7953"
            ],
            [
             0.7777777777777778,
             "#fb9f3a"
            ],
            [
             0.8888888888888888,
             "#fdca26"
            ],
            [
             1,
             "#f0f921"
            ]
           ]
          },
          "colorway": [
           "#636efa",
           "#EF553B",
           "#00cc96",
           "#ab63fa",
           "#FFA15A",
           "#19d3f3",
           "#FF6692",
           "#B6E880",
           "#FF97FF",
           "#FECB52"
          ],
          "font": {
           "color": "#2a3f5f"
          },
          "geo": {
           "bgcolor": "white",
           "lakecolor": "white",
           "landcolor": "#E5ECF6",
           "showlakes": true,
           "showland": true,
           "subunitcolor": "white"
          },
          "hoverlabel": {
           "align": "left"
          },
          "hovermode": "closest",
          "mapbox": {
           "style": "light"
          },
          "paper_bgcolor": "white",
          "plot_bgcolor": "#E5ECF6",
          "polar": {
           "angularaxis": {
            "gridcolor": "white",
            "linecolor": "white",
            "ticks": ""
           },
           "bgcolor": "#E5ECF6",
           "radialaxis": {
            "gridcolor": "white",
            "linecolor": "white",
            "ticks": ""
           }
          },
          "scene": {
           "xaxis": {
            "backgroundcolor": "#E5ECF6",
            "gridcolor": "white",
            "gridwidth": 2,
            "linecolor": "white",
            "showbackground": true,
            "ticks": "",
            "zerolinecolor": "white"
           },
           "yaxis": {
            "backgroundcolor": "#E5ECF6",
            "gridcolor": "white",
            "gridwidth": 2,
            "linecolor": "white",
            "showbackground": true,
            "ticks": "",
            "zerolinecolor": "white"
           },
           "zaxis": {
            "backgroundcolor": "#E5ECF6",
            "gridcolor": "white",
            "gridwidth": 2,
            "linecolor": "white",
            "showbackground": true,
            "ticks": "",
            "zerolinecolor": "white"
           }
          },
          "shapedefaults": {
           "line": {
            "color": "#2a3f5f"
           }
          },
          "ternary": {
           "aaxis": {
            "gridcolor": "white",
            "linecolor": "white",
            "ticks": ""
           },
           "baxis": {
            "gridcolor": "white",
            "linecolor": "white",
            "ticks": ""
           },
           "bgcolor": "#E5ECF6",
           "caxis": {
            "gridcolor": "white",
            "linecolor": "white",
            "ticks": ""
           }
          },
          "title": {
           "x": 0.05
          },
          "xaxis": {
           "automargin": true,
           "gridcolor": "white",
           "linecolor": "white",
           "ticks": "",
           "title": {
            "standoff": 15
           },
           "zerolinecolor": "white",
           "zerolinewidth": 2
          },
          "yaxis": {
           "automargin": true,
           "gridcolor": "white",
           "linecolor": "white",
           "ticks": "",
           "title": {
            "standoff": 15
           },
           "zerolinecolor": "white",
           "zerolinewidth": 2
          }
         }
        },
        "width": 800,
        "xaxis": {
         "anchor": "y",
         "domain": [
          0,
          1
         ],
         "title": {
          "text": "symmetry_worst"
         }
        },
        "yaxis": {
         "anchor": "x",
         "domain": [
          0,
          1
         ],
         "title": {
          "text": "index"
         }
        }
       }
      }
     },
     "metadata": {},
     "output_type": "display_data"
    }
   ],
   "source": [
    "px.scatter(data_frame = df, x = 'symmetry_worst', color = 'diagnosis', color_discrete_sequence = ['#05445E', '#75E6DA'], width = 800)"
   ]
  },
  {
   "cell_type": "code",
   "execution_count": 10,
   "metadata": {},
   "outputs": [
    {
     "data": {
      "application/vnd.plotly.v1+json": {
       "config": {
        "plotlyServerURL": "https://plot.ly"
       },
       "data": [
        {
         "hovertemplate": "diagnosis=M<br>concavity_worst=%{x}<br>index=%{y}<extra></extra>",
         "legendgroup": "M",
         "marker": {
          "color": "#05445E",
          "symbol": "circle"
         },
         "mode": "markers",
         "name": "M",
         "orientation": "h",
         "showlegend": true,
         "type": "scatter",
         "x": [
          0.7119,
          0.2416,
          0.4504,
          0.6869,
          0.4,
          0.5355,
          0.3784,
          0.2678,
          0.539,
          1.105,
          0.1459,
          0.3965,
          0.3639,
          0.2322,
          0.6943,
          0.7026,
          0.2914,
          0.4784,
          0.5372,
          0.6305,
          0.3155,
          0.4695,
          0.3853,
          0.5539,
          0.3446,
          0.6335,
          0.2489,
          0.6133,
          0.6956,
          0.5588,
          0.6091,
          0.5274,
          0.5409,
          0.5186,
          0.02398,
          0.503,
          0.2085,
          0.4023,
          0.7242,
          0.3664,
          0.3728,
          0.7345,
          0.5006,
          0.2623,
          0.2712,
          0.3879,
          0.3587,
          0.6922,
          0.4024,
          0.3024,
          0.2687,
          0.6566,
          0.2779,
          0.2829,
          0.3786,
          0.7681,
          0.6476,
          0.2432,
          0.3157,
          0.3349,
          0.5755,
          0.2846,
          0.5203,
          0.4098,
          0.3194,
          0.3169,
          0.6376,
          0.9608,
          0.4704,
          0.7356,
          0.2249,
          0.3272,
          0.5803,
          0.3796,
          0.3207,
          0.5673,
          0.3791,
          0.2992,
          0.3965,
          0.2177,
          0.3355,
          0.2802,
          0.4504,
          0.3583,
          0.2264,
          0.681,
          0.3948,
          0.2318,
          0.489,
          0.2644,
          0.583,
          0.5862,
          0.534,
          0.678,
          0.2902,
          0.363,
          0.3538,
          0.8488,
          0.4425,
          0.4589,
          0.3809,
          0.2535,
          0.3865,
          0.4967,
          0.3508,
          0.7892,
          0.4646,
          0.3327,
          0.1932,
          0.3861,
          0.3201,
          0.2803,
          0.3744,
          0.4636,
          0.3617,
          0.3995,
          0.3976,
          0.6282,
          0.5018,
          0.4146,
          0.582,
          0.3158,
          0.3241,
          0.3458,
          0.6991,
          0.8489,
          0.3378,
          0.4317,
          0.3209,
          0.4251,
          0.4429,
          0.6181,
          0.5703,
          0.3788,
          0.1211,
          0.2298,
          0.226,
          0.3889,
          0.3442,
          0.5807,
          0.208,
          0.221,
          0.5754,
          0.4316,
          0.5026,
          0.0612,
          0.6121,
          0.4932,
          0.3853,
          0.2606,
          0.5344,
          0.3597,
          0.3344,
          0.4956,
          0.392,
          0.4634,
          0.4819,
          0.4734,
          0.6872,
          0.6451,
          0.4029,
          0.2702,
          0.3703,
          0.2861,
          0.4756,
          0.7087,
          0.4024,
          0.4159,
          0.8402,
          0.2675,
          0.3829,
          0.5553,
          0.7053,
          0.9034,
          0.3301,
          0.1547,
          0.4211,
          0.9019,
          0.5308,
          0.3912,
          0.4069,
          0.5036,
          0.429,
          0.6399,
          0.4399,
          0.3977,
          0.2639,
          0.6833,
          0.5165,
          0.5897,
          0.5936,
          0.2477,
          0.2544,
          0.3533,
          0.5179,
          0.3381,
          0.3794,
          0.5911,
          0.5106,
          0.2866,
          0.3759,
          0.4185,
          0.4658,
          0.3092,
          0.4433,
          0.4234,
          1.17,
          0.6599,
          0.4107,
          0.3215,
          0.3403,
          0.9387
         ],
         "xaxis": "x",
         "y": [
          0,
          1,
          2,
          3,
          4,
          5,
          6,
          7,
          8,
          9,
          10,
          11,
          12,
          13,
          14,
          15,
          16,
          17,
          18,
          22,
          23,
          24,
          25,
          26,
          27,
          28,
          29,
          30,
          31,
          32,
          33,
          34,
          35,
          36,
          38,
          39,
          40,
          41,
          42,
          43,
          44,
          45,
          47,
          53,
          54,
          56,
          57,
          62,
          64,
          65,
          70,
          72,
          73,
          75,
          77,
          78,
          82,
          83,
          85,
          86,
          87,
          91,
          94,
          95,
          99,
          100,
          105,
          108,
          117,
          118,
          119,
          121,
          122,
          126,
          127,
          129,
          131,
          132,
          134,
          135,
          138,
          141,
          146,
          156,
          161,
          162,
          164,
          167,
          168,
          171,
          172,
          177,
          180,
          181,
          182,
          184,
          186,
          190,
          193,
          194,
          196,
          197,
          198,
          199,
          201,
          202,
          203,
          205,
          207,
          210,
          212,
          213,
          214,
          215,
          218,
          219,
          223,
          229,
          230,
          233,
          236,
          237,
          239,
          244,
          250,
          252,
          253,
          254,
          255,
          256,
          257,
          258,
          259,
          260,
          261,
          262,
          263,
          264,
          265,
          272,
          274,
          277,
          280,
          282,
          283,
          297,
          300,
          302,
          317,
          321,
          323,
          328,
          329,
          330,
          335,
          337,
          339,
          343,
          351,
          352,
          353,
          365,
          366,
          368,
          369,
          370,
          372,
          373,
          379,
          385,
          389,
          392,
          393,
          400,
          408,
          414,
          417,
          430,
          432,
          433,
          435,
          441,
          444,
          446,
          449,
          451,
          460,
          461,
          468,
          479,
          487,
          489,
          492,
          498,
          499,
          501,
          503,
          509,
          512,
          514,
          516,
          517,
          521,
          533,
          535,
          536,
          562,
          563,
          564,
          565,
          566,
          567
         ],
         "yaxis": "y"
        },
        {
         "hovertemplate": "diagnosis=B<br>concavity_worst=%{x}<br>index=%{y}<extra></extra>",
         "legendgroup": "B",
         "marker": {
          "color": "#75E6DA",
          "symbol": "circle"
         },
         "mode": "markers",
         "name": "B",
         "orientation": "h",
         "showlegend": true,
         "type": "scatter",
         "x": [
          0.239,
          0.189,
          0.08867,
          0.04833,
          0.0688,
          0.305,
          0.2282,
          0.05523,
          0.105,
          0.09203,
          0.09076,
          0.001845,
          0.1168,
          0.02168,
          0.09001,
          0.1397,
          0.09412,
          0.1444,
          1.252,
          0.1039,
          0.1434,
          0.1703,
          0.08539,
          0.1731,
          0.1755,
          0.4858,
          0.2267,
          0.2434,
          0.2604,
          0.09189,
          0.135,
          0.1381,
          0.0498,
          0.02049,
          0.1922,
          0,
          0.1145,
          0.2644,
          0.07987,
          0.2873,
          0.1937,
          0.312,
          0.13,
          0.2216,
          0.6783,
          0.1295,
          0.2456,
          0.1503,
          0.1544,
          0.2102,
          0.256,
          0.3308,
          0.08115,
          0.196,
          0.09915,
          0.1709,
          0.1046,
          0.1399,
          0.08669,
          0,
          0.07708,
          0.209,
          0.09755,
          0.0942,
          0.25,
          0.3103,
          0.1564,
          0.08112,
          0.5381,
          0.8216,
          0.07116,
          0.3009,
          0.1943,
          0.1882,
          0.08636,
          0.01854,
          0.1956,
          0.1688,
          0.0775,
          0.1047,
          0.06648,
          0.1242,
          0.03938,
          0,
          0,
          0.3486,
          0.007977,
          0.02758,
          0.1648,
          0.00692,
          0.1521,
          0.08803,
          0.1423,
          0.05186,
          0,
          0.1764,
          0.1377,
          0.2671,
          0.06213,
          0.3162,
          0.2962,
          0.1471,
          0.2806,
          0.1925,
          0.1759,
          0.2577,
          0.06572,
          0.1786,
          0.1632,
          0.02639,
          0.3402,
          0.3911,
          0.1089,
          0.02318,
          0.07161,
          0.06231,
          0.3064,
          0.1533,
          0.06243,
          0.7436,
          0.1359,
          0.1181,
          0.2298,
          0.7727,
          0.1125,
          0.1804,
          0.08105,
          0.1916,
          0.1453,
          0.1992,
          0.2534,
          0.03866,
          0.1275,
          0.04043,
          0.07153,
          0.004955,
          0.106,
          0.1456,
          0.06735,
          0.3344,
          0.005579,
          0.2365,
          0.1186,
          0.1546,
          0.07529,
          0.222,
          0.1804,
          0.2241,
          0.1316,
          0.05233,
          0.03732,
          0.02884,
          0.1565,
          0.04158,
          0.1904,
          0.08423,
          0.1226,
          0.07239,
          0.0112,
          0.01472,
          0.01379,
          0.01824,
          0.07915,
          0.04746,
          0.1769,
          0.08324,
          0,
          0.01938,
          0.04116,
          0.4609,
          0.02237,
          0.1898,
          0.1791,
          0.1167,
          0.102,
          0.05307,
          0.007732,
          0.3439,
          0.01335,
          0.005518,
          0.03619,
          0.145,
          0.1055,
          0.3755,
          0.4341,
          0.2299,
          0.1087,
          0.07162,
          0.04506,
          0.2151,
          0.09823,
          0.03122,
          0.03046,
          0.1201,
          0.2388,
          0.2573,
          0.05285,
          0.09441,
          0.1144,
          0.003581,
          0.1212,
          0.1255,
          0.1663,
          0.1364,
          0.2413,
          0.1362,
          0.1346,
          0.2114,
          0.603,
          0.07934,
          0.2569,
          0.2247,
          0.1553,
          0.2912,
          0.3206,
          0.2866,
          0.3076,
          0.1091,
          0.3021,
          0.08615,
          0,
          0.1603,
          0.0846,
          0.3438,
          0.1901,
          0.2079,
          0.1449,
          0.1514,
          0.1604,
          0.181,
          0.04921,
          0.1412,
          0.231,
          0.1838,
          0.1377,
          0.1811,
          0.1067,
          0.1868,
          0.3114,
          0.1164,
          0.06141,
          0.09385,
          0.03582,
          0.256,
          0.3219,
          0.2302,
          0.366,
          0.02085,
          0.01235,
          0.2939,
          0.1927,
          0.0458,
          0.03469,
          0.2403,
          0.122,
          0.07127,
          0.1117,
          0.04753,
          0.0626,
          0.4779,
          0.03517,
          0.03986,
          0.1609,
          0.206,
          0.3779,
          0.3218,
          0.1811,
          0.1373,
          0.1887,
          0.07003,
          0.2923,
          0.139,
          0.04462,
          0.0719,
          0.1472,
          0.186,
          0.1876,
          0.6556,
          0.4504,
          0.06409,
          0.3186,
          0.1277,
          0.05524,
          0.3151,
          0,
          0.3365,
          0.3476,
          0.2512,
          0.1384,
          0.2596,
          0.162,
          0.1673,
          0.1848,
          0.1742,
          0.4004,
          0.4896,
          0.2437,
          0.149,
          0.123,
          0.1048,
          0.01674,
          0.07698,
          0.17,
          0.3582,
          0.2028,
          0.1856,
          0.1889,
          0.2099,
          0.2913,
          0.3535,
          0.1256,
          0.1947,
          0.269,
          0.1101,
          0.2492,
          0.1624,
          0.1246,
          0.1423,
          0.09996,
          0.02533,
          0.1935,
          0.08434,
          0.1754,
          0.2654,
          0.1791,
          0.1559,
          0.1622,
          0.1366,
          0.2758,
          0.1206,
          0.2123,
          0.1395,
          0,
          0.3393,
          0.1797,
          0.404,
          0.1611,
          0.1062,
          0.1377,
          0.1049,
          0.04384,
          0.1783,
          0.0935,
          0.06194,
          0,
          0.1564,
          0.08653,
          0.07993,
          0.2439,
          0.2,
          0.01005,
          0,
          0.3662,
          0.363,
          0.1326,
          0,
          0
         ],
         "xaxis": "x",
         "y": [
          19,
          20,
          21,
          37,
          46,
          48,
          49,
          50,
          51,
          52,
          55,
          58,
          59,
          60,
          61,
          63,
          66,
          67,
          68,
          69,
          71,
          74,
          76,
          79,
          80,
          81,
          84,
          88,
          89,
          90,
          92,
          93,
          96,
          97,
          98,
          101,
          102,
          103,
          104,
          106,
          107,
          109,
          110,
          111,
          112,
          113,
          114,
          115,
          116,
          120,
          123,
          124,
          125,
          128,
          130,
          133,
          136,
          137,
          139,
          140,
          142,
          143,
          144,
          145,
          147,
          148,
          149,
          150,
          151,
          152,
          153,
          154,
          155,
          157,
          158,
          159,
          160,
          163,
          165,
          166,
          169,
          170,
          173,
          174,
          175,
          176,
          178,
          179,
          183,
          185,
          187,
          188,
          189,
          191,
          192,
          195,
          200,
          204,
          206,
          208,
          209,
          211,
          216,
          217,
          220,
          221,
          222,
          224,
          225,
          226,
          227,
          228,
          231,
          232,
          234,
          235,
          238,
          240,
          241,
          242,
          243,
          245,
          246,
          247,
          248,
          249,
          251,
          266,
          267,
          268,
          269,
          270,
          271,
          273,
          275,
          276,
          278,
          279,
          281,
          284,
          285,
          286,
          287,
          288,
          289,
          290,
          291,
          292,
          293,
          294,
          295,
          296,
          298,
          299,
          301,
          303,
          304,
          305,
          306,
          307,
          308,
          309,
          310,
          311,
          312,
          313,
          314,
          315,
          316,
          318,
          319,
          320,
          322,
          324,
          325,
          326,
          327,
          331,
          332,
          333,
          334,
          336,
          338,
          340,
          341,
          342,
          344,
          345,
          346,
          347,
          348,
          349,
          350,
          354,
          355,
          356,
          357,
          358,
          359,
          360,
          361,
          362,
          363,
          364,
          367,
          371,
          374,
          375,
          376,
          377,
          378,
          380,
          381,
          382,
          383,
          384,
          386,
          387,
          388,
          390,
          391,
          394,
          395,
          396,
          397,
          398,
          399,
          401,
          402,
          403,
          404,
          405,
          406,
          407,
          409,
          410,
          411,
          412,
          413,
          415,
          416,
          418,
          419,
          420,
          421,
          422,
          423,
          424,
          425,
          426,
          427,
          428,
          429,
          431,
          434,
          436,
          437,
          438,
          439,
          440,
          442,
          443,
          445,
          447,
          448,
          450,
          452,
          453,
          454,
          455,
          456,
          457,
          458,
          459,
          462,
          463,
          464,
          465,
          466,
          467,
          469,
          470,
          471,
          472,
          473,
          474,
          475,
          476,
          477,
          478,
          480,
          481,
          482,
          483,
          484,
          485,
          486,
          488,
          490,
          491,
          493,
          494,
          495,
          496,
          497,
          500,
          502,
          504,
          505,
          506,
          507,
          508,
          510,
          511,
          513,
          515,
          518,
          519,
          520,
          522,
          523,
          524,
          525,
          526,
          527,
          528,
          529,
          530,
          531,
          532,
          534,
          537,
          538,
          539,
          540,
          541,
          542,
          543,
          544,
          545,
          546,
          547,
          548,
          549,
          550,
          551,
          552,
          553,
          554,
          555,
          556,
          557,
          558,
          559,
          560,
          561,
          568
         ],
         "yaxis": "y"
        }
       ],
       "layout": {
        "legend": {
         "title": {
          "text": "diagnosis"
         },
         "tracegroupgap": 0
        },
        "margin": {
         "t": 60
        },
        "template": {
         "data": {
          "bar": [
           {
            "error_x": {
             "color": "#2a3f5f"
            },
            "error_y": {
             "color": "#2a3f5f"
            },
            "marker": {
             "line": {
              "color": "#E5ECF6",
              "width": 0.5
             },
             "pattern": {
              "fillmode": "overlay",
              "size": 10,
              "solidity": 0.2
             }
            },
            "type": "bar"
           }
          ],
          "barpolar": [
           {
            "marker": {
             "line": {
              "color": "#E5ECF6",
              "width": 0.5
             },
             "pattern": {
              "fillmode": "overlay",
              "size": 10,
              "solidity": 0.2
             }
            },
            "type": "barpolar"
           }
          ],
          "carpet": [
           {
            "aaxis": {
             "endlinecolor": "#2a3f5f",
             "gridcolor": "white",
             "linecolor": "white",
             "minorgridcolor": "white",
             "startlinecolor": "#2a3f5f"
            },
            "baxis": {
             "endlinecolor": "#2a3f5f",
             "gridcolor": "white",
             "linecolor": "white",
             "minorgridcolor": "white",
             "startlinecolor": "#2a3f5f"
            },
            "type": "carpet"
           }
          ],
          "choropleth": [
           {
            "colorbar": {
             "outlinewidth": 0,
             "ticks": ""
            },
            "type": "choropleth"
           }
          ],
          "contour": [
           {
            "colorbar": {
             "outlinewidth": 0,
             "ticks": ""
            },
            "colorscale": [
             [
              0,
              "#0d0887"
             ],
             [
              0.1111111111111111,
              "#46039f"
             ],
             [
              0.2222222222222222,
              "#7201a8"
             ],
             [
              0.3333333333333333,
              "#9c179e"
             ],
             [
              0.4444444444444444,
              "#bd3786"
             ],
             [
              0.5555555555555556,
              "#d8576b"
             ],
             [
              0.6666666666666666,
              "#ed7953"
             ],
             [
              0.7777777777777778,
              "#fb9f3a"
             ],
             [
              0.8888888888888888,
              "#fdca26"
             ],
             [
              1,
              "#f0f921"
             ]
            ],
            "type": "contour"
           }
          ],
          "contourcarpet": [
           {
            "colorbar": {
             "outlinewidth": 0,
             "ticks": ""
            },
            "type": "contourcarpet"
           }
          ],
          "heatmap": [
           {
            "colorbar": {
             "outlinewidth": 0,
             "ticks": ""
            },
            "colorscale": [
             [
              0,
              "#0d0887"
             ],
             [
              0.1111111111111111,
              "#46039f"
             ],
             [
              0.2222222222222222,
              "#7201a8"
             ],
             [
              0.3333333333333333,
              "#9c179e"
             ],
             [
              0.4444444444444444,
              "#bd3786"
             ],
             [
              0.5555555555555556,
              "#d8576b"
             ],
             [
              0.6666666666666666,
              "#ed7953"
             ],
             [
              0.7777777777777778,
              "#fb9f3a"
             ],
             [
              0.8888888888888888,
              "#fdca26"
             ],
             [
              1,
              "#f0f921"
             ]
            ],
            "type": "heatmap"
           }
          ],
          "heatmapgl": [
           {
            "colorbar": {
             "outlinewidth": 0,
             "ticks": ""
            },
            "colorscale": [
             [
              0,
              "#0d0887"
             ],
             [
              0.1111111111111111,
              "#46039f"
             ],
             [
              0.2222222222222222,
              "#7201a8"
             ],
             [
              0.3333333333333333,
              "#9c179e"
             ],
             [
              0.4444444444444444,
              "#bd3786"
             ],
             [
              0.5555555555555556,
              "#d8576b"
             ],
             [
              0.6666666666666666,
              "#ed7953"
             ],
             [
              0.7777777777777778,
              "#fb9f3a"
             ],
             [
              0.8888888888888888,
              "#fdca26"
             ],
             [
              1,
              "#f0f921"
             ]
            ],
            "type": "heatmapgl"
           }
          ],
          "histogram": [
           {
            "marker": {
             "pattern": {
              "fillmode": "overlay",
              "size": 10,
              "solidity": 0.2
             }
            },
            "type": "histogram"
           }
          ],
          "histogram2d": [
           {
            "colorbar": {
             "outlinewidth": 0,
             "ticks": ""
            },
            "colorscale": [
             [
              0,
              "#0d0887"
             ],
             [
              0.1111111111111111,
              "#46039f"
             ],
             [
              0.2222222222222222,
              "#7201a8"
             ],
             [
              0.3333333333333333,
              "#9c179e"
             ],
             [
              0.4444444444444444,
              "#bd3786"
             ],
             [
              0.5555555555555556,
              "#d8576b"
             ],
             [
              0.6666666666666666,
              "#ed7953"
             ],
             [
              0.7777777777777778,
              "#fb9f3a"
             ],
             [
              0.8888888888888888,
              "#fdca26"
             ],
             [
              1,
              "#f0f921"
             ]
            ],
            "type": "histogram2d"
           }
          ],
          "histogram2dcontour": [
           {
            "colorbar": {
             "outlinewidth": 0,
             "ticks": ""
            },
            "colorscale": [
             [
              0,
              "#0d0887"
             ],
             [
              0.1111111111111111,
              "#46039f"
             ],
             [
              0.2222222222222222,
              "#7201a8"
             ],
             [
              0.3333333333333333,
              "#9c179e"
             ],
             [
              0.4444444444444444,
              "#bd3786"
             ],
             [
              0.5555555555555556,
              "#d8576b"
             ],
             [
              0.6666666666666666,
              "#ed7953"
             ],
             [
              0.7777777777777778,
              "#fb9f3a"
             ],
             [
              0.8888888888888888,
              "#fdca26"
             ],
             [
              1,
              "#f0f921"
             ]
            ],
            "type": "histogram2dcontour"
           }
          ],
          "mesh3d": [
           {
            "colorbar": {
             "outlinewidth": 0,
             "ticks": ""
            },
            "type": "mesh3d"
           }
          ],
          "parcoords": [
           {
            "line": {
             "colorbar": {
              "outlinewidth": 0,
              "ticks": ""
             }
            },
            "type": "parcoords"
           }
          ],
          "pie": [
           {
            "automargin": true,
            "type": "pie"
           }
          ],
          "scatter": [
           {
            "fillpattern": {
             "fillmode": "overlay",
             "size": 10,
             "solidity": 0.2
            },
            "type": "scatter"
           }
          ],
          "scatter3d": [
           {
            "line": {
             "colorbar": {
              "outlinewidth": 0,
              "ticks": ""
             }
            },
            "marker": {
             "colorbar": {
              "outlinewidth": 0,
              "ticks": ""
             }
            },
            "type": "scatter3d"
           }
          ],
          "scattercarpet": [
           {
            "marker": {
             "colorbar": {
              "outlinewidth": 0,
              "ticks": ""
             }
            },
            "type": "scattercarpet"
           }
          ],
          "scattergeo": [
           {
            "marker": {
             "colorbar": {
              "outlinewidth": 0,
              "ticks": ""
             }
            },
            "type": "scattergeo"
           }
          ],
          "scattergl": [
           {
            "marker": {
             "colorbar": {
              "outlinewidth": 0,
              "ticks": ""
             }
            },
            "type": "scattergl"
           }
          ],
          "scattermapbox": [
           {
            "marker": {
             "colorbar": {
              "outlinewidth": 0,
              "ticks": ""
             }
            },
            "type": "scattermapbox"
           }
          ],
          "scatterpolar": [
           {
            "marker": {
             "colorbar": {
              "outlinewidth": 0,
              "ticks": ""
             }
            },
            "type": "scatterpolar"
           }
          ],
          "scatterpolargl": [
           {
            "marker": {
             "colorbar": {
              "outlinewidth": 0,
              "ticks": ""
             }
            },
            "type": "scatterpolargl"
           }
          ],
          "scatterternary": [
           {
            "marker": {
             "colorbar": {
              "outlinewidth": 0,
              "ticks": ""
             }
            },
            "type": "scatterternary"
           }
          ],
          "surface": [
           {
            "colorbar": {
             "outlinewidth": 0,
             "ticks": ""
            },
            "colorscale": [
             [
              0,
              "#0d0887"
             ],
             [
              0.1111111111111111,
              "#46039f"
             ],
             [
              0.2222222222222222,
              "#7201a8"
             ],
             [
              0.3333333333333333,
              "#9c179e"
             ],
             [
              0.4444444444444444,
              "#bd3786"
             ],
             [
              0.5555555555555556,
              "#d8576b"
             ],
             [
              0.6666666666666666,
              "#ed7953"
             ],
             [
              0.7777777777777778,
              "#fb9f3a"
             ],
             [
              0.8888888888888888,
              "#fdca26"
             ],
             [
              1,
              "#f0f921"
             ]
            ],
            "type": "surface"
           }
          ],
          "table": [
           {
            "cells": {
             "fill": {
              "color": "#EBF0F8"
             },
             "line": {
              "color": "white"
             }
            },
            "header": {
             "fill": {
              "color": "#C8D4E3"
             },
             "line": {
              "color": "white"
             }
            },
            "type": "table"
           }
          ]
         },
         "layout": {
          "annotationdefaults": {
           "arrowcolor": "#2a3f5f",
           "arrowhead": 0,
           "arrowwidth": 1
          },
          "autotypenumbers": "strict",
          "coloraxis": {
           "colorbar": {
            "outlinewidth": 0,
            "ticks": ""
           }
          },
          "colorscale": {
           "diverging": [
            [
             0,
             "#8e0152"
            ],
            [
             0.1,
             "#c51b7d"
            ],
            [
             0.2,
             "#de77ae"
            ],
            [
             0.3,
             "#f1b6da"
            ],
            [
             0.4,
             "#fde0ef"
            ],
            [
             0.5,
             "#f7f7f7"
            ],
            [
             0.6,
             "#e6f5d0"
            ],
            [
             0.7,
             "#b8e186"
            ],
            [
             0.8,
             "#7fbc41"
            ],
            [
             0.9,
             "#4d9221"
            ],
            [
             1,
             "#276419"
            ]
           ],
           "sequential": [
            [
             0,
             "#0d0887"
            ],
            [
             0.1111111111111111,
             "#46039f"
            ],
            [
             0.2222222222222222,
             "#7201a8"
            ],
            [
             0.3333333333333333,
             "#9c179e"
            ],
            [
             0.4444444444444444,
             "#bd3786"
            ],
            [
             0.5555555555555556,
             "#d8576b"
            ],
            [
             0.6666666666666666,
             "#ed7953"
            ],
            [
             0.7777777777777778,
             "#fb9f3a"
            ],
            [
             0.8888888888888888,
             "#fdca26"
            ],
            [
             1,
             "#f0f921"
            ]
           ],
           "sequentialminus": [
            [
             0,
             "#0d0887"
            ],
            [
             0.1111111111111111,
             "#46039f"
            ],
            [
             0.2222222222222222,
             "#7201a8"
            ],
            [
             0.3333333333333333,
             "#9c179e"
            ],
            [
             0.4444444444444444,
             "#bd3786"
            ],
            [
             0.5555555555555556,
             "#d8576b"
            ],
            [
             0.6666666666666666,
             "#ed7953"
            ],
            [
             0.7777777777777778,
             "#fb9f3a"
            ],
            [
             0.8888888888888888,
             "#fdca26"
            ],
            [
             1,
             "#f0f921"
            ]
           ]
          },
          "colorway": [
           "#636efa",
           "#EF553B",
           "#00cc96",
           "#ab63fa",
           "#FFA15A",
           "#19d3f3",
           "#FF6692",
           "#B6E880",
           "#FF97FF",
           "#FECB52"
          ],
          "font": {
           "color": "#2a3f5f"
          },
          "geo": {
           "bgcolor": "white",
           "lakecolor": "white",
           "landcolor": "#E5ECF6",
           "showlakes": true,
           "showland": true,
           "subunitcolor": "white"
          },
          "hoverlabel": {
           "align": "left"
          },
          "hovermode": "closest",
          "mapbox": {
           "style": "light"
          },
          "paper_bgcolor": "white",
          "plot_bgcolor": "#E5ECF6",
          "polar": {
           "angularaxis": {
            "gridcolor": "white",
            "linecolor": "white",
            "ticks": ""
           },
           "bgcolor": "#E5ECF6",
           "radialaxis": {
            "gridcolor": "white",
            "linecolor": "white",
            "ticks": ""
           }
          },
          "scene": {
           "xaxis": {
            "backgroundcolor": "#E5ECF6",
            "gridcolor": "white",
            "gridwidth": 2,
            "linecolor": "white",
            "showbackground": true,
            "ticks": "",
            "zerolinecolor": "white"
           },
           "yaxis": {
            "backgroundcolor": "#E5ECF6",
            "gridcolor": "white",
            "gridwidth": 2,
            "linecolor": "white",
            "showbackground": true,
            "ticks": "",
            "zerolinecolor": "white"
           },
           "zaxis": {
            "backgroundcolor": "#E5ECF6",
            "gridcolor": "white",
            "gridwidth": 2,
            "linecolor": "white",
            "showbackground": true,
            "ticks": "",
            "zerolinecolor": "white"
           }
          },
          "shapedefaults": {
           "line": {
            "color": "#2a3f5f"
           }
          },
          "ternary": {
           "aaxis": {
            "gridcolor": "white",
            "linecolor": "white",
            "ticks": ""
           },
           "baxis": {
            "gridcolor": "white",
            "linecolor": "white",
            "ticks": ""
           },
           "bgcolor": "#E5ECF6",
           "caxis": {
            "gridcolor": "white",
            "linecolor": "white",
            "ticks": ""
           }
          },
          "title": {
           "x": 0.05
          },
          "xaxis": {
           "automargin": true,
           "gridcolor": "white",
           "linecolor": "white",
           "ticks": "",
           "title": {
            "standoff": 15
           },
           "zerolinecolor": "white",
           "zerolinewidth": 2
          },
          "yaxis": {
           "automargin": true,
           "gridcolor": "white",
           "linecolor": "white",
           "ticks": "",
           "title": {
            "standoff": 15
           },
           "zerolinecolor": "white",
           "zerolinewidth": 2
          }
         }
        },
        "width": 800,
        "xaxis": {
         "anchor": "y",
         "domain": [
          0,
          1
         ],
         "title": {
          "text": "concavity_worst"
         }
        },
        "yaxis": {
         "anchor": "x",
         "domain": [
          0,
          1
         ],
         "title": {
          "text": "index"
         }
        }
       }
      }
     },
     "metadata": {},
     "output_type": "display_data"
    }
   ],
   "source": [
    "px.scatter(data_frame = df, x = 'concavity_worst', color = 'diagnosis', color_discrete_sequence = ['#05445E', '#75E6DA'], width = 800)"
   ]
  },
  {
   "cell_type": "code",
   "execution_count": 33,
   "metadata": {},
   "outputs": [
    {
     "data": {
      "application/vnd.plotly.v1+json": {
       "config": {
        "plotlyServerURL": "https://plot.ly"
       },
       "data": [
        {
         "hovertemplate": "fractal_dimension_worst=%{x}<br>index=%{y}<br>diagnosis=%{marker.color}<extra></extra>",
         "legendgroup": "",
         "marker": {
          "color": [
           1,
           1,
           1,
           1,
           1,
           1,
           1,
           1,
           1,
           1,
           1,
           1,
           1,
           1,
           1,
           1,
           1,
           1,
           1,
           0,
           0,
           0,
           1,
           1,
           1,
           1,
           1,
           1,
           1,
           1,
           1,
           1,
           1,
           1,
           1,
           1,
           1,
           0,
           1,
           1,
           1,
           1,
           1,
           1,
           1,
           1,
           0,
           1,
           0,
           0,
           0,
           0,
           0,
           1,
           1,
           0,
           1,
           1,
           0,
           0,
           0,
           0,
           1,
           0,
           1,
           1,
           0,
           0,
           0,
           0,
           1,
           0,
           1,
           1,
           0,
           1,
           0,
           1,
           1,
           0,
           0,
           0,
           1,
           1,
           0,
           1,
           1,
           1,
           0,
           0,
           0,
           1,
           0,
           0,
           1,
           1,
           0,
           0,
           0,
           1,
           1,
           0,
           0,
           0,
           0,
           1,
           0,
           0,
           1,
           0,
           0,
           0,
           0,
           0,
           0,
           0,
           0,
           1,
           1,
           1,
           0,
           1,
           1,
           0,
           0,
           0,
           1,
           1,
           0,
           1,
           0,
           1,
           1,
           0,
           1,
           1,
           0,
           0,
           1,
           0,
           0,
           1,
           0,
           0,
           0,
           0,
           1,
           0,
           0,
           0,
           0,
           0,
           0,
           0,
           0,
           0,
           1,
           0,
           0,
           0,
           0,
           1,
           1,
           0,
           1,
           0,
           0,
           1,
           1,
           0,
           0,
           1,
           1,
           0,
           0,
           0,
           0,
           1,
           0,
           0,
           1,
           1,
           1,
           0,
           1,
           0,
           1,
           0,
           0,
           0,
           1,
           0,
           0,
           1,
           1,
           0,
           1,
           1,
           1,
           1,
           0,
           1,
           1,
           1,
           0,
           1,
           0,
           1,
           0,
           0,
           1,
           0,
           1,
           1,
           1,
           1,
           0,
           0,
           1,
           1,
           0,
           0,
           0,
           1,
           0,
           0,
           0,
           0,
           0,
           1,
           1,
           0,
           0,
           1,
           0,
           0,
           1,
           1,
           0,
           1,
           0,
           0,
           0,
           0,
           1,
           0,
           0,
           0,
           0,
           0,
           1,
           0,
           1,
           1,
           1,
           1,
           1,
           1,
           1,
           1,
           1,
           1,
           1,
           1,
           1,
           1,
           0,
           0,
           0,
           0,
           0,
           0,
           1,
           0,
           1,
           0,
           0,
           1,
           0,
           0,
           1,
           0,
           1,
           1,
           0,
           0,
           0,
           0,
           0,
           0,
           0,
           0,
           0,
           0,
           0,
           0,
           0,
           1,
           0,
           0,
           1,
           0,
           1,
           0,
           0,
           0,
           0,
           0,
           0,
           0,
           0,
           0,
           0,
           0,
           0,
           0,
           0,
           1,
           0,
           0,
           0,
           1,
           0,
           1,
           0,
           0,
           0,
           0,
           1,
           1,
           1,
           0,
           0,
           0,
           0,
           1,
           0,
           1,
           0,
           1,
           0,
           0,
           0,
           1,
           0,
           0,
           0,
           0,
           0,
           0,
           0,
           1,
           1,
           1,
           0,
           0,
           0,
           0,
           0,
           0,
           0,
           0,
           0,
           0,
           0,
           1,
           1,
           0,
           1,
           1,
           1,
           0,
           1,
           1,
           0,
           0,
           0,
           0,
           0,
           1,
           0,
           0,
           0,
           0,
           0,
           1,
           0,
           0,
           0,
           1,
           0,
           0,
           1,
           1,
           0,
           0,
           0,
           0,
           0,
           0,
           1,
           0,
           0,
           0,
           0,
           0,
           0,
           0,
           1,
           0,
           0,
           0,
           0,
           0,
           1,
           0,
           0,
           1,
           0,
           0,
           0,
           0,
           0,
           0,
           0,
           0,
           0,
           0,
           0,
           0,
           1,
           0,
           1,
           1,
           0,
           1,
           0,
           0,
           0,
           0,
           0,
           1,
           0,
           0,
           1,
           0,
           1,
           0,
           0,
           1,
           0,
           1,
           0,
           0,
           0,
           0,
           0,
           0,
           0,
           0,
           1,
           1,
           0,
           0,
           0,
           0,
           0,
           0,
           1,
           0,
           0,
           0,
           0,
           0,
           0,
           0,
           0,
           0,
           0,
           1,
           0,
           0,
           0,
           0,
           0,
           0,
           0,
           1,
           0,
           1,
           0,
           0,
           1,
           0,
           0,
           0,
           0,
           0,
           1,
           1,
           0,
           1,
           0,
           1,
           0,
           0,
           0,
           0,
           0,
           1,
           0,
           0,
           1,
           0,
           1,
           0,
           1,
           1,
           0,
           0,
           0,
           1,
           0,
           0,
           0,
           0,
           0,
           0,
           0,
           0,
           0,
           0,
           0,
           1,
           0,
           1,
           1,
           0,
           0,
           0,
           0,
           0,
           0,
           0,
           0,
           0,
           0,
           0,
           0,
           0,
           0,
           0,
           0,
           0,
           0,
           0,
           0,
           0,
           0,
           0,
           0,
           0,
           1,
           1,
           1,
           1,
           1,
           1,
           0
          ],
          "coloraxis": "coloraxis",
          "symbol": "circle"
         },
         "mode": "markers",
         "name": "",
         "orientation": "h",
         "showlegend": false,
         "type": "scatter",
         "x": [
          0.1189,
          0.08902,
          0.08758,
          0.173,
          0.07678,
          0.1244,
          0.08368,
          0.1151,
          0.1072,
          0.2075,
          0.08452,
          0.1048,
          0.1023,
          0.06287,
          0.1431,
          0.1341,
          0.08216,
          0.1142,
          0.07615,
          0.07259,
          0.08183,
          0.07773,
          0.09946,
          0.07526,
          0.09564,
          0.1059,
          0.1275,
          0.07421,
          0.09876,
          0.07919,
          0.09782,
          0.1402,
          0.08482,
          0.1123,
          0.1233,
          0.08633,
          0.1014,
          0.06169,
          0.05504,
          0.1071,
          0.07146,
          0.09606,
          0.1038,
          0.1027,
          0.09618,
          0.09185,
          0.07409,
          0.1179,
          0.08301,
          0.06917,
          0.06563,
          0.08025,
          0.07408,
          0.07987,
          0.07873,
          0.07036,
          0.08294,
          0.1094,
          0.06289,
          0.09026,
          0.0802,
          0.07712,
          0.1132,
          0.0849,
          0.1031,
          0.08911,
          0.09211,
          0.06641,
          0.1175,
          0.0641,
          0.06589,
          0.1084,
          0.1339,
          0.103,
          0.07609,
          0.06387,
          0.07191,
          0.1108,
          0.09964,
          0.07918,
          0.08851,
          0.1016,
          0.1051,
          0.09203,
          0.07924,
          0.08579,
          0.06846,
          0.09288,
          0.09261,
          0.08473,
          0.07246,
          0.06828,
          0.06206,
          0.06603,
          0.08234,
          0.08368,
          0.07376,
          0.08988,
          0.08756,
          0.09353,
          0.07397,
          0.09382,
          0.06878,
          0.0849,
          0.07552,
          0.1405,
          0.09097,
          0.07185,
          0.09789,
          0.08832,
          0.08468,
          0.08486,
          0.1082,
          0.09026,
          0.1017,
          0.08541,
          0.07722,
          0.1065,
          0.1252,
          0.06111,
          0.08523,
          0.08456,
          0.08009,
          0.08006,
          0.07628,
          0.07182,
          0.079,
          0.06541,
          0.07779,
          0.08465,
          0.09241,
          0.08019,
          0.07619,
          0.07071,
          0.0761,
          0.08067,
          0.07343,
          0.06765,
          0.07147,
          0.06784,
          0.08151,
          0.08158,
          0.08096,
          0.08118,
          0.06769,
          0.1036,
          0.103,
          0.09218,
          0.07683,
          0.07014,
          0.06435,
          0.1486,
          0.1259,
          0.06772,
          0.08633,
          0.08132,
          0.07738,
          0.05972,
          0.07898,
          0.07685,
          0.07987,
          0.06251,
          0.09223,
          0.09082,
          0.09187,
          0.06085,
          0.07699,
          0.07228,
          0.093,
          0.06428,
          0.06771,
          0.07371,
          0.101,
          0.07313,
          0.06164,
          0.07848,
          0.1162,
          0.09519,
          0.05843,
          0.07319,
          0.08082,
          0.1284,
          0.08631,
          0.07427,
          0.09772,
          0.07697,
          0.06938,
          0.07097,
          0.06576,
          0.06306,
          0.1446,
          0.06871,
          0.06559,
          0.1205,
          0.08701,
          0.06949,
          0.09333,
          0.06558,
          0.09221,
          0.1013,
          0.08174,
          0.07867,
          0.08762,
          0.1086,
          0.0875,
          0.0974,
          0.0738,
          0.06469,
          0.1076,
          0.07474,
          0.05865,
          0.07993,
          0.05525,
          0.06818,
          0.1026,
          0.1059,
          0.08365,
          0.07809,
          0.08255,
          0.07568,
          0.08718,
          0.08177,
          0.08797,
          0.1064,
          0.07623,
          0.06072,
          0.08269,
          0.08362,
          0.09585,
          0.1243,
          0.09061,
          0.07087,
          0.07307,
          0.08328,
          0.08178,
          0.07617,
          0.08677,
          0.07127,
          0.07796,
          0.08496,
          0.0651,
          0.06783,
          0.1297,
          0.06321,
          0.07614,
          0.07748,
          0.07198,
          0.1178,
          0.08147,
          0.07809,
          0.07849,
          0.06487,
          0.1297,
          0.08113,
          0.0895,
          0.07957,
          0.1005,
          0.1191,
          0.1019,
          0.1204,
          0.07999,
          0.06515,
          0.07484,
          0.06829,
          0.0757,
          0.08218,
          0.07587,
          0.07024,
          0.07062,
          0.08701,
          0.0612,
          0.08022,
          0.08858,
          0.08175,
          0.07948,
          0.06033,
          0.06386,
          0.05737,
          0.06263,
          0.06912,
          0.0972,
          0.06688,
          0.07787,
          0.1063,
          0.07127,
          0.06431,
          0.09981,
          0.06915,
          0.07009,
          0.06994,
          0.08799,
          0.08472,
          0.09584,
          0.07007,
          0.06922,
          0.06794,
          0.06643,
          0.06915,
          0.07676,
          0.06777,
          0.09929,
          0.07764,
          0.09469,
          0.07842,
          0.07638,
          0.06745,
          0.08385,
          0.07804,
          0.06192,
          0.0658,
          0.06958,
          0.05695,
          0.08253,
          0.07434,
          0.08116,
          0.06174,
          0.06037,
          0.08198,
          0.1055,
          0.05932,
          0.09702,
          0.05933,
          0.08553,
          0.1024,
          0.07961,
          0.06888,
          0.07083,
          0.07037,
          0.082,
          0.07953,
          0.09124,
          0.09166,
          0.06522,
          0.07418,
          0.07207,
          0.07599,
          0.1009,
          0.0987,
          0.07664,
          0.07738,
          0.08764,
          0.09825,
          0.0908,
          0.07918,
          0.07806,
          0.08488,
          0.08083,
          0.08187,
          0.08763,
          0.0759,
          0.06825,
          0.105,
          0.08815,
          0.09438,
          0.07018,
          0.07188,
          0.08317,
          0.07113,
          0.07431,
          0.08136,
          0.05521,
          0.06658,
          0.07238,
          0.06469,
          0.07582,
          0.06735,
          0.07632,
          0.0747,
          0.06494,
          0.08574,
          0.09614,
          0.06766,
          0.08666,
          0.07055,
          0.07701,
          0.0896,
          0.12,
          0.07061,
          0.09638,
          0.1403,
          0.09215,
          0.07287,
          0.09349,
          0.1118,
          0.0732,
          0.06836,
          0.08824,
          0.06623,
          0.1043,
          0.07602,
          0.07722,
          0.08865,
          0.1019,
          0.1007,
          0.07081,
          0.06609,
          0.07686,
          0.07053,
          0.09158,
          0.08121,
          0.1198,
          0.07262,
          0.07247,
          0.07834,
          0.05974,
          0.07732,
          0.07012,
          0.08151,
          0.08503,
          0.06896,
          0.07745,
          0.07881,
          0.09206,
          0.09251,
          0.06165,
          0.07351,
          0.08304,
          0.1048,
          0.09464,
          0.07123,
          0.08284,
          0.09208,
          0.07427,
          0.08839,
          0.08009,
          0.08061,
          0.09646,
          0.07662,
          0.07083,
          0.06025,
          0.1155,
          0.09359,
          0.08075,
          0.08314,
          0.06827,
          0.1055,
          0.07735,
          0.07234,
          0.06911,
          0.0671,
          0.09532,
          0.07944,
          0.0681,
          0.06736,
          0.08225,
          0.08251,
          0.09075,
          0.07285,
          0.07463,
          0.07425,
          0.09952,
          0.06091,
          0.08194,
          0.0781,
          0.0733,
          0.07675,
          0.0722,
          0.06788,
          0.06291,
          0.07211,
          0.0906,
          0.07427,
          0.06464,
          0.07863,
          0.06925,
          0.1249,
          0.08174,
          0.07875,
          0.1224,
          0.0927,
          0.08524,
          0.06639,
          0.08273,
          0.06743,
          0.108,
          0.07802,
          0.07858,
          0.07698,
          0.0918,
          0.09136,
          0.07729,
          0.07603,
          0.09326,
          0.0696,
          0.08181,
          0.1034,
          0.06596,
          0.09009,
          0.08024,
          0.07623,
          0.08203,
          0.05871,
          0.07625,
          0.07028,
          0.07429,
          0.06599,
          0.1033,
          0.07661,
          0.09445,
          0.08999,
          0.08549,
          0.1183,
          0.07538,
          0.07277,
          0.1252,
          0.1364,
          0.08839,
          0.1168,
          0.0723,
          0.1067,
          0.09879,
          0.06142,
          0.1109,
          0.07048,
          0.06954,
          0.06783,
          0.07863,
          0.09136,
          0.08893,
          0.08557,
          0.08982,
          0.09671,
          0.07613,
          0.09031,
          0.09209,
          0.1049,
          0.08665,
          0.07592,
          0.07253,
          0.08052,
          0.07757,
          0.0895,
          0.07782,
          0.06386,
          0.08278,
          0.07569,
          0.08351,
          0.0997,
          0.09938,
          0.1066,
          0.08134,
          0.1023,
          0.06956,
          0.06443,
          0.08492,
          0.06953,
          0.07399,
          0.09479,
          0.0792,
          0.07626,
          0.06592,
          0.08032,
          0.06484,
          0.07393,
          0.07242,
          0.08283,
          0.06742,
          0.06969,
          0.08004,
          0.08732,
          0.08321,
          0.05905,
          0.1409,
          0.09873,
          0.07115,
          0.06637,
          0.0782,
          0.124,
          0.07039
         ],
         "xaxis": "x",
         "y": [
          0,
          1,
          2,
          3,
          4,
          5,
          6,
          7,
          8,
          9,
          10,
          11,
          12,
          13,
          14,
          15,
          16,
          17,
          18,
          19,
          20,
          21,
          22,
          23,
          24,
          25,
          26,
          27,
          28,
          29,
          30,
          31,
          32,
          33,
          34,
          35,
          36,
          37,
          38,
          39,
          40,
          41,
          42,
          43,
          44,
          45,
          46,
          47,
          48,
          49,
          50,
          51,
          52,
          53,
          54,
          55,
          56,
          57,
          58,
          59,
          60,
          61,
          62,
          63,
          64,
          65,
          66,
          67,
          68,
          69,
          70,
          71,
          72,
          73,
          74,
          75,
          76,
          77,
          78,
          79,
          80,
          81,
          82,
          83,
          84,
          85,
          86,
          87,
          88,
          89,
          90,
          91,
          92,
          93,
          94,
          95,
          96,
          97,
          98,
          99,
          100,
          101,
          102,
          103,
          104,
          105,
          106,
          107,
          108,
          109,
          110,
          111,
          112,
          113,
          114,
          115,
          116,
          117,
          118,
          119,
          120,
          121,
          122,
          123,
          124,
          125,
          126,
          127,
          128,
          129,
          130,
          131,
          132,
          133,
          134,
          135,
          136,
          137,
          138,
          139,
          140,
          141,
          142,
          143,
          144,
          145,
          146,
          147,
          148,
          149,
          150,
          151,
          152,
          153,
          154,
          155,
          156,
          157,
          158,
          159,
          160,
          161,
          162,
          163,
          164,
          165,
          166,
          167,
          168,
          169,
          170,
          171,
          172,
          173,
          174,
          175,
          176,
          177,
          178,
          179,
          180,
          181,
          182,
          183,
          184,
          185,
          186,
          187,
          188,
          189,
          190,
          191,
          192,
          193,
          194,
          195,
          196,
          197,
          198,
          199,
          200,
          201,
          202,
          203,
          204,
          205,
          206,
          207,
          208,
          209,
          210,
          211,
          212,
          213,
          214,
          215,
          216,
          217,
          218,
          219,
          220,
          221,
          222,
          223,
          224,
          225,
          226,
          227,
          228,
          229,
          230,
          231,
          232,
          233,
          234,
          235,
          236,
          237,
          238,
          239,
          240,
          241,
          242,
          243,
          244,
          245,
          246,
          247,
          248,
          249,
          250,
          251,
          252,
          253,
          254,
          255,
          256,
          257,
          258,
          259,
          260,
          261,
          262,
          263,
          264,
          265,
          266,
          267,
          268,
          269,
          270,
          271,
          272,
          273,
          274,
          275,
          276,
          277,
          278,
          279,
          280,
          281,
          282,
          283,
          284,
          285,
          286,
          287,
          288,
          289,
          290,
          291,
          292,
          293,
          294,
          295,
          296,
          297,
          298,
          299,
          300,
          301,
          302,
          303,
          304,
          305,
          306,
          307,
          308,
          309,
          310,
          311,
          312,
          313,
          314,
          315,
          316,
          317,
          318,
          319,
          320,
          321,
          322,
          323,
          324,
          325,
          326,
          327,
          328,
          329,
          330,
          331,
          332,
          333,
          334,
          335,
          336,
          337,
          338,
          339,
          340,
          341,
          342,
          343,
          344,
          345,
          346,
          347,
          348,
          349,
          350,
          351,
          352,
          353,
          354,
          355,
          356,
          357,
          358,
          359,
          360,
          361,
          362,
          363,
          364,
          365,
          366,
          367,
          368,
          369,
          370,
          371,
          372,
          373,
          374,
          375,
          376,
          377,
          378,
          379,
          380,
          381,
          382,
          383,
          384,
          385,
          386,
          387,
          388,
          389,
          390,
          391,
          392,
          393,
          394,
          395,
          396,
          397,
          398,
          399,
          400,
          401,
          402,
          403,
          404,
          405,
          406,
          407,
          408,
          409,
          410,
          411,
          412,
          413,
          414,
          415,
          416,
          417,
          418,
          419,
          420,
          421,
          422,
          423,
          424,
          425,
          426,
          427,
          428,
          429,
          430,
          431,
          432,
          433,
          434,
          435,
          436,
          437,
          438,
          439,
          440,
          441,
          442,
          443,
          444,
          445,
          446,
          447,
          448,
          449,
          450,
          451,
          452,
          453,
          454,
          455,
          456,
          457,
          458,
          459,
          460,
          461,
          462,
          463,
          464,
          465,
          466,
          467,
          468,
          469,
          470,
          471,
          472,
          473,
          474,
          475,
          476,
          477,
          478,
          479,
          480,
          481,
          482,
          483,
          484,
          485,
          486,
          487,
          488,
          489,
          490,
          491,
          492,
          493,
          494,
          495,
          496,
          497,
          498,
          499,
          500,
          501,
          502,
          503,
          504,
          505,
          506,
          507,
          508,
          509,
          510,
          511,
          512,
          513,
          514,
          515,
          516,
          517,
          518,
          519,
          520,
          521,
          522,
          523,
          524,
          525,
          526,
          527,
          528,
          529,
          530,
          531,
          532,
          533,
          534,
          535,
          536,
          537,
          538,
          539,
          540,
          541,
          542,
          543,
          544,
          545,
          546,
          547,
          548,
          549,
          550,
          551,
          552,
          553,
          554,
          555,
          556,
          557,
          558,
          559,
          560,
          561,
          562,
          563,
          564,
          565,
          566,
          567,
          568
         ],
         "yaxis": "y"
        }
       ],
       "layout": {
        "coloraxis": {
         "colorbar": {
          "title": {
           "text": "diagnosis"
          }
         },
         "colorscale": [
          [
           0,
           "#0d0887"
          ],
          [
           0.1111111111111111,
           "#46039f"
          ],
          [
           0.2222222222222222,
           "#7201a8"
          ],
          [
           0.3333333333333333,
           "#9c179e"
          ],
          [
           0.4444444444444444,
           "#bd3786"
          ],
          [
           0.5555555555555556,
           "#d8576b"
          ],
          [
           0.6666666666666666,
           "#ed7953"
          ],
          [
           0.7777777777777778,
           "#fb9f3a"
          ],
          [
           0.8888888888888888,
           "#fdca26"
          ],
          [
           1,
           "#f0f921"
          ]
         ]
        },
        "legend": {
         "tracegroupgap": 0
        },
        "margin": {
         "t": 60
        },
        "template": {
         "data": {
          "bar": [
           {
            "error_x": {
             "color": "#2a3f5f"
            },
            "error_y": {
             "color": "#2a3f5f"
            },
            "marker": {
             "line": {
              "color": "#E5ECF6",
              "width": 0.5
             },
             "pattern": {
              "fillmode": "overlay",
              "size": 10,
              "solidity": 0.2
             }
            },
            "type": "bar"
           }
          ],
          "barpolar": [
           {
            "marker": {
             "line": {
              "color": "#E5ECF6",
              "width": 0.5
             },
             "pattern": {
              "fillmode": "overlay",
              "size": 10,
              "solidity": 0.2
             }
            },
            "type": "barpolar"
           }
          ],
          "carpet": [
           {
            "aaxis": {
             "endlinecolor": "#2a3f5f",
             "gridcolor": "white",
             "linecolor": "white",
             "minorgridcolor": "white",
             "startlinecolor": "#2a3f5f"
            },
            "baxis": {
             "endlinecolor": "#2a3f5f",
             "gridcolor": "white",
             "linecolor": "white",
             "minorgridcolor": "white",
             "startlinecolor": "#2a3f5f"
            },
            "type": "carpet"
           }
          ],
          "choropleth": [
           {
            "colorbar": {
             "outlinewidth": 0,
             "ticks": ""
            },
            "type": "choropleth"
           }
          ],
          "contour": [
           {
            "colorbar": {
             "outlinewidth": 0,
             "ticks": ""
            },
            "colorscale": [
             [
              0,
              "#0d0887"
             ],
             [
              0.1111111111111111,
              "#46039f"
             ],
             [
              0.2222222222222222,
              "#7201a8"
             ],
             [
              0.3333333333333333,
              "#9c179e"
             ],
             [
              0.4444444444444444,
              "#bd3786"
             ],
             [
              0.5555555555555556,
              "#d8576b"
             ],
             [
              0.6666666666666666,
              "#ed7953"
             ],
             [
              0.7777777777777778,
              "#fb9f3a"
             ],
             [
              0.8888888888888888,
              "#fdca26"
             ],
             [
              1,
              "#f0f921"
             ]
            ],
            "type": "contour"
           }
          ],
          "contourcarpet": [
           {
            "colorbar": {
             "outlinewidth": 0,
             "ticks": ""
            },
            "type": "contourcarpet"
           }
          ],
          "heatmap": [
           {
            "colorbar": {
             "outlinewidth": 0,
             "ticks": ""
            },
            "colorscale": [
             [
              0,
              "#0d0887"
             ],
             [
              0.1111111111111111,
              "#46039f"
             ],
             [
              0.2222222222222222,
              "#7201a8"
             ],
             [
              0.3333333333333333,
              "#9c179e"
             ],
             [
              0.4444444444444444,
              "#bd3786"
             ],
             [
              0.5555555555555556,
              "#d8576b"
             ],
             [
              0.6666666666666666,
              "#ed7953"
             ],
             [
              0.7777777777777778,
              "#fb9f3a"
             ],
             [
              0.8888888888888888,
              "#fdca26"
             ],
             [
              1,
              "#f0f921"
             ]
            ],
            "type": "heatmap"
           }
          ],
          "heatmapgl": [
           {
            "colorbar": {
             "outlinewidth": 0,
             "ticks": ""
            },
            "colorscale": [
             [
              0,
              "#0d0887"
             ],
             [
              0.1111111111111111,
              "#46039f"
             ],
             [
              0.2222222222222222,
              "#7201a8"
             ],
             [
              0.3333333333333333,
              "#9c179e"
             ],
             [
              0.4444444444444444,
              "#bd3786"
             ],
             [
              0.5555555555555556,
              "#d8576b"
             ],
             [
              0.6666666666666666,
              "#ed7953"
             ],
             [
              0.7777777777777778,
              "#fb9f3a"
             ],
             [
              0.8888888888888888,
              "#fdca26"
             ],
             [
              1,
              "#f0f921"
             ]
            ],
            "type": "heatmapgl"
           }
          ],
          "histogram": [
           {
            "marker": {
             "pattern": {
              "fillmode": "overlay",
              "size": 10,
              "solidity": 0.2
             }
            },
            "type": "histogram"
           }
          ],
          "histogram2d": [
           {
            "colorbar": {
             "outlinewidth": 0,
             "ticks": ""
            },
            "colorscale": [
             [
              0,
              "#0d0887"
             ],
             [
              0.1111111111111111,
              "#46039f"
             ],
             [
              0.2222222222222222,
              "#7201a8"
             ],
             [
              0.3333333333333333,
              "#9c179e"
             ],
             [
              0.4444444444444444,
              "#bd3786"
             ],
             [
              0.5555555555555556,
              "#d8576b"
             ],
             [
              0.6666666666666666,
              "#ed7953"
             ],
             [
              0.7777777777777778,
              "#fb9f3a"
             ],
             [
              0.8888888888888888,
              "#fdca26"
             ],
             [
              1,
              "#f0f921"
             ]
            ],
            "type": "histogram2d"
           }
          ],
          "histogram2dcontour": [
           {
            "colorbar": {
             "outlinewidth": 0,
             "ticks": ""
            },
            "colorscale": [
             [
              0,
              "#0d0887"
             ],
             [
              0.1111111111111111,
              "#46039f"
             ],
             [
              0.2222222222222222,
              "#7201a8"
             ],
             [
              0.3333333333333333,
              "#9c179e"
             ],
             [
              0.4444444444444444,
              "#bd3786"
             ],
             [
              0.5555555555555556,
              "#d8576b"
             ],
             [
              0.6666666666666666,
              "#ed7953"
             ],
             [
              0.7777777777777778,
              "#fb9f3a"
             ],
             [
              0.8888888888888888,
              "#fdca26"
             ],
             [
              1,
              "#f0f921"
             ]
            ],
            "type": "histogram2dcontour"
           }
          ],
          "mesh3d": [
           {
            "colorbar": {
             "outlinewidth": 0,
             "ticks": ""
            },
            "type": "mesh3d"
           }
          ],
          "parcoords": [
           {
            "line": {
             "colorbar": {
              "outlinewidth": 0,
              "ticks": ""
             }
            },
            "type": "parcoords"
           }
          ],
          "pie": [
           {
            "automargin": true,
            "type": "pie"
           }
          ],
          "scatter": [
           {
            "fillpattern": {
             "fillmode": "overlay",
             "size": 10,
             "solidity": 0.2
            },
            "type": "scatter"
           }
          ],
          "scatter3d": [
           {
            "line": {
             "colorbar": {
              "outlinewidth": 0,
              "ticks": ""
             }
            },
            "marker": {
             "colorbar": {
              "outlinewidth": 0,
              "ticks": ""
             }
            },
            "type": "scatter3d"
           }
          ],
          "scattercarpet": [
           {
            "marker": {
             "colorbar": {
              "outlinewidth": 0,
              "ticks": ""
             }
            },
            "type": "scattercarpet"
           }
          ],
          "scattergeo": [
           {
            "marker": {
             "colorbar": {
              "outlinewidth": 0,
              "ticks": ""
             }
            },
            "type": "scattergeo"
           }
          ],
          "scattergl": [
           {
            "marker": {
             "colorbar": {
              "outlinewidth": 0,
              "ticks": ""
             }
            },
            "type": "scattergl"
           }
          ],
          "scattermapbox": [
           {
            "marker": {
             "colorbar": {
              "outlinewidth": 0,
              "ticks": ""
             }
            },
            "type": "scattermapbox"
           }
          ],
          "scatterpolar": [
           {
            "marker": {
             "colorbar": {
              "outlinewidth": 0,
              "ticks": ""
             }
            },
            "type": "scatterpolar"
           }
          ],
          "scatterpolargl": [
           {
            "marker": {
             "colorbar": {
              "outlinewidth": 0,
              "ticks": ""
             }
            },
            "type": "scatterpolargl"
           }
          ],
          "scatterternary": [
           {
            "marker": {
             "colorbar": {
              "outlinewidth": 0,
              "ticks": ""
             }
            },
            "type": "scatterternary"
           }
          ],
          "surface": [
           {
            "colorbar": {
             "outlinewidth": 0,
             "ticks": ""
            },
            "colorscale": [
             [
              0,
              "#0d0887"
             ],
             [
              0.1111111111111111,
              "#46039f"
             ],
             [
              0.2222222222222222,
              "#7201a8"
             ],
             [
              0.3333333333333333,
              "#9c179e"
             ],
             [
              0.4444444444444444,
              "#bd3786"
             ],
             [
              0.5555555555555556,
              "#d8576b"
             ],
             [
              0.6666666666666666,
              "#ed7953"
             ],
             [
              0.7777777777777778,
              "#fb9f3a"
             ],
             [
              0.8888888888888888,
              "#fdca26"
             ],
             [
              1,
              "#f0f921"
             ]
            ],
            "type": "surface"
           }
          ],
          "table": [
           {
            "cells": {
             "fill": {
              "color": "#EBF0F8"
             },
             "line": {
              "color": "white"
             }
            },
            "header": {
             "fill": {
              "color": "#C8D4E3"
             },
             "line": {
              "color": "white"
             }
            },
            "type": "table"
           }
          ]
         },
         "layout": {
          "annotationdefaults": {
           "arrowcolor": "#2a3f5f",
           "arrowhead": 0,
           "arrowwidth": 1
          },
          "autotypenumbers": "strict",
          "coloraxis": {
           "colorbar": {
            "outlinewidth": 0,
            "ticks": ""
           }
          },
          "colorscale": {
           "diverging": [
            [
             0,
             "#8e0152"
            ],
            [
             0.1,
             "#c51b7d"
            ],
            [
             0.2,
             "#de77ae"
            ],
            [
             0.3,
             "#f1b6da"
            ],
            [
             0.4,
             "#fde0ef"
            ],
            [
             0.5,
             "#f7f7f7"
            ],
            [
             0.6,
             "#e6f5d0"
            ],
            [
             0.7,
             "#b8e186"
            ],
            [
             0.8,
             "#7fbc41"
            ],
            [
             0.9,
             "#4d9221"
            ],
            [
             1,
             "#276419"
            ]
           ],
           "sequential": [
            [
             0,
             "#0d0887"
            ],
            [
             0.1111111111111111,
             "#46039f"
            ],
            [
             0.2222222222222222,
             "#7201a8"
            ],
            [
             0.3333333333333333,
             "#9c179e"
            ],
            [
             0.4444444444444444,
             "#bd3786"
            ],
            [
             0.5555555555555556,
             "#d8576b"
            ],
            [
             0.6666666666666666,
             "#ed7953"
            ],
            [
             0.7777777777777778,
             "#fb9f3a"
            ],
            [
             0.8888888888888888,
             "#fdca26"
            ],
            [
             1,
             "#f0f921"
            ]
           ],
           "sequentialminus": [
            [
             0,
             "#0d0887"
            ],
            [
             0.1111111111111111,
             "#46039f"
            ],
            [
             0.2222222222222222,
             "#7201a8"
            ],
            [
             0.3333333333333333,
             "#9c179e"
            ],
            [
             0.4444444444444444,
             "#bd3786"
            ],
            [
             0.5555555555555556,
             "#d8576b"
            ],
            [
             0.6666666666666666,
             "#ed7953"
            ],
            [
             0.7777777777777778,
             "#fb9f3a"
            ],
            [
             0.8888888888888888,
             "#fdca26"
            ],
            [
             1,
             "#f0f921"
            ]
           ]
          },
          "colorway": [
           "#636efa",
           "#EF553B",
           "#00cc96",
           "#ab63fa",
           "#FFA15A",
           "#19d3f3",
           "#FF6692",
           "#B6E880",
           "#FF97FF",
           "#FECB52"
          ],
          "font": {
           "color": "#2a3f5f"
          },
          "geo": {
           "bgcolor": "white",
           "lakecolor": "white",
           "landcolor": "#E5ECF6",
           "showlakes": true,
           "showland": true,
           "subunitcolor": "white"
          },
          "hoverlabel": {
           "align": "left"
          },
          "hovermode": "closest",
          "mapbox": {
           "style": "light"
          },
          "paper_bgcolor": "white",
          "plot_bgcolor": "#E5ECF6",
          "polar": {
           "angularaxis": {
            "gridcolor": "white",
            "linecolor": "white",
            "ticks": ""
           },
           "bgcolor": "#E5ECF6",
           "radialaxis": {
            "gridcolor": "white",
            "linecolor": "white",
            "ticks": ""
           }
          },
          "scene": {
           "xaxis": {
            "backgroundcolor": "#E5ECF6",
            "gridcolor": "white",
            "gridwidth": 2,
            "linecolor": "white",
            "showbackground": true,
            "ticks": "",
            "zerolinecolor": "white"
           },
           "yaxis": {
            "backgroundcolor": "#E5ECF6",
            "gridcolor": "white",
            "gridwidth": 2,
            "linecolor": "white",
            "showbackground": true,
            "ticks": "",
            "zerolinecolor": "white"
           },
           "zaxis": {
            "backgroundcolor": "#E5ECF6",
            "gridcolor": "white",
            "gridwidth": 2,
            "linecolor": "white",
            "showbackground": true,
            "ticks": "",
            "zerolinecolor": "white"
           }
          },
          "shapedefaults": {
           "line": {
            "color": "#2a3f5f"
           }
          },
          "ternary": {
           "aaxis": {
            "gridcolor": "white",
            "linecolor": "white",
            "ticks": ""
           },
           "baxis": {
            "gridcolor": "white",
            "linecolor": "white",
            "ticks": ""
           },
           "bgcolor": "#E5ECF6",
           "caxis": {
            "gridcolor": "white",
            "linecolor": "white",
            "ticks": ""
           }
          },
          "title": {
           "x": 0.05
          },
          "xaxis": {
           "automargin": true,
           "gridcolor": "white",
           "linecolor": "white",
           "ticks": "",
           "title": {
            "standoff": 15
           },
           "zerolinecolor": "white",
           "zerolinewidth": 2
          },
          "yaxis": {
           "automargin": true,
           "gridcolor": "white",
           "linecolor": "white",
           "ticks": "",
           "title": {
            "standoff": 15
           },
           "zerolinecolor": "white",
           "zerolinewidth": 2
          }
         }
        },
        "width": 800,
        "xaxis": {
         "anchor": "y",
         "domain": [
          0,
          1
         ],
         "title": {
          "text": "fractal_dimension_worst"
         }
        },
        "yaxis": {
         "anchor": "x",
         "domain": [
          0,
          1
         ],
         "title": {
          "text": "index"
         }
        }
       }
      }
     },
     "metadata": {},
     "output_type": "display_data"
    }
   ],
   "source": [
    "\n",
    "px.scatter(data_frame = df, x = 'fractal_dimension_worst', color = 'diagnosis', color_discrete_sequence = ['#05445E', '#75E6DA'], width = 800)\n"
   ]
  },
  {
   "cell_type": "code",
   "execution_count": 12,
   "metadata": {},
   "outputs": [],
   "source": [
    "df.drop('id', axis = 1, inplace = True)"
   ]
  },
  {
   "cell_type": "code",
   "execution_count": 13,
   "metadata": {},
   "outputs": [],
   "source": [
    "df.drop('Unnamed: 32', axis = 1, inplace = True)"
   ]
  },
  {
   "cell_type": "code",
   "execution_count": 14,
   "metadata": {},
   "outputs": [
    {
     "data": {
      "text/html": [
       "<div>\n",
       "<style scoped>\n",
       "    .dataframe tbody tr th:only-of-type {\n",
       "        vertical-align: middle;\n",
       "    }\n",
       "\n",
       "    .dataframe tbody tr th {\n",
       "        vertical-align: top;\n",
       "    }\n",
       "\n",
       "    .dataframe thead th {\n",
       "        text-align: right;\n",
       "    }\n",
       "</style>\n",
       "<table border=\"1\" class=\"dataframe\">\n",
       "  <thead>\n",
       "    <tr style=\"text-align: right;\">\n",
       "      <th></th>\n",
       "      <th>count</th>\n",
       "      <th>mean</th>\n",
       "      <th>std</th>\n",
       "      <th>min</th>\n",
       "      <th>25%</th>\n",
       "      <th>50%</th>\n",
       "      <th>75%</th>\n",
       "      <th>max</th>\n",
       "    </tr>\n",
       "  </thead>\n",
       "  <tbody>\n",
       "    <tr>\n",
       "      <th>radius_mean</th>\n",
       "      <td>569.0</td>\n",
       "      <td>14.127292</td>\n",
       "      <td>3.524049</td>\n",
       "      <td>6.981000</td>\n",
       "      <td>11.700000</td>\n",
       "      <td>13.370000</td>\n",
       "      <td>15.780000</td>\n",
       "      <td>28.11000</td>\n",
       "    </tr>\n",
       "    <tr>\n",
       "      <th>texture_mean</th>\n",
       "      <td>569.0</td>\n",
       "      <td>19.289649</td>\n",
       "      <td>4.301036</td>\n",
       "      <td>9.710000</td>\n",
       "      <td>16.170000</td>\n",
       "      <td>18.840000</td>\n",
       "      <td>21.800000</td>\n",
       "      <td>39.28000</td>\n",
       "    </tr>\n",
       "    <tr>\n",
       "      <th>perimeter_mean</th>\n",
       "      <td>569.0</td>\n",
       "      <td>91.969033</td>\n",
       "      <td>24.298981</td>\n",
       "      <td>43.790000</td>\n",
       "      <td>75.170000</td>\n",
       "      <td>86.240000</td>\n",
       "      <td>104.100000</td>\n",
       "      <td>188.50000</td>\n",
       "    </tr>\n",
       "    <tr>\n",
       "      <th>area_mean</th>\n",
       "      <td>569.0</td>\n",
       "      <td>654.889104</td>\n",
       "      <td>351.914129</td>\n",
       "      <td>143.500000</td>\n",
       "      <td>420.300000</td>\n",
       "      <td>551.100000</td>\n",
       "      <td>782.700000</td>\n",
       "      <td>2501.00000</td>\n",
       "    </tr>\n",
       "    <tr>\n",
       "      <th>smoothness_mean</th>\n",
       "      <td>569.0</td>\n",
       "      <td>0.096360</td>\n",
       "      <td>0.014064</td>\n",
       "      <td>0.052630</td>\n",
       "      <td>0.086370</td>\n",
       "      <td>0.095870</td>\n",
       "      <td>0.105300</td>\n",
       "      <td>0.16340</td>\n",
       "    </tr>\n",
       "    <tr>\n",
       "      <th>compactness_mean</th>\n",
       "      <td>569.0</td>\n",
       "      <td>0.104341</td>\n",
       "      <td>0.052813</td>\n",
       "      <td>0.019380</td>\n",
       "      <td>0.064920</td>\n",
       "      <td>0.092630</td>\n",
       "      <td>0.130400</td>\n",
       "      <td>0.34540</td>\n",
       "    </tr>\n",
       "    <tr>\n",
       "      <th>concavity_mean</th>\n",
       "      <td>569.0</td>\n",
       "      <td>0.088799</td>\n",
       "      <td>0.079720</td>\n",
       "      <td>0.000000</td>\n",
       "      <td>0.029560</td>\n",
       "      <td>0.061540</td>\n",
       "      <td>0.130700</td>\n",
       "      <td>0.42680</td>\n",
       "    </tr>\n",
       "    <tr>\n",
       "      <th>concave points_mean</th>\n",
       "      <td>569.0</td>\n",
       "      <td>0.048919</td>\n",
       "      <td>0.038803</td>\n",
       "      <td>0.000000</td>\n",
       "      <td>0.020310</td>\n",
       "      <td>0.033500</td>\n",
       "      <td>0.074000</td>\n",
       "      <td>0.20120</td>\n",
       "    </tr>\n",
       "    <tr>\n",
       "      <th>symmetry_mean</th>\n",
       "      <td>569.0</td>\n",
       "      <td>0.181162</td>\n",
       "      <td>0.027414</td>\n",
       "      <td>0.106000</td>\n",
       "      <td>0.161900</td>\n",
       "      <td>0.179200</td>\n",
       "      <td>0.195700</td>\n",
       "      <td>0.30400</td>\n",
       "    </tr>\n",
       "    <tr>\n",
       "      <th>fractal_dimension_mean</th>\n",
       "      <td>569.0</td>\n",
       "      <td>0.062798</td>\n",
       "      <td>0.007060</td>\n",
       "      <td>0.049960</td>\n",
       "      <td>0.057700</td>\n",
       "      <td>0.061540</td>\n",
       "      <td>0.066120</td>\n",
       "      <td>0.09744</td>\n",
       "    </tr>\n",
       "    <tr>\n",
       "      <th>radius_se</th>\n",
       "      <td>569.0</td>\n",
       "      <td>0.405172</td>\n",
       "      <td>0.277313</td>\n",
       "      <td>0.111500</td>\n",
       "      <td>0.232400</td>\n",
       "      <td>0.324200</td>\n",
       "      <td>0.478900</td>\n",
       "      <td>2.87300</td>\n",
       "    </tr>\n",
       "    <tr>\n",
       "      <th>texture_se</th>\n",
       "      <td>569.0</td>\n",
       "      <td>1.216853</td>\n",
       "      <td>0.551648</td>\n",
       "      <td>0.360200</td>\n",
       "      <td>0.833900</td>\n",
       "      <td>1.108000</td>\n",
       "      <td>1.474000</td>\n",
       "      <td>4.88500</td>\n",
       "    </tr>\n",
       "    <tr>\n",
       "      <th>perimeter_se</th>\n",
       "      <td>569.0</td>\n",
       "      <td>2.866059</td>\n",
       "      <td>2.021855</td>\n",
       "      <td>0.757000</td>\n",
       "      <td>1.606000</td>\n",
       "      <td>2.287000</td>\n",
       "      <td>3.357000</td>\n",
       "      <td>21.98000</td>\n",
       "    </tr>\n",
       "    <tr>\n",
       "      <th>area_se</th>\n",
       "      <td>569.0</td>\n",
       "      <td>40.337079</td>\n",
       "      <td>45.491006</td>\n",
       "      <td>6.802000</td>\n",
       "      <td>17.850000</td>\n",
       "      <td>24.530000</td>\n",
       "      <td>45.190000</td>\n",
       "      <td>542.20000</td>\n",
       "    </tr>\n",
       "    <tr>\n",
       "      <th>smoothness_se</th>\n",
       "      <td>569.0</td>\n",
       "      <td>0.007041</td>\n",
       "      <td>0.003003</td>\n",
       "      <td>0.001713</td>\n",
       "      <td>0.005169</td>\n",
       "      <td>0.006380</td>\n",
       "      <td>0.008146</td>\n",
       "      <td>0.03113</td>\n",
       "    </tr>\n",
       "    <tr>\n",
       "      <th>compactness_se</th>\n",
       "      <td>569.0</td>\n",
       "      <td>0.025478</td>\n",
       "      <td>0.017908</td>\n",
       "      <td>0.002252</td>\n",
       "      <td>0.013080</td>\n",
       "      <td>0.020450</td>\n",
       "      <td>0.032450</td>\n",
       "      <td>0.13540</td>\n",
       "    </tr>\n",
       "    <tr>\n",
       "      <th>concavity_se</th>\n",
       "      <td>569.0</td>\n",
       "      <td>0.031894</td>\n",
       "      <td>0.030186</td>\n",
       "      <td>0.000000</td>\n",
       "      <td>0.015090</td>\n",
       "      <td>0.025890</td>\n",
       "      <td>0.042050</td>\n",
       "      <td>0.39600</td>\n",
       "    </tr>\n",
       "    <tr>\n",
       "      <th>concave points_se</th>\n",
       "      <td>569.0</td>\n",
       "      <td>0.011796</td>\n",
       "      <td>0.006170</td>\n",
       "      <td>0.000000</td>\n",
       "      <td>0.007638</td>\n",
       "      <td>0.010930</td>\n",
       "      <td>0.014710</td>\n",
       "      <td>0.05279</td>\n",
       "    </tr>\n",
       "    <tr>\n",
       "      <th>symmetry_se</th>\n",
       "      <td>569.0</td>\n",
       "      <td>0.020542</td>\n",
       "      <td>0.008266</td>\n",
       "      <td>0.007882</td>\n",
       "      <td>0.015160</td>\n",
       "      <td>0.018730</td>\n",
       "      <td>0.023480</td>\n",
       "      <td>0.07895</td>\n",
       "    </tr>\n",
       "    <tr>\n",
       "      <th>fractal_dimension_se</th>\n",
       "      <td>569.0</td>\n",
       "      <td>0.003795</td>\n",
       "      <td>0.002646</td>\n",
       "      <td>0.000895</td>\n",
       "      <td>0.002248</td>\n",
       "      <td>0.003187</td>\n",
       "      <td>0.004558</td>\n",
       "      <td>0.02984</td>\n",
       "    </tr>\n",
       "    <tr>\n",
       "      <th>radius_worst</th>\n",
       "      <td>569.0</td>\n",
       "      <td>16.269190</td>\n",
       "      <td>4.833242</td>\n",
       "      <td>7.930000</td>\n",
       "      <td>13.010000</td>\n",
       "      <td>14.970000</td>\n",
       "      <td>18.790000</td>\n",
       "      <td>36.04000</td>\n",
       "    </tr>\n",
       "    <tr>\n",
       "      <th>texture_worst</th>\n",
       "      <td>569.0</td>\n",
       "      <td>25.677223</td>\n",
       "      <td>6.146258</td>\n",
       "      <td>12.020000</td>\n",
       "      <td>21.080000</td>\n",
       "      <td>25.410000</td>\n",
       "      <td>29.720000</td>\n",
       "      <td>49.54000</td>\n",
       "    </tr>\n",
       "    <tr>\n",
       "      <th>perimeter_worst</th>\n",
       "      <td>569.0</td>\n",
       "      <td>107.261213</td>\n",
       "      <td>33.602542</td>\n",
       "      <td>50.410000</td>\n",
       "      <td>84.110000</td>\n",
       "      <td>97.660000</td>\n",
       "      <td>125.400000</td>\n",
       "      <td>251.20000</td>\n",
       "    </tr>\n",
       "    <tr>\n",
       "      <th>area_worst</th>\n",
       "      <td>569.0</td>\n",
       "      <td>880.583128</td>\n",
       "      <td>569.356993</td>\n",
       "      <td>185.200000</td>\n",
       "      <td>515.300000</td>\n",
       "      <td>686.500000</td>\n",
       "      <td>1084.000000</td>\n",
       "      <td>4254.00000</td>\n",
       "    </tr>\n",
       "    <tr>\n",
       "      <th>smoothness_worst</th>\n",
       "      <td>569.0</td>\n",
       "      <td>0.132369</td>\n",
       "      <td>0.022832</td>\n",
       "      <td>0.071170</td>\n",
       "      <td>0.116600</td>\n",
       "      <td>0.131300</td>\n",
       "      <td>0.146000</td>\n",
       "      <td>0.22260</td>\n",
       "    </tr>\n",
       "    <tr>\n",
       "      <th>compactness_worst</th>\n",
       "      <td>569.0</td>\n",
       "      <td>0.254265</td>\n",
       "      <td>0.157336</td>\n",
       "      <td>0.027290</td>\n",
       "      <td>0.147200</td>\n",
       "      <td>0.211900</td>\n",
       "      <td>0.339100</td>\n",
       "      <td>1.05800</td>\n",
       "    </tr>\n",
       "    <tr>\n",
       "      <th>concavity_worst</th>\n",
       "      <td>569.0</td>\n",
       "      <td>0.272188</td>\n",
       "      <td>0.208624</td>\n",
       "      <td>0.000000</td>\n",
       "      <td>0.114500</td>\n",
       "      <td>0.226700</td>\n",
       "      <td>0.382900</td>\n",
       "      <td>1.25200</td>\n",
       "    </tr>\n",
       "    <tr>\n",
       "      <th>concave points_worst</th>\n",
       "      <td>569.0</td>\n",
       "      <td>0.114606</td>\n",
       "      <td>0.065732</td>\n",
       "      <td>0.000000</td>\n",
       "      <td>0.064930</td>\n",
       "      <td>0.099930</td>\n",
       "      <td>0.161400</td>\n",
       "      <td>0.29100</td>\n",
       "    </tr>\n",
       "    <tr>\n",
       "      <th>symmetry_worst</th>\n",
       "      <td>569.0</td>\n",
       "      <td>0.290076</td>\n",
       "      <td>0.061867</td>\n",
       "      <td>0.156500</td>\n",
       "      <td>0.250400</td>\n",
       "      <td>0.282200</td>\n",
       "      <td>0.317900</td>\n",
       "      <td>0.66380</td>\n",
       "    </tr>\n",
       "    <tr>\n",
       "      <th>fractal_dimension_worst</th>\n",
       "      <td>569.0</td>\n",
       "      <td>0.083946</td>\n",
       "      <td>0.018061</td>\n",
       "      <td>0.055040</td>\n",
       "      <td>0.071460</td>\n",
       "      <td>0.080040</td>\n",
       "      <td>0.092080</td>\n",
       "      <td>0.20750</td>\n",
       "    </tr>\n",
       "  </tbody>\n",
       "</table>\n",
       "</div>"
      ],
      "text/plain": [
       "                         count        mean         std         min  \\\n",
       "radius_mean              569.0   14.127292    3.524049    6.981000   \n",
       "texture_mean             569.0   19.289649    4.301036    9.710000   \n",
       "perimeter_mean           569.0   91.969033   24.298981   43.790000   \n",
       "area_mean                569.0  654.889104  351.914129  143.500000   \n",
       "smoothness_mean          569.0    0.096360    0.014064    0.052630   \n",
       "compactness_mean         569.0    0.104341    0.052813    0.019380   \n",
       "concavity_mean           569.0    0.088799    0.079720    0.000000   \n",
       "concave points_mean      569.0    0.048919    0.038803    0.000000   \n",
       "symmetry_mean            569.0    0.181162    0.027414    0.106000   \n",
       "fractal_dimension_mean   569.0    0.062798    0.007060    0.049960   \n",
       "radius_se                569.0    0.405172    0.277313    0.111500   \n",
       "texture_se               569.0    1.216853    0.551648    0.360200   \n",
       "perimeter_se             569.0    2.866059    2.021855    0.757000   \n",
       "area_se                  569.0   40.337079   45.491006    6.802000   \n",
       "smoothness_se            569.0    0.007041    0.003003    0.001713   \n",
       "compactness_se           569.0    0.025478    0.017908    0.002252   \n",
       "concavity_se             569.0    0.031894    0.030186    0.000000   \n",
       "concave points_se        569.0    0.011796    0.006170    0.000000   \n",
       "symmetry_se              569.0    0.020542    0.008266    0.007882   \n",
       "fractal_dimension_se     569.0    0.003795    0.002646    0.000895   \n",
       "radius_worst             569.0   16.269190    4.833242    7.930000   \n",
       "texture_worst            569.0   25.677223    6.146258   12.020000   \n",
       "perimeter_worst          569.0  107.261213   33.602542   50.410000   \n",
       "area_worst               569.0  880.583128  569.356993  185.200000   \n",
       "smoothness_worst         569.0    0.132369    0.022832    0.071170   \n",
       "compactness_worst        569.0    0.254265    0.157336    0.027290   \n",
       "concavity_worst          569.0    0.272188    0.208624    0.000000   \n",
       "concave points_worst     569.0    0.114606    0.065732    0.000000   \n",
       "symmetry_worst           569.0    0.290076    0.061867    0.156500   \n",
       "fractal_dimension_worst  569.0    0.083946    0.018061    0.055040   \n",
       "\n",
       "                                25%         50%          75%         max  \n",
       "radius_mean               11.700000   13.370000    15.780000    28.11000  \n",
       "texture_mean              16.170000   18.840000    21.800000    39.28000  \n",
       "perimeter_mean            75.170000   86.240000   104.100000   188.50000  \n",
       "area_mean                420.300000  551.100000   782.700000  2501.00000  \n",
       "smoothness_mean            0.086370    0.095870     0.105300     0.16340  \n",
       "compactness_mean           0.064920    0.092630     0.130400     0.34540  \n",
       "concavity_mean             0.029560    0.061540     0.130700     0.42680  \n",
       "concave points_mean        0.020310    0.033500     0.074000     0.20120  \n",
       "symmetry_mean              0.161900    0.179200     0.195700     0.30400  \n",
       "fractal_dimension_mean     0.057700    0.061540     0.066120     0.09744  \n",
       "radius_se                  0.232400    0.324200     0.478900     2.87300  \n",
       "texture_se                 0.833900    1.108000     1.474000     4.88500  \n",
       "perimeter_se               1.606000    2.287000     3.357000    21.98000  \n",
       "area_se                   17.850000   24.530000    45.190000   542.20000  \n",
       "smoothness_se              0.005169    0.006380     0.008146     0.03113  \n",
       "compactness_se             0.013080    0.020450     0.032450     0.13540  \n",
       "concavity_se               0.015090    0.025890     0.042050     0.39600  \n",
       "concave points_se          0.007638    0.010930     0.014710     0.05279  \n",
       "symmetry_se                0.015160    0.018730     0.023480     0.07895  \n",
       "fractal_dimension_se       0.002248    0.003187     0.004558     0.02984  \n",
       "radius_worst              13.010000   14.970000    18.790000    36.04000  \n",
       "texture_worst             21.080000   25.410000    29.720000    49.54000  \n",
       "perimeter_worst           84.110000   97.660000   125.400000   251.20000  \n",
       "area_worst               515.300000  686.500000  1084.000000  4254.00000  \n",
       "smoothness_worst           0.116600    0.131300     0.146000     0.22260  \n",
       "compactness_worst          0.147200    0.211900     0.339100     1.05800  \n",
       "concavity_worst            0.114500    0.226700     0.382900     1.25200  \n",
       "concave points_worst       0.064930    0.099930     0.161400     0.29100  \n",
       "symmetry_worst             0.250400    0.282200     0.317900     0.66380  \n",
       "fractal_dimension_worst    0.071460    0.080040     0.092080     0.20750  "
      ]
     },
     "execution_count": 14,
     "metadata": {},
     "output_type": "execute_result"
    }
   ],
   "source": [
    "df.describe().T"
   ]
  },
  {
   "cell_type": "code",
   "execution_count": 15,
   "metadata": {},
   "outputs": [],
   "source": [
    "# encoding the target \n",
    "\n",
    "df['diagnosis'] = (df['diagnosis'] == 'M').astype(int)"
   ]
  },
  {
   "cell_type": "code",
   "execution_count": 16,
   "metadata": {},
   "outputs": [
    {
     "data": {
      "text/plain": [
       "<Axes: >"
      ]
     },
     "execution_count": 16,
     "metadata": {},
     "output_type": "execute_result"
    },
    {
     "data": {
      "image/png": "[encoded data removed]",
      "text/plain": [
       "<Figure size 1200x1200 with 2 Axes>"
      ]
     },
     "metadata": {},
     "output_type": "display_data"
    }
   ],
   "source": [
    "corr = df.corr()\n",
    "plt.figure(figsize=(12,12))\n",
    "sns.heatmap(corr, cmap = 'mako_r')"
   ]
  },
  {
   "cell_type": "code",
   "execution_count": 17,
   "metadata": {},
   "outputs": [
    {
     "name": "stdout",
     "output_type": "stream",
     "text": [
      "['radius_mean', 'texture_mean', 'perimeter_mean', 'area_mean', 'smoothness_mean', 'compactness_mean', 'concavity_mean', 'concave points_mean', 'symmetry_mean', 'radius_se', 'perimeter_se', 'area_se', 'compactness_se', 'concavity_se', 'concave points_se', 'radius_worst', 'texture_worst', 'perimeter_worst', 'area_worst', 'smoothness_worst', 'compactness_worst', 'concavity_worst', 'concave points_worst', 'symmetry_worst', 'fractal_dimension_worst']\n"
     ]
    }
   ],
   "source": [
    "# Get the absolute value of the correlation \n",
    "cor_target = abs(corr['diagnosis'])\n",
    "\n",
    "# Select highly correlated features \n",
    "relevant_features = cor_target[cor_target > .2]\n",
    "\n",
    "# Collect the names of the features \n",
    "names = [index for index in relevant_features.index]\n",
    "\n",
    "names.remove('diagnosis')\n",
    "\n",
    "print(names)"
   ]
  },
  {
   "cell_type": "code",
   "execution_count": 18,
   "metadata": {},
   "outputs": [],
   "source": [
    "# Data and labels\n",
    "\n",
    "X = df[names].values\n",
    "y = df['diagnosis'].values"
   ]
  },
  {
   "cell_type": "code",
   "execution_count": 19,
   "metadata": {},
   "outputs": [],
   "source": [
    "def train_test_split(X, y, random_state = 44, test_size = .2):\n",
    "\n",
    "    # Get number of samples \n",
    "    n_samples = X.shape[0]\n",
    "\n",
    "    # set the seed for the random number generator\n",
    "    np.random.seed(random_state)\n",
    "\n",
    "    # shuffle the indices \n",
    "    shuffled_indices = np.random.permutation(np.arange(n_samples))\n",
    "\n",
    "    # Determine the size of test set \n",
    "    test_size = int(n_samples*test_size)\n",
    "\n",
    "    # split the indices into test and train \n",
    "    test_indices = shuffled_indices[:test_size]\n",
    "    train_indices = shuffled_indices[test_size:]\n",
    "\n",
    "    # split the features and target arrays into test and train \n",
    "    X_train, X_test = X[train_indices], X[test_indices]\n",
    "    y_train, y_test = y[train_indices], y[test_indices]\n",
    "\n",
    "    '''Returns:\n",
    "               Tuple[numpy.ndarray]: A tuple containing X_train, X_test, y_train, y_test\n",
    "    '''\n",
    "\n",
    "    return X_train, X_test, y_train, y_test"
   ]
  },
  {
   "cell_type": "code",
   "execution_count": 20,
   "metadata": {},
   "outputs": [],
   "source": [
    "def scale(X):\n",
    "\n",
    "    # Standardizes the data in the array X\n",
    "\n",
    "    mean = np.mean(X, axis = 0)\n",
    "    std = np.std(X, axis = 0)\n",
    "\n",
    "\n",
    "    # standardize the data \n",
    "    X = (X - mean)/std \n",
    "\n",
    "    '''Returns:\n",
    "                np.ndarray : The standardized features of array '''\n",
    "    return X"
   ]
  },
  {
   "cell_type": "code",
   "execution_count": 21,
   "metadata": {},
   "outputs": [],
   "source": [
    "X = scale(X)\n",
    "X_train, X_test, y_train, y_test = train_test_split(X, y, test_size = .2)"
   ]
  },
  {
   "cell_type": "code",
   "execution_count": 22,
   "metadata": {},
   "outputs": [],
   "source": [
    "# Activation function \n",
    "# ReLU (Rectified Linear Unit)\n",
    "\n",
    "def relu(Z):\n",
    "\n",
    "    A = np.maximum(0,Z)\n",
    "    cache = Z\n",
    "\n",
    "    ''' Returns:\n",
    "                A -- post-activation parameter\n",
    "                cache -- used for backpropogation\n",
    "    '''\n",
    "\n",
    "    return A, cache"
   ]
  },
  {
   "cell_type": "code",
   "execution_count": 23,
   "metadata": {},
   "outputs": [
    {
     "data": {
      "application/vnd.plotly.v1+json": {
       "config": {
        "plotlyServerURL": "https://plot.ly"
       },
       "data": [
        {
         "hovertemplate": "x=%{x}<br>y=%{y}<extra></extra>",
         "legendgroup": "",
         "line": {
          "color": "#636efa",
          "dash": "solid"
         },
         "marker": {
          "symbol": "circle"
         },
         "mode": "lines",
         "name": "",
         "orientation": "v",
         "showlegend": false,
         "type": "scatter",
         "x": [
          -12,
          -11.879396984924623,
          -11.758793969849247,
          -11.638190954773869,
          -11.517587939698492,
          -11.396984924623116,
          -11.27638190954774,
          -11.155778894472363,
          -11.035175879396984,
          -10.914572864321608,
          -10.793969849246231,
          -10.673366834170855,
          -10.552763819095478,
          -10.4321608040201,
          -10.311557788944723,
          -10.190954773869347,
          -10.07035175879397,
          -9.949748743718594,
          -9.829145728643216,
          -9.708542713567839,
          -9.587939698492463,
          -9.467336683417086,
          -9.34673366834171,
          -9.226130653266331,
          -9.105527638190955,
          -8.984924623115578,
          -8.864321608040202,
          -8.743718592964825,
          -8.623115577889447,
          -8.50251256281407,
          -8.381909547738694,
          -8.261306532663317,
          -8.14070351758794,
          -8.020100502512562,
          -7.899497487437186,
          -7.778894472361809,
          -7.658291457286432,
          -7.5376884422110555,
          -7.417085427135679,
          -7.296482412060302,
          -7.175879396984925,
          -7.055276381909548,
          -6.934673366834171,
          -6.814070351758795,
          -6.693467336683417,
          -6.572864321608041,
          -6.452261306532663,
          -6.331658291457287,
          -6.211055276381909,
          -6.090452261306533,
          -5.969849246231156,
          -5.849246231155779,
          -5.728643216080402,
          -5.608040201005025,
          -5.4874371859296485,
          -5.366834170854272,
          -5.2462311557788945,
          -5.125628140703518,
          -5.005025125628141,
          -4.884422110552764,
          -4.763819095477388,
          -4.64321608040201,
          -4.522613065326634,
          -4.402010050251256,
          -4.28140703517588,
          -4.160804020100503,
          -4.040201005025126,
          -3.9195979899497484,
          -3.798994974874372,
          -3.6783919597989954,
          -3.557788944723619,
          -3.4371859296482423,
          -3.316582914572864,
          -3.1959798994974875,
          -3.075376884422111,
          -2.9547738693467345,
          -2.834170854271358,
          -2.7135678391959797,
          -2.592964824120603,
          -2.4723618090452266,
          -2.35175879396985,
          -2.2311557788944736,
          -2.1105527638190953,
          -1.9899497487437188,
          -1.8693467336683423,
          -1.7487437185929657,
          -1.6281407035175892,
          -1.507537688442211,
          -1.3869346733668344,
          -1.2663316582914579,
          -1.1457286432160814,
          -1.0251256281407048,
          -0.9045226130653266,
          -0.78391959798995,
          -0.6633165829145735,
          -0.542713567839197,
          -0.4221105527638187,
          -0.3015075376884422,
          -0.18090452261306567,
          -0.06030150753768915,
          0.06030150753768737,
          0.18090452261306567,
          0.3015075376884422,
          0.4221105527638187,
          0.5427135678391952,
          0.6633165829145717,
          0.78391959798995,
          0.9045226130653266,
          1.025125628140703,
          1.1457286432160796,
          1.266331658291456,
          1.3869346733668344,
          1.507537688442211,
          1.6281407035175874,
          1.748743718592964,
          1.8693467336683405,
          1.9899497487437188,
          2.1105527638190953,
          2.231155778894472,
          2.3517587939698483,
          2.472361809045225,
          2.592964824120603,
          2.7135678391959797,
          2.834170854271356,
          2.9547738693467327,
          3.075376884422109,
          3.1959798994974875,
          3.316582914572864,
          3.4371859296482405,
          3.557788944723617,
          3.6783919597989936,
          3.798994974874372,
          3.9195979899497484,
          4.040201005025125,
          4.160804020100503,
          4.281407035175878,
          4.402010050251256,
          4.522613065326631,
          4.643216080402009,
          4.763819095477388,
          4.884422110552762,
          5.005025125628141,
          5.125628140703515,
          5.246231155778894,
          5.366834170854272,
          5.487437185929647,
          5.608040201005025,
          5.7286432160804,
          5.849246231155778,
          5.969849246231156,
          6.090452261306531,
          6.211055276381909,
          6.331658291457284,
          6.452261306532662,
          6.572864321608041,
          6.693467336683415,
          6.814070351758794,
          6.9346733668341685,
          7.055276381909547,
          7.175879396984925,
          7.2964824120603,
          7.417085427135678,
          7.537688442211053,
          7.658291457286431,
          7.778894472361809,
          7.899497487437184,
          8.020100502512562,
          8.140703517587937,
          8.261306532663315,
          8.381909547738694,
          8.502512562814069,
          8.623115577889447,
          8.743718592964822,
          8.8643216080402,
          8.984924623115578,
          9.105527638190953,
          9.226130653266331,
          9.346733668341706,
          9.467336683417084,
          9.587939698492463,
          9.708542713567837,
          9.829145728643216,
          9.94974874371859,
          10.070351758793969,
          10.190954773869347,
          10.311557788944722,
          10.4321608040201,
          10.552763819095475,
          10.673366834170853,
          10.793969849246231,
          10.914572864321606,
          11.035175879396984,
          11.155778894472363,
          11.276381909547737,
          11.396984924623116,
          11.51758793969849,
          11.638190954773869,
          11.758793969849247,
          11.879396984924622,
          12
         ],
         "xaxis": "x",
         "y": [
          0,
          0,
          0,
          0,
          0,
          0,
          0,
          0,
          0,
          0,
          0,
          0,
          0,
          0,
          0,
          0,
          0,
          0,
          0,
          0,
          0,
          0,
          0,
          0,
          0,
          0,
          0,
          0,
          0,
          0,
          0,
          0,
          0,
          0,
          0,
          0,
          0,
          0,
          0,
          0,
          0,
          0,
          0,
          0,
          0,
          0,
          0,
          0,
          0,
          0,
          0,
          0,
          0,
          0,
          0,
          0,
          0,
          0,
          0,
          0,
          0,
          0,
          0,
          0,
          0,
          0,
          0,
          0,
          0,
          0,
          0,
          0,
          0,
          0,
          0,
          0,
          0,
          0,
          0,
          0,
          0,
          0,
          0,
          0,
          0,
          0,
          0,
          0,
          0,
          0,
          0,
          0,
          0,
          0,
          0,
          0,
          0,
          0,
          0,
          0,
          0.06030150753768737,
          0.18090452261306567,
          0.3015075376884422,
          0.4221105527638187,
          0.5427135678391952,
          0.6633165829145717,
          0.78391959798995,
          0.9045226130653266,
          1.025125628140703,
          1.1457286432160796,
          1.266331658291456,
          1.3869346733668344,
          1.507537688442211,
          1.6281407035175874,
          1.748743718592964,
          1.8693467336683405,
          1.9899497487437188,
          2.1105527638190953,
          2.231155778894472,
          2.3517587939698483,
          2.472361809045225,
          2.592964824120603,
          2.7135678391959797,
          2.834170854271356,
          2.9547738693467327,
          3.075376884422109,
          3.1959798994974875,
          3.316582914572864,
          3.4371859296482405,
          3.557788944723617,
          3.6783919597989936,
          3.798994974874372,
          3.9195979899497484,
          4.040201005025125,
          4.160804020100503,
          4.281407035175878,
          4.402010050251256,
          4.522613065326631,
          4.643216080402009,
          4.763819095477388,
          4.884422110552762,
          5.005025125628141,
          5.125628140703515,
          5.246231155778894,
          5.366834170854272,
          5.487437185929647,
          5.608040201005025,
          5.7286432160804,
          5.849246231155778,
          5.969849246231156,
          6.090452261306531,
          6.211055276381909,
          6.331658291457284,
          6.452261306532662,
          6.572864321608041,
          6.693467336683415,
          6.814070351758794,
          6.9346733668341685,
          7.055276381909547,
          7.175879396984925,
          7.2964824120603,
          7.417085427135678,
          7.537688442211053,
          7.658291457286431,
          7.778894472361809,
          7.899497487437184,
          8.020100502512562,
          8.140703517587937,
          8.261306532663315,
          8.381909547738694,
          8.502512562814069,
          8.623115577889447,
          8.743718592964822,
          8.8643216080402,
          8.984924623115578,
          9.105527638190953,
          9.226130653266331,
          9.346733668341706,
          9.467336683417084,
          9.587939698492463,
          9.708542713567837,
          9.829145728643216,
          9.94974874371859,
          10.070351758793969,
          10.190954773869347,
          10.311557788944722,
          10.4321608040201,
          10.552763819095475,
          10.673366834170853,
          10.793969849246231,
          10.914572864321606,
          11.035175879396984,
          11.155778894472363,
          11.276381909547737,
          11.396984924623116,
          11.51758793969849,
          11.638190954773869,
          11.758793969849247,
          11.879396984924622,
          12
         ],
         "yaxis": "y"
        }
       ],
       "layout": {
        "legend": {
         "tracegroupgap": 0
        },
        "template": {
         "data": {
          "bar": [
           {
            "error_x": {
             "color": "#f2f5fa"
            },
            "error_y": {
             "color": "#f2f5fa"
            },
            "marker": {
             "line": {
              "color": "rgb(17,17,17)",
              "width": 0.5
             },
             "pattern": {
              "fillmode": "overlay",
              "size": 10,
              "solidity": 0.2
             }
            },
            "type": "bar"
           }
          ],
          "barpolar": [
           {
            "marker": {
             "line": {
              "color": "rgb(17,17,17)",
              "width": 0.5
             },
             "pattern": {
              "fillmode": "overlay",
              "size": 10,
              "solidity": 0.2
             }
            },
            "type": "barpolar"
           }
          ],
          "carpet": [
           {
            "aaxis": {
             "endlinecolor": "#A2B1C6",
             "gridcolor": "#506784",
             "linecolor": "#506784",
             "minorgridcolor": "#506784",
             "startlinecolor": "#A2B1C6"
            },
            "baxis": {
             "endlinecolor": "#A2B1C6",
             "gridcolor": "#506784",
             "linecolor": "#506784",
             "minorgridcolor": "#506784",
             "startlinecolor": "#A2B1C6"
            },
            "type": "carpet"
           }
          ],
          "choropleth": [
           {
            "colorbar": {
             "outlinewidth": 0,
             "ticks": ""
            },
            "type": "choropleth"
           }
          ],
          "contour": [
           {
            "colorbar": {
             "outlinewidth": 0,
             "ticks": ""
            },
            "colorscale": [
             [
              0,
              "#0d0887"
             ],
             [
              0.1111111111111111,
              "#46039f"
             ],
             [
              0.2222222222222222,
              "#7201a8"
             ],
             [
              0.3333333333333333,
              "#9c179e"
             ],
             [
              0.4444444444444444,
              "#bd3786"
             ],
             [
              0.5555555555555556,
              "#d8576b"
             ],
             [
              0.6666666666666666,
              "#ed7953"
             ],
             [
              0.7777777777777778,
              "#fb9f3a"
             ],
             [
              0.8888888888888888,
              "#fdca26"
             ],
             [
              1,
              "#f0f921"
             ]
            ],
            "type": "contour"
           }
          ],
          "contourcarpet": [
           {
            "colorbar": {
             "outlinewidth": 0,
             "ticks": ""
            },
            "type": "contourcarpet"
           }
          ],
          "heatmap": [
           {
            "colorbar": {
             "outlinewidth": 0,
             "ticks": ""
            },
            "colorscale": [
             [
              0,
              "#0d0887"
             ],
             [
              0.1111111111111111,
              "#46039f"
             ],
             [
              0.2222222222222222,
              "#7201a8"
             ],
             [
              0.3333333333333333,
              "#9c179e"
             ],
             [
              0.4444444444444444,
              "#bd3786"
             ],
             [
              0.5555555555555556,
              "#d8576b"
             ],
             [
              0.6666666666666666,
              "#ed7953"
             ],
             [
              0.7777777777777778,
              "#fb9f3a"
             ],
             [
              0.8888888888888888,
              "#fdca26"
             ],
             [
              1,
              "#f0f921"
             ]
            ],
            "type": "heatmap"
           }
          ],
          "heatmapgl": [
           {
            "colorbar": {
             "outlinewidth": 0,
             "ticks": ""
            },
            "colorscale": [
             [
              0,
              "#0d0887"
             ],
             [
              0.1111111111111111,
              "#46039f"
             ],
             [
              0.2222222222222222,
              "#7201a8"
             ],
             [
              0.3333333333333333,
              "#9c179e"
             ],
             [
              0.4444444444444444,
              "#bd3786"
             ],
             [
              0.5555555555555556,
              "#d8576b"
             ],
             [
              0.6666666666666666,
              "#ed7953"
             ],
             [
              0.7777777777777778,
              "#fb9f3a"
             ],
             [
              0.8888888888888888,
              "#fdca26"
             ],
             [
              1,
              "#f0f921"
             ]
            ],
            "type": "heatmapgl"
           }
          ],
          "histogram": [
           {
            "marker": {
             "pattern": {
              "fillmode": "overlay",
              "size": 10,
              "solidity": 0.2
             }
            },
            "type": "histogram"
           }
          ],
          "histogram2d": [
           {
            "colorbar": {
             "outlinewidth": 0,
             "ticks": ""
            },
            "colorscale": [
             [
              0,
              "#0d0887"
             ],
             [
              0.1111111111111111,
              "#46039f"
             ],
             [
              0.2222222222222222,
              "#7201a8"
             ],
             [
              0.3333333333333333,
              "#9c179e"
             ],
             [
              0.4444444444444444,
              "#bd3786"
             ],
             [
              0.5555555555555556,
              "#d8576b"
             ],
             [
              0.6666666666666666,
              "#ed7953"
             ],
             [
              0.7777777777777778,
              "#fb9f3a"
             ],
             [
              0.8888888888888888,
              "#fdca26"
             ],
             [
              1,
              "#f0f921"
             ]
            ],
            "type": "histogram2d"
           }
          ],
          "histogram2dcontour": [
           {
            "colorbar": {
             "outlinewidth": 0,
             "ticks": ""
            },
            "colorscale": [
             [
              0,
              "#0d0887"
             ],
             [
              0.1111111111111111,
              "#46039f"
             ],
             [
              0.2222222222222222,
              "#7201a8"
             ],
             [
              0.3333333333333333,
              "#9c179e"
             ],
             [
              0.4444444444444444,
              "#bd3786"
             ],
             [
              0.5555555555555556,
              "#d8576b"
             ],
             [
              0.6666666666666666,
              "#ed7953"
             ],
             [
              0.7777777777777778,
              "#fb9f3a"
             ],
             [
              0.8888888888888888,
              "#fdca26"
             ],
             [
              1,
              "#f0f921"
             ]
            ],
            "type": "histogram2dcontour"
           }
          ],
          "mesh3d": [
           {
            "colorbar": {
             "outlinewidth": 0,
             "ticks": ""
            },
            "type": "mesh3d"
           }
          ],
          "parcoords": [
           {
            "line": {
             "colorbar": {
              "outlinewidth": 0,
              "ticks": ""
             }
            },
            "type": "parcoords"
           }
          ],
          "pie": [
           {
            "automargin": true,
            "type": "pie"
           }
          ],
          "scatter": [
           {
            "marker": {
             "line": {
              "color": "#283442"
             }
            },
            "type": "scatter"
           }
          ],
          "scatter3d": [
           {
            "line": {
             "colorbar": {
              "outlinewidth": 0,
              "ticks": ""
             }
            },
            "marker": {
             "colorbar": {
              "outlinewidth": 0,
              "ticks": ""
             }
            },
            "type": "scatter3d"
           }
          ],
          "scattercarpet": [
           {
            "marker": {
             "colorbar": {
              "outlinewidth": 0,
              "ticks": ""
             }
            },
            "type": "scattercarpet"
           }
          ],
          "scattergeo": [
           {
            "marker": {
             "colorbar": {
              "outlinewidth": 0,
              "ticks": ""
             }
            },
            "type": "scattergeo"
           }
          ],
          "scattergl": [
           {
            "marker": {
             "line": {
              "color": "#283442"
             }
            },
            "type": "scattergl"
           }
          ],
          "scattermapbox": [
           {
            "marker": {
             "colorbar": {
              "outlinewidth": 0,
              "ticks": ""
             }
            },
            "type": "scattermapbox"
           }
          ],
          "scatterpolar": [
           {
            "marker": {
             "colorbar": {
              "outlinewidth": 0,
              "ticks": ""
             }
            },
            "type": "scatterpolar"
           }
          ],
          "scatterpolargl": [
           {
            "marker": {
             "colorbar": {
              "outlinewidth": 0,
              "ticks": ""
             }
            },
            "type": "scatterpolargl"
           }
          ],
          "scatterternary": [
           {
            "marker": {
             "colorbar": {
              "outlinewidth": 0,
              "ticks": ""
             }
            },
            "type": "scatterternary"
           }
          ],
          "surface": [
           {
            "colorbar": {
             "outlinewidth": 0,
             "ticks": ""
            },
            "colorscale": [
             [
              0,
              "#0d0887"
             ],
             [
              0.1111111111111111,
              "#46039f"
             ],
             [
              0.2222222222222222,
              "#7201a8"
             ],
             [
              0.3333333333333333,
              "#9c179e"
             ],
             [
              0.4444444444444444,
              "#bd3786"
             ],
             [
              0.5555555555555556,
              "#d8576b"
             ],
             [
              0.6666666666666666,
              "#ed7953"
             ],
             [
              0.7777777777777778,
              "#fb9f3a"
             ],
             [
              0.8888888888888888,
              "#fdca26"
             ],
             [
              1,
              "#f0f921"
             ]
            ],
            "type": "surface"
           }
          ],
          "table": [
           {
            "cells": {
             "fill": {
              "color": "#506784"
             },
             "line": {
              "color": "rgb(17,17,17)"
             }
            },
            "header": {
             "fill": {
              "color": "#2a3f5f"
             },
             "line": {
              "color": "rgb(17,17,17)"
             }
            },
            "type": "table"
           }
          ]
         },
         "layout": {
          "annotationdefaults": {
           "arrowcolor": "#f2f5fa",
           "arrowhead": 0,
           "arrowwidth": 1
          },
          "autotypenumbers": "strict",
          "coloraxis": {
           "colorbar": {
            "outlinewidth": 0,
            "ticks": ""
           }
          },
          "colorscale": {
           "diverging": [
            [
             0,
             "#8e0152"
            ],
            [
             0.1,
             "#c51b7d"
            ],
            [
             0.2,
             "#de77ae"
            ],
            [
             0.3,
             "#f1b6da"
            ],
            [
             0.4,
             "#fde0ef"
            ],
            [
             0.5,
             "#f7f7f7"
            ],
            [
             0.6,
             "#e6f5d0"
            ],
            [
             0.7,
             "#b8e186"
            ],
            [
             0.8,
             "#7fbc41"
            ],
            [
             0.9,
             "#4d9221"
            ],
            [
             1,
             "#276419"
            ]
           ],
           "sequential": [
            [
             0,
             "#0d0887"
            ],
            [
             0.1111111111111111,
             "#46039f"
            ],
            [
             0.2222222222222222,
             "#7201a8"
            ],
            [
             0.3333333333333333,
             "#9c179e"
            ],
            [
             0.4444444444444444,
             "#bd3786"
            ],
            [
             0.5555555555555556,
             "#d8576b"
            ],
            [
             0.6666666666666666,
             "#ed7953"
            ],
            [
             0.7777777777777778,
             "#fb9f3a"
            ],
            [
             0.8888888888888888,
             "#fdca26"
            ],
            [
             1,
             "#f0f921"
            ]
           ],
           "sequentialminus": [
            [
             0,
             "#0d0887"
            ],
            [
             0.1111111111111111,
             "#46039f"
            ],
            [
             0.2222222222222222,
             "#7201a8"
            ],
            [
             0.3333333333333333,
             "#9c179e"
            ],
            [
             0.4444444444444444,
             "#bd3786"
            ],
            [
             0.5555555555555556,
             "#d8576b"
            ],
            [
             0.6666666666666666,
             "#ed7953"
            ],
            [
             0.7777777777777778,
             "#fb9f3a"
            ],
            [
             0.8888888888888888,
             "#fdca26"
            ],
            [
             1,
             "#f0f921"
            ]
           ]
          },
          "colorway": [
           "#636efa",
           "#EF553B",
           "#00cc96",
           "#ab63fa",
           "#FFA15A",
           "#19d3f3",
           "#FF6692",
           "#B6E880",
           "#FF97FF",
           "#FECB52"
          ],
          "font": {
           "color": "#f2f5fa"
          },
          "geo": {
           "bgcolor": "rgb(17,17,17)",
           "lakecolor": "rgb(17,17,17)",
           "landcolor": "rgb(17,17,17)",
           "showlakes": true,
           "showland": true,
           "subunitcolor": "#506784"
          },
          "hoverlabel": {
           "align": "left"
          },
          "hovermode": "closest",
          "mapbox": {
           "style": "dark"
          },
          "paper_bgcolor": "rgb(17,17,17)",
          "plot_bgcolor": "rgb(17,17,17)",
          "polar": {
           "angularaxis": {
            "gridcolor": "#506784",
            "linecolor": "#506784",
            "ticks": ""
           },
           "bgcolor": "rgb(17,17,17)",
           "radialaxis": {
            "gridcolor": "#506784",
            "linecolor": "#506784",
            "ticks": ""
           }
          },
          "scene": {
           "xaxis": {
            "backgroundcolor": "rgb(17,17,17)",
            "gridcolor": "#506784",
            "gridwidth": 2,
            "linecolor": "#506784",
            "showbackground": true,
            "ticks": "",
            "zerolinecolor": "#C8D4E3"
           },
           "yaxis": {
            "backgroundcolor": "rgb(17,17,17)",
            "gridcolor": "#506784",
            "gridwidth": 2,
            "linecolor": "#506784",
            "showbackground": true,
            "ticks": "",
            "zerolinecolor": "#C8D4E3"
           },
           "zaxis": {
            "backgroundcolor": "rgb(17,17,17)",
            "gridcolor": "#506784",
            "gridwidth": 2,
            "linecolor": "#506784",
            "showbackground": true,
            "ticks": "",
            "zerolinecolor": "#C8D4E3"
           }
          },
          "shapedefaults": {
           "line": {
            "color": "#f2f5fa"
           }
          },
          "sliderdefaults": {
           "bgcolor": "#C8D4E3",
           "bordercolor": "rgb(17,17,17)",
           "borderwidth": 1,
           "tickwidth": 0
          },
          "ternary": {
           "aaxis": {
            "gridcolor": "#506784",
            "linecolor": "#506784",
            "ticks": ""
           },
           "baxis": {
            "gridcolor": "#506784",
            "linecolor": "#506784",
            "ticks": ""
           },
           "bgcolor": "rgb(17,17,17)",
           "caxis": {
            "gridcolor": "#506784",
            "linecolor": "#506784",
            "ticks": ""
           }
          },
          "title": {
           "x": 0.05
          },
          "updatemenudefaults": {
           "bgcolor": "#506784",
           "borderwidth": 0
          },
          "xaxis": {
           "automargin": true,
           "gridcolor": "#283442",
           "linecolor": "#506784",
           "ticks": "",
           "title": {
            "standoff": 15
           },
           "zerolinecolor": "#283442",
           "zerolinewidth": 2
          },
          "yaxis": {
           "automargin": true,
           "gridcolor": "#283442",
           "linecolor": "#506784",
           "ticks": "",
           "title": {
            "standoff": 15
           },
           "zerolinecolor": "#283442",
           "zerolinewidth": 2
          }
         }
        },
        "title": {
         "font": {
          "color": "#00F1FF"
         },
         "text": "ReLU Function"
        },
        "width": 800,
        "xaxis": {
         "anchor": "y",
         "color": "#00F1FF",
         "domain": [
          0,
          1
         ],
         "title": {
          "text": "x"
         }
        },
        "yaxis": {
         "anchor": "x",
         "color": "#00F1FF",
         "domain": [
          0,
          1
         ],
         "title": {
          "text": "y"
         }
        }
       }
      }
     },
     "metadata": {},
     "output_type": "display_data"
    }
   ],
   "source": [
    "z  = np.linspace(-12, 12, 200)\n",
    "fig = px.line(x = z, y = relu(z)[0], title = 'ReLU Function', template = \"plotly_dark\")\n",
    "fig.update_layout(\n",
    "    title_font_color = \"#00F1FF\",\n",
    "    xaxis = dict(color = \"#00F1FF\"),\n",
    "    yaxis = dict(color = \"#00F1FF\"), \n",
    "    width = 800\n",
    ")\n",
    "fig.show()"
   ]
  },
  {
   "cell_type": "code",
   "execution_count": 24,
   "metadata": {},
   "outputs": [],
   "source": [
    "def relu_backward(dA, cache):\n",
    "\n",
    "    \"\"\"\n",
    "    Implement back propogation for a single ReLU unit\n",
    "\n",
    "    Arguments: \n",
    "              dA -- post-activation gradient\n",
    "              cache -- 'Z' stored for backpropogation\n",
    "\n",
    "    Returns:\n",
    "            dZ -- Gradient of the cost with respect to Z\n",
    "    \"\"\"\n",
    "\n",
    "    Z = cache\n",
    "    dZ = np.array(dA, copy = True)\n",
    "\n",
    "    # when z <= 0 dz equal to 0\n",
    "    dZ[Z <= 0] = 0\n",
    "\n",
    "    return dZ"
   ]
  },
  {
   "cell_type": "code",
   "execution_count": 25,
   "metadata": {},
   "outputs": [],
   "source": [
    "# Sigmoid function \n",
    "\n",
    "def sigmoid(Z):\n",
    "\n",
    "    \"\"\"\n",
    "    Implement the sigmoid function \n",
    "\n",
    "    Arguments: \n",
    "              Z -- Output of the linear layer \n",
    "\n",
    "    Returns:\n",
    "            A -- Post Activation function\n",
    "            cache -- a python dictoinary containing \"A\" for backpropogation\n",
    "    \"\"\"\n",
    "\n",
    "    A = 1/(1 + np.exp(-Z))\n",
    "    cache = Z\n",
    "\n",
    "    return A, cache"
   ]
  },
  {
   "cell_type": "code",
   "execution_count": 26,
   "metadata": {},
   "outputs": [
    {
     "data": {
      "application/vnd.plotly.v1+json": {
       "config": {
        "plotlyServerURL": "https://plot.ly"
       },
       "data": [
        {
         "hovertemplate": "x=%{x}<br>y=%{y}<extra></extra>",
         "legendgroup": "",
         "line": {
          "color": "#636efa",
          "dash": "solid"
         },
         "marker": {
          "symbol": "circle"
         },
         "mode": "lines",
         "name": "",
         "orientation": "v",
         "showlegend": false,
         "type": "scatter",
         "x": [
          -12,
          -11.879396984924623,
          -11.758793969849247,
          -11.638190954773869,
          -11.517587939698492,
          -11.396984924623116,
          -11.27638190954774,
          -11.155778894472363,
          -11.035175879396984,
          -10.914572864321608,
          -10.793969849246231,
          -10.673366834170855,
          -10.552763819095478,
          -10.4321608040201,
          -10.311557788944723,
          -10.190954773869347,
          -10.07035175879397,
          -9.949748743718594,
          -9.829145728643216,
          -9.708542713567839,
          -9.587939698492463,
          -9.467336683417086,
          -9.34673366834171,
          -9.226130653266331,
          -9.105527638190955,
          -8.984924623115578,
          -8.864321608040202,
          -8.743718592964825,
          -8.623115577889447,
          -8.50251256281407,
          -8.381909547738694,
          -8.261306532663317,
          -8.14070351758794,
          -8.020100502512562,
          -7.899497487437186,
          -7.778894472361809,
          -7.658291457286432,
          -7.5376884422110555,
          -7.417085427135679,
          -7.296482412060302,
          -7.175879396984925,
          -7.055276381909548,
          -6.934673366834171,
          -6.814070351758795,
          -6.693467336683417,
          -6.572864321608041,
          -6.452261306532663,
          -6.331658291457287,
          -6.211055276381909,
          -6.090452261306533,
          -5.969849246231156,
          -5.849246231155779,
          -5.728643216080402,
          -5.608040201005025,
          -5.4874371859296485,
          -5.366834170854272,
          -5.2462311557788945,
          -5.125628140703518,
          -5.005025125628141,
          -4.884422110552764,
          -4.763819095477388,
          -4.64321608040201,
          -4.522613065326634,
          -4.402010050251256,
          -4.28140703517588,
          -4.160804020100503,
          -4.040201005025126,
          -3.9195979899497484,
          -3.798994974874372,
          -3.6783919597989954,
          -3.557788944723619,
          -3.4371859296482423,
          -3.316582914572864,
          -3.1959798994974875,
          -3.075376884422111,
          -2.9547738693467345,
          -2.834170854271358,
          -2.7135678391959797,
          -2.592964824120603,
          -2.4723618090452266,
          -2.35175879396985,
          -2.2311557788944736,
          -2.1105527638190953,
          -1.9899497487437188,
          -1.8693467336683423,
          -1.7487437185929657,
          -1.6281407035175892,
          -1.507537688442211,
          -1.3869346733668344,
          -1.2663316582914579,
          -1.1457286432160814,
          -1.0251256281407048,
          -0.9045226130653266,
          -0.78391959798995,
          -0.6633165829145735,
          -0.542713567839197,
          -0.4221105527638187,
          -0.3015075376884422,
          -0.18090452261306567,
          -0.06030150753768915,
          0.06030150753768737,
          0.18090452261306567,
          0.3015075376884422,
          0.4221105527638187,
          0.5427135678391952,
          0.6633165829145717,
          0.78391959798995,
          0.9045226130653266,
          1.025125628140703,
          1.1457286432160796,
          1.266331658291456,
          1.3869346733668344,
          1.507537688442211,
          1.6281407035175874,
          1.748743718592964,
          1.8693467336683405,
          1.9899497487437188,
          2.1105527638190953,
          2.231155778894472,
          2.3517587939698483,
          2.472361809045225,
          2.592964824120603,
          2.7135678391959797,
          2.834170854271356,
          2.9547738693467327,
          3.075376884422109,
          3.1959798994974875,
          3.316582914572864,
          3.4371859296482405,
          3.557788944723617,
          3.6783919597989936,
          3.798994974874372,
          3.9195979899497484,
          4.040201005025125,
          4.160804020100503,
          4.281407035175878,
          4.402010050251256,
          4.522613065326631,
          4.643216080402009,
          4.763819095477388,
          4.884422110552762,
          5.005025125628141,
          5.125628140703515,
          5.246231155778894,
          5.366834170854272,
          5.487437185929647,
          5.608040201005025,
          5.7286432160804,
          5.849246231155778,
          5.969849246231156,
          6.090452261306531,
          6.211055276381909,
          6.331658291457284,
          6.452261306532662,
          6.572864321608041,
          6.693467336683415,
          6.814070351758794,
          6.9346733668341685,
          7.055276381909547,
          7.175879396984925,
          7.2964824120603,
          7.417085427135678,
          7.537688442211053,
          7.658291457286431,
          7.778894472361809,
          7.899497487437184,
          8.020100502512562,
          8.140703517587937,
          8.261306532663315,
          8.381909547738694,
          8.502512562814069,
          8.623115577889447,
          8.743718592964822,
          8.8643216080402,
          8.984924623115578,
          9.105527638190953,
          9.226130653266331,
          9.346733668341706,
          9.467336683417084,
          9.587939698492463,
          9.708542713567837,
          9.829145728643216,
          9.94974874371859,
          10.070351758793969,
          10.190954773869347,
          10.311557788944722,
          10.4321608040201,
          10.552763819095475,
          10.673366834170853,
          10.793969849246231,
          10.914572864321606,
          11.035175879396984,
          11.155778894472363,
          11.276381909547737,
          11.396984924623116,
          11.51758793969849,
          11.638190954773869,
          11.758793969849247,
          11.879396984924622,
          12
         ],
         "xaxis": "x",
         "y": [
          0.000006144174602214718,
          0.0000069317107298737944,
          0.00000782018935059461,
          0.00000882254855948806,
          0.000009953384706487166,
          0.000011229164916175463,
          0.000012668466839515384,
          0.000014292249125730078,
          0.000016124156549092385,
          0.000018190864228938505,
          0.000020522465949121305,
          0.00002315291222353387,
          0.00002612050447649392,
          0.00002946845252106296,
          0.000033245503436472216,
          0.000037506650980894654,
          0.000042313935842634126,
          0.00004773734834804849,
          0.00005385584672688539,
          0.000060758505706213345,
          0.00006854581208638513,
          0.00007733112607296342,
          0.00008724232952699696,
          0.00009842368498574819,
          0.00011103793233423073,
          0.00012526865341642125,
          0.0001413229387103388,
          0.00015943439450532797,
          0.0001798665338707133,
          0.00020291660015688432,
          0.00022891987789424873,
          0.00025825455283137185,
          0.00029134719056827846,
          0.0003286789118902541,
          0.00037079235259669365,
          0.00041829950646326576,
          0.00047189056209815983,
          0.0005323438579883847,
          0.0006005370951228981,
          0.000677459963376795,
          0.000764228356502334,
          0.0008621003712594348,
          0.0009724943090915715,
          0.0010970089239684714,
          0.0012374461877172082,
          0.001395836874467584,
          0.0015744692988283958,
          0.0017759215781153915,
          0.0020030978273178363,
          0.002259268736356927,
          0.002548117022245207,
          0.002873788293490389,
          0.003240947909724536,
          0.0036548444649597547,
          0.004121380566507397,
          0.004647191621311182,
          0.00523973337437106,
          0.005907378966297629,
          0.0066595262839209265,
          0.007506716362961056,
          0.008460763557012118,
          0.009534898102377615,
          0.010743921571033458,
          0.012104375498685989,
          0.013634723182697104,
          0.015355544242978797,
          0.01728974100115565,
          0.019462755028493085,
          0.02190279130638982,
          0.02464104629636331,
          0.027711934789180954,
          0.03115330865537568,
          0.03500665851654055,
          0.0393172868735528,
          0.04413443835793439,
          0.049511369539610835,
          0.05550533719681136,
          0.06217748026307829,
          0.06959256702775463,
          0.07781857590221743,
          0.0869260756253292,
          0.09698736976312958,
          0.10807537150173661,
          0.12026217890837174,
          0.13361732898717338,
          0.14820572190293488,
          0.16408522542672907,
          0.18130399432052458,
          0.19989756972019745,
          0.21988585836732194,
          0.24127012838455733,
          0.2640301935086808,
          0.2881219864220833,
          0.31347573839873544,
          0.3399949811987929,
          0.3675565633163576,
          0.3960118238626734,
          0.4251889944936088,
          0.45489680790620846,
          0.4849291896357415,
          0.5150708103642581,
          0.5451031920937915,
          0.5748110055063912,
          0.6039881761373265,
          0.632443436683642,
          0.6600050188012067,
          0.6865242616012645,
          0.7118780135779167,
          0.7359698064913188,
          0.7587298716154424,
          0.7801141416326777,
          0.8001024302798024,
          0.8186960056794754,
          0.8359147745732708,
          0.851794278097065,
          0.8663826710128264,
          0.8797378210916283,
          0.8919246284982634,
          0.9030126302368703,
          0.9130739243746706,
          0.9221814240977824,
          0.9304074329722454,
          0.9378225197369218,
          0.9444946628031886,
          0.950488630460389,
          0.9558655616420655,
          0.9606827131264473,
          0.9649933414834595,
          0.9688466913446244,
          0.972288065210819,
          0.9753589537036367,
          0.97809720869361,
          0.980537244971507,
          0.9827102589988445,
          0.9846444557570213,
          0.986365276817303,
          0.9878956245013141,
          0.9892560784289666,
          0.9904651018976223,
          0.9915392364429878,
          0.9924932836370388,
          0.9933404737160791,
          0.9940926210337023,
          0.994760266625629,
          0.9953528083786889,
          0.9958786194334927,
          0.9963451555350403,
          0.9967590520902754,
          0.9971262117065096,
          0.9974518829777547,
          0.997740731263643,
          0.9979969021726822,
          0.9982240784218847,
          0.9984255307011717,
          0.9986041631255325,
          0.9987625538122828,
          0.9989029910760314,
          0.9990275056909085,
          0.9991378996287406,
          0.9992357716434976,
          0.9993225400366232,
          0.999399462904877,
          0.9994676561420116,
          0.9995281094379018,
          0.9995817004935368,
          0.9996292076474034,
          0.9996713210881097,
          0.9997086528094317,
          0.9997417454471685,
          0.9997710801221057,
          0.999797083399843,
          0.9998201334661293,
          0.9998405656054946,
          0.9998586770612896,
          0.9998747313465834,
          0.9998889620676658,
          0.9999015763150142,
          0.999912757670473,
          0.9999226688739271,
          0.9999314541879136,
          0.9999392414942937,
          0.9999461441532731,
          0.9999522626516519,
          0.9999576860641574,
          0.9999624933490191,
          0.9999667544965636,
          0.999970531547479,
          0.9999738794955234,
          0.9999768470877765,
          0.9999794775340509,
          0.9999818091357711,
          0.9999838758434508,
          0.9999857077508743,
          0.9999873315331604,
          0.9999887708350839,
          0.9999900466152934,
          0.9999911774514406,
          0.9999921798106494,
          0.9999930682892701,
          0.9999938558253978
         ],
         "yaxis": "y"
        }
       ],
       "layout": {
        "legend": {
         "tracegroupgap": 0
        },
        "template": {
         "data": {
          "bar": [
           {
            "error_x": {
             "color": "#f2f5fa"
            },
            "error_y": {
             "color": "#f2f5fa"
            },
            "marker": {
             "line": {
              "color": "rgb(17,17,17)",
              "width": 0.5
             },
             "pattern": {
              "fillmode": "overlay",
              "size": 10,
              "solidity": 0.2
             }
            },
            "type": "bar"
           }
          ],
          "barpolar": [
           {
            "marker": {
             "line": {
              "color": "rgb(17,17,17)",
              "width": 0.5
             },
             "pattern": {
              "fillmode": "overlay",
              "size": 10,
              "solidity": 0.2
             }
            },
            "type": "barpolar"
           }
          ],
          "carpet": [
           {
            "aaxis": {
             "endlinecolor": "#A2B1C6",
             "gridcolor": "#506784",
             "linecolor": "#506784",
             "minorgridcolor": "#506784",
             "startlinecolor": "#A2B1C6"
            },
            "baxis": {
             "endlinecolor": "#A2B1C6",
             "gridcolor": "#506784",
             "linecolor": "#506784",
             "minorgridcolor": "#506784",
             "startlinecolor": "#A2B1C6"
            },
            "type": "carpet"
           }
          ],
          "choropleth": [
           {
            "colorbar": {
             "outlinewidth": 0,
             "ticks": ""
            },
            "type": "choropleth"
           }
          ],
          "contour": [
           {
            "colorbar": {
             "outlinewidth": 0,
             "ticks": ""
            },
            "colorscale": [
             [
              0,
              "#0d0887"
             ],
             [
              0.1111111111111111,
              "#46039f"
             ],
             [
              0.2222222222222222,
              "#7201a8"
             ],
             [
              0.3333333333333333,
              "#9c179e"
             ],
             [
              0.4444444444444444,
              "#bd3786"
             ],
             [
              0.5555555555555556,
              "#d8576b"
             ],
             [
              0.6666666666666666,
              "#ed7953"
             ],
             [
              0.7777777777777778,
              "#fb9f3a"
             ],
             [
              0.8888888888888888,
              "#fdca26"
             ],
             [
              1,
              "#f0f921"
             ]
            ],
            "type": "contour"
           }
          ],
          "contourcarpet": [
           {
            "colorbar": {
             "outlinewidth": 0,
             "ticks": ""
            },
            "type": "contourcarpet"
           }
          ],
          "heatmap": [
           {
            "colorbar": {
             "outlinewidth": 0,
             "ticks": ""
            },
            "colorscale": [
             [
              0,
              "#0d0887"
             ],
             [
              0.1111111111111111,
              "#46039f"
             ],
             [
              0.2222222222222222,
              "#7201a8"
             ],
             [
              0.3333333333333333,
              "#9c179e"
             ],
             [
              0.4444444444444444,
              "#bd3786"
             ],
             [
              0.5555555555555556,
              "#d8576b"
             ],
             [
              0.6666666666666666,
              "#ed7953"
             ],
             [
              0.7777777777777778,
              "#fb9f3a"
             ],
             [
              0.8888888888888888,
              "#fdca26"
             ],
             [
              1,
              "#f0f921"
             ]
            ],
            "type": "heatmap"
           }
          ],
          "heatmapgl": [
           {
            "colorbar": {
             "outlinewidth": 0,
             "ticks": ""
            },
            "colorscale": [
             [
              0,
              "#0d0887"
             ],
             [
              0.1111111111111111,
              "#46039f"
             ],
             [
              0.2222222222222222,
              "#7201a8"
             ],
             [
              0.3333333333333333,
              "#9c179e"
             ],
             [
              0.4444444444444444,
              "#bd3786"
             ],
             [
              0.5555555555555556,
              "#d8576b"
             ],
             [
              0.6666666666666666,
              "#ed7953"
             ],
             [
              0.7777777777777778,
              "#fb9f3a"
             ],
             [
              0.8888888888888888,
              "#fdca26"
             ],
             [
              1,
              "#f0f921"
             ]
            ],
            "type": "heatmapgl"
           }
          ],
          "histogram": [
           {
            "marker": {
             "pattern": {
              "fillmode": "overlay",
              "size": 10,
              "solidity": 0.2
             }
            },
            "type": "histogram"
           }
          ],
          "histogram2d": [
           {
            "colorbar": {
             "outlinewidth": 0,
             "ticks": ""
            },
            "colorscale": [
             [
              0,
              "#0d0887"
             ],
             [
              0.1111111111111111,
              "#46039f"
             ],
             [
              0.2222222222222222,
              "#7201a8"
             ],
             [
              0.3333333333333333,
              "#9c179e"
             ],
             [
              0.4444444444444444,
              "#bd3786"
             ],
             [
              0.5555555555555556,
              "#d8576b"
             ],
             [
              0.6666666666666666,
              "#ed7953"
             ],
             [
              0.7777777777777778,
              "#fb9f3a"
             ],
             [
              0.8888888888888888,
              "#fdca26"
             ],
             [
              1,
              "#f0f921"
             ]
            ],
            "type": "histogram2d"
           }
          ],
          "histogram2dcontour": [
           {
            "colorbar": {
             "outlinewidth": 0,
             "ticks": ""
            },
            "colorscale": [
             [
              0,
              "#0d0887"
             ],
             [
              0.1111111111111111,
              "#46039f"
             ],
             [
              0.2222222222222222,
              "#7201a8"
             ],
             [
              0.3333333333333333,
              "#9c179e"
             ],
             [
              0.4444444444444444,
              "#bd3786"
             ],
             [
              0.5555555555555556,
              "#d8576b"
             ],
             [
              0.6666666666666666,
              "#ed7953"
             ],
             [
              0.7777777777777778,
              "#fb9f3a"
             ],
             [
              0.8888888888888888,
              "#fdca26"
             ],
             [
              1,
              "#f0f921"
             ]
            ],
            "type": "histogram2dcontour"
           }
          ],
          "mesh3d": [
           {
            "colorbar": {
             "outlinewidth": 0,
             "ticks": ""
            },
            "type": "mesh3d"
           }
          ],
          "parcoords": [
           {
            "line": {
             "colorbar": {
              "outlinewidth": 0,
              "ticks": ""
             }
            },
            "type": "parcoords"
           }
          ],
          "pie": [
           {
            "automargin": true,
            "type": "pie"
           }
          ],
          "scatter": [
           {
            "marker": {
             "line": {
              "color": "#283442"
             }
            },
            "type": "scatter"
           }
          ],
          "scatter3d": [
           {
            "line": {
             "colorbar": {
              "outlinewidth": 0,
              "ticks": ""
             }
            },
            "marker": {
             "colorbar": {
              "outlinewidth": 0,
              "ticks": ""
             }
            },
            "type": "scatter3d"
           }
          ],
          "scattercarpet": [
           {
            "marker": {
             "colorbar": {
              "outlinewidth": 0,
              "ticks": ""
             }
            },
            "type": "scattercarpet"
           }
          ],
          "scattergeo": [
           {
            "marker": {
             "colorbar": {
              "outlinewidth": 0,
              "ticks": ""
             }
            },
            "type": "scattergeo"
           }
          ],
          "scattergl": [
           {
            "marker": {
             "line": {
              "color": "#283442"
             }
            },
            "type": "scattergl"
           }
          ],
          "scattermapbox": [
           {
            "marker": {
             "colorbar": {
              "outlinewidth": 0,
              "ticks": ""
             }
            },
            "type": "scattermapbox"
           }
          ],
          "scatterpolar": [
           {
            "marker": {
             "colorbar": {
              "outlinewidth": 0,
              "ticks": ""
             }
            },
            "type": "scatterpolar"
           }
          ],
          "scatterpolargl": [
           {
            "marker": {
             "colorbar": {
              "outlinewidth": 0,
              "ticks": ""
             }
            },
            "type": "scatterpolargl"
           }
          ],
          "scatterternary": [
           {
            "marker": {
             "colorbar": {
              "outlinewidth": 0,
              "ticks": ""
             }
            },
            "type": "scatterternary"
           }
          ],
          "surface": [
           {
            "colorbar": {
             "outlinewidth": 0,
             "ticks": ""
            },
            "colorscale": [
             [
              0,
              "#0d0887"
             ],
             [
              0.1111111111111111,
              "#46039f"
             ],
             [
              0.2222222222222222,
              "#7201a8"
             ],
             [
              0.3333333333333333,
              "#9c179e"
             ],
             [
              0.4444444444444444,
              "#bd3786"
             ],
             [
              0.5555555555555556,
              "#d8576b"
             ],
             [
              0.6666666666666666,
              "#ed7953"
             ],
             [
              0.7777777777777778,
              "#fb9f3a"
             ],
             [
              0.8888888888888888,
              "#fdca26"
             ],
             [
              1,
              "#f0f921"
             ]
            ],
            "type": "surface"
           }
          ],
          "table": [
           {
            "cells": {
             "fill": {
              "color": "#506784"
             },
             "line": {
              "color": "rgb(17,17,17)"
             }
            },
            "header": {
             "fill": {
              "color": "#2a3f5f"
             },
             "line": {
              "color": "rgb(17,17,17)"
             }
            },
            "type": "table"
           }
          ]
         },
         "layout": {
          "annotationdefaults": {
           "arrowcolor": "#f2f5fa",
           "arrowhead": 0,
           "arrowwidth": 1
          },
          "autotypenumbers": "strict",
          "coloraxis": {
           "colorbar": {
            "outlinewidth": 0,
            "ticks": ""
           }
          },
          "colorscale": {
           "diverging": [
            [
             0,
             "#8e0152"
            ],
            [
             0.1,
             "#c51b7d"
            ],
            [
             0.2,
             "#de77ae"
            ],
            [
             0.3,
             "#f1b6da"
            ],
            [
             0.4,
             "#fde0ef"
            ],
            [
             0.5,
             "#f7f7f7"
            ],
            [
             0.6,
             "#e6f5d0"
            ],
            [
             0.7,
             "#b8e186"
            ],
            [
             0.8,
             "#7fbc41"
            ],
            [
             0.9,
             "#4d9221"
            ],
            [
             1,
             "#276419"
            ]
           ],
           "sequential": [
            [
             0,
             "#0d0887"
            ],
            [
             0.1111111111111111,
             "#46039f"
            ],
            [
             0.2222222222222222,
             "#7201a8"
            ],
            [
             0.3333333333333333,
             "#9c179e"
            ],
            [
             0.4444444444444444,
             "#bd3786"
            ],
            [
             0.5555555555555556,
             "#d8576b"
            ],
            [
             0.6666666666666666,
             "#ed7953"
            ],
            [
             0.7777777777777778,
             "#fb9f3a"
            ],
            [
             0.8888888888888888,
             "#fdca26"
            ],
            [
             1,
             "#f0f921"
            ]
           ],
           "sequentialminus": [
            [
             0,
             "#0d0887"
            ],
            [
             0.1111111111111111,
             "#46039f"
            ],
            [
             0.2222222222222222,
             "#7201a8"
            ],
            [
             0.3333333333333333,
             "#9c179e"
            ],
            [
             0.4444444444444444,
             "#bd3786"
            ],
            [
             0.5555555555555556,
             "#d8576b"
            ],
            [
             0.6666666666666666,
             "#ed7953"
            ],
            [
             0.7777777777777778,
             "#fb9f3a"
            ],
            [
             0.8888888888888888,
             "#fdca26"
            ],
            [
             1,
             "#f0f921"
            ]
           ]
          },
          "colorway": [
           "#636efa",
           "#EF553B",
           "#00cc96",
           "#ab63fa",
           "#FFA15A",
           "#19d3f3",
           "#FF6692",
           "#B6E880",
           "#FF97FF",
           "#FECB52"
          ],
          "font": {
           "color": "#f2f5fa"
          },
          "geo": {
           "bgcolor": "rgb(17,17,17)",
           "lakecolor": "rgb(17,17,17)",
           "landcolor": "rgb(17,17,17)",
           "showlakes": true,
           "showland": true,
           "subunitcolor": "#506784"
          },
          "hoverlabel": {
           "align": "left"
          },
          "hovermode": "closest",
          "mapbox": {
           "style": "dark"
          },
          "paper_bgcolor": "rgb(17,17,17)",
          "plot_bgcolor": "rgb(17,17,17)",
          "polar": {
           "angularaxis": {
            "gridcolor": "#506784",
            "linecolor": "#506784",
            "ticks": ""
           },
           "bgcolor": "rgb(17,17,17)",
           "radialaxis": {
            "gridcolor": "#506784",
            "linecolor": "#506784",
            "ticks": ""
           }
          },
          "scene": {
           "xaxis": {
            "backgroundcolor": "rgb(17,17,17)",
            "gridcolor": "#506784",
            "gridwidth": 2,
            "linecolor": "#506784",
            "showbackground": true,
            "ticks": "",
            "zerolinecolor": "#C8D4E3"
           },
           "yaxis": {
            "backgroundcolor": "rgb(17,17,17)",
            "gridcolor": "#506784",
            "gridwidth": 2,
            "linecolor": "#506784",
            "showbackground": true,
            "ticks": "",
            "zerolinecolor": "#C8D4E3"
           },
           "zaxis": {
            "backgroundcolor": "rgb(17,17,17)",
            "gridcolor": "#506784",
            "gridwidth": 2,
            "linecolor": "#506784",
            "showbackground": true,
            "ticks": "",
            "zerolinecolor": "#C8D4E3"
           }
          },
          "shapedefaults": {
           "line": {
            "color": "#f2f5fa"
           }
          },
          "sliderdefaults": {
           "bgcolor": "#C8D4E3",
           "bordercolor": "rgb(17,17,17)",
           "borderwidth": 1,
           "tickwidth": 0
          },
          "ternary": {
           "aaxis": {
            "gridcolor": "#506784",
            "linecolor": "#506784",
            "ticks": ""
           },
           "baxis": {
            "gridcolor": "#506784",
            "linecolor": "#506784",
            "ticks": ""
           },
           "bgcolor": "rgb(17,17,17)",
           "caxis": {
            "gridcolor": "#506784",
            "linecolor": "#506784",
            "ticks": ""
           }
          },
          "title": {
           "x": 0.05
          },
          "updatemenudefaults": {
           "bgcolor": "#506784",
           "borderwidth": 0
          },
          "xaxis": {
           "automargin": true,
           "gridcolor": "#283442",
           "linecolor": "#506784",
           "ticks": "",
           "title": {
            "standoff": 15
           },
           "zerolinecolor": "#283442",
           "zerolinewidth": 2
          },
          "yaxis": {
           "automargin": true,
           "gridcolor": "#283442",
           "linecolor": "#506784",
           "ticks": "",
           "title": {
            "standoff": 15
           },
           "zerolinecolor": "#283442",
           "zerolinewidth": 2
          }
         }
        },
        "title": {
         "text": "Sigmoid function"
        },
        "width": 1000,
        "xaxis": {
         "anchor": "y",
         "domain": [
          0,
          1
         ],
         "title": {
          "text": "x"
         }
        },
        "yaxis": {
         "anchor": "x",
         "domain": [
          0,
          1
         ],
         "title": {
          "text": "y"
         }
        }
       }
      }
     },
     "metadata": {},
     "output_type": "display_data"
    }
   ],
   "source": [
    "z = np.linspace(-12,12, 200)\n",
    "fig = px.line(x = z, y = sigmoid(z)[0], title = \"Sigmoid function\", template = \"plotly_dark\", width = 1000)\n",
    "fig.show()\n"
   ]
  },
  {
   "cell_type": "code",
   "execution_count": 27,
   "metadata": {},
   "outputs": [],
   "source": [
    "def sigmoid_backward(dA, cache):\n",
    "\n",
    "    \"\"\"\n",
    "    Implement the backpropogation for a single sigmoid unit\n",
    "\n",
    "    Arguments:\n",
    "    dA -- post-activation gradient\n",
    "    cache -- 'Z' stored during forward pass \n",
    "\n",
    "    Returns:\n",
    "    dZ -- Gradient of the cost with respect to Z\n",
    "    \"\"\"\n",
    "\n",
    "    Z = cache\n",
    "    s = 1/(1 + np.exp(Z))\n",
    "    dZ = dA * s * (1 - s)\n",
    "    return dZ"
   ]
  },
  {
   "cell_type": "code",
   "execution_count": 28,
   "metadata": {},
   "outputs": [],
   "source": [
    "class NeuralNetwork:\n",
    "\n",
    "    def __init__(self, layer_dimensions = [25, 16, 16, 1], learning_rate = .001):\n",
    "        \"\"\"\n",
    "        Parameters\n",
    "        ----------\n",
    "\n",
    "        layer_dimensions : list\n",
    "            python array (list) containing the dimensions of each layer in our network\n",
    "\n",
    "        learning_rate : float\n",
    "            learning rate of the network\n",
    "        \"\"\"\n",
    "        self.layer_dimensions = layer_dimensions\n",
    "        self.learning_rate = learning_rate\n",
    "\n",
    "    def initialize_parameters(self):\n",
    "        np.random.seed(3)\n",
    "        self.n_layers = len(self.layer_dimensions)\n",
    "        for l in range(1, self.n_layers):\n",
    "            vars(self)[f'W{l}'] = np.random.randn(self.layer_dimensions[l], self.layer_dimensions[l-1]) * 0.01\n",
    "            vars(self)[f'b{l}'] = np.zeros((self.layer_dimensions[l], 1))\n",
    "        \n",
    "    def _linear_forward(self, A, W, b):\n",
    "\n",
    "        \"\"\"\n",
    "        Implements the linear part of a layer's forward propagation\n",
    "\n",
    "        Arguments:\n",
    "                  A -- activation from the previous layer (size of previous layer, number of examples)\n",
    "                  W -- weights matrix: numpy array of shape (seize of current layer, size of previous layer )\n",
    "                  b -- bias vector, numpy array of shape (size of the current layer, 1)\n",
    "\n",
    "        Returns:\n",
    "                Z -- pre-activation parameter\n",
    "                cache -- a python tuple containing \"A\", \"W\", and \"b\" for back propagation            \n",
    "        \"\"\"\n",
    "\n",
    "        # Compute Z \n",
    "        Z = np.dot(W, A) + b\n",
    "\n",
    "        # Cache A, W, b for backpropagation\n",
    "        cache = (A, W, b)\n",
    "        return Z, cache\n",
    "    \n",
    "    def _forward_propagation(self, A_prev, W, b, activation):\n",
    "\n",
    "        \"\"\" \n",
    "        Implements the forward propagation for a network layer \n",
    "\n",
    "        Arguments: \n",
    "                  A_prev -- activatoins from previous layer, shape : (size of previous layer, number of examples)\n",
    "                  W -- shape : (size of current layer, size of previous layer)\n",
    "                  b -- shape : (size of the current layer, 1)\n",
    "                  activation -- the activation to be used in this layer \n",
    "        \n",
    "        Returns:\n",
    "                A -- the output of the activation \n",
    "                cache -- a python tuple containins \"linear-cache\" and \"activation-cache\" for backpropagation\n",
    "                    \n",
    "        \"\"\"\n",
    "\n",
    "        # Compute Z using the function defined above, compute A using the activation function \n",
    "\n",
    "        if activation == \"sigmoid\":\n",
    "            Z, linear_cache = self._linear_forward(A_prev, W, b)\n",
    "            A, activation_cache = sigmoid(Z)\n",
    "        \n",
    "        elif activation == \"relu\":\n",
    "            Z, linear_cache = self._linear_forward(A_prev, W, b)\n",
    "            A, activation_cache = relu(Z)\n",
    "\n",
    "        cache = (linear_cache, activation_cache)\n",
    "\n",
    "        return A, cache\n",
    "    \n",
    "    def forward_propagation(self, X):\n",
    "\n",
    "        \"\"\"\n",
    "        Implements forward propagation for the whole network \n",
    "\n",
    "        Arguments:\n",
    "                  X -- shape : (input size, number of examples)\n",
    "\n",
    "        Returns:\n",
    "                AL -- last post-activation\n",
    "                caches -- list of cache returned by _forward_propagation helper function \n",
    "        \"\"\"\n",
    "\n",
    "        # Initialize empty list to store caches \n",
    "        caches = []\n",
    "\n",
    "        # Set initial A to X \n",
    "        A = X\n",
    "\n",
    "        L = self.n_layers - 1\n",
    "\n",
    "        for l in range(1, L):\n",
    "            A_prev = A\n",
    "\n",
    "            # forward propagate through the network expect the last layer \n",
    "            A, cache = self._forward_propagation(A_prev, vars(self)[f'W{l}'], vars(self)[f'b{l}'], \"relu\")\n",
    "            caches.append(cache)\n",
    "\n",
    "        # Forward propagate through the output layer and get the predictions \n",
    "        predictions, cache = self._forward_propagation(A, vars(self)[f'W{L}'], vars(self)[f'b{L}'], \"sigmoid\")\n",
    "\n",
    "        # Append the cache to caches list recall that cache will be (linear_cache, activation_cache)\n",
    "        caches.append(cache)\n",
    "\n",
    "        return predictions, caches\n",
    "    \n",
    "    def compute_cost(self, predictions, y):\n",
    "\n",
    "        \"\"\"\n",
    "        Implements the cost function \n",
    "\n",
    "        Arguments:\n",
    "                  predictions -- the model predictions, shape : (1, number of examples)\n",
    "                  y -- The true values, shape : (1, number of examples)\n",
    "        \n",
    "        Returns:\n",
    "                cost -- cross-entropy cost\n",
    "        \"\"\"\n",
    "\n",
    "        # Get number of training examples \n",
    "        m = y.shape[0]\n",
    "\n",
    "        # compute cost we're adding small epsilon for numeric stability\n",
    "        cost = (-1/m) * (np.dot(y, np.log(predictions + 1e-9).T) + np.dot((1 - y), np.log(1-predictions + 1e-9).T))\n",
    "\n",
    "        # squeeze the cost to set it into the correct shape \n",
    "        cost = np.squeeze(cost)\n",
    "        return cost\n",
    "\n",
    "    def _linear_backward(self, dZ, cache):\n",
    "\n",
    "        \"\"\"\n",
    "        Implements the linear portion of backward propagation \n",
    "\n",
    "        Arguments:\n",
    "                  dZ -- Gradient of the cost with respect to the linear output of the current layer \n",
    "                  cache -- tuple of values (A_prev, W, b) coming from the forward propagation in the current layer \n",
    "\n",
    "        Returns:\n",
    "        dA_prev -- Gradient of the cost with respect to the activation (of previous layer )\n",
    "        dW -- Gradient of the cost with respect to W\n",
    "        db -- Gradient of the cost with respect to b\n",
    "        \"\"\"\n",
    "\n",
    "        # Get the cache from forward propagation \n",
    "        A_prev, W, b = cache\n",
    "\n",
    "        # Get number of training examples \n",
    "        m = A_prev.shape[1]\n",
    "        # Compute the gradients for W, b and A\n",
    "        dW = (1/m) * np.dot(dZ, A_prev.T)\n",
    "        db = (1/m) * np.sum(dZ, axis = 1, keepdims = True)\n",
    "        dA_prev = np.dot(W.T, dZ)\n",
    "        return dA_prev, dW, db\n",
    "    \n",
    "\n",
    "    def _back_propagation(self, dA, cache, activation):\n",
    "\n",
    "        \"\"\"\n",
    "        Implements back propagation for a single layer \n",
    "\n",
    "        Arguments: \n",
    "                  dA -- post-activation gradient for current layer 1\n",
    "                  cache -- tuple of values (linear_cache, activation)\n",
    "                  activation -- the activation to be used in this layer \n",
    "\n",
    "        Returns:\n",
    "                dA_prev -- Gradient of the cost with respect to the activation (of previoud layer)\n",
    "                dW -- Gradient of the cost with respect to W (current layer 1), same shape as W\n",
    "                db -- Gradient of the cost with respect to b (current layer 1), same shape as b\n",
    "        \"\"\"\n",
    "        # get the cache from the forward prop\n",
    "        linear_cache, activation_cache = cache \n",
    "\n",
    "        # compute the gradients for Z depending on the activation function \n",
    "        if activation == \"relu\":\n",
    "            dZ = relu_backward(dA, activation_cache)\n",
    "        \n",
    "        elif activation == \"sigmoid\":\n",
    "            dZ = sigmoid_backward(dA, activation_cache)\n",
    "\n",
    "        dA_prev, dW, db = self._linear_backward(dZ, linear_cache)\n",
    "        return dA_prev, dW, db\n",
    "    \n",
    "\n",
    "    def back_propagation(self, predictions, Y, caches):\n",
    "\n",
    "        \"\"\"\n",
    "        Implements the back propagation for the NeuralNetwork\n",
    "\n",
    "        Arguments:\n",
    "                  Predictions -- output of the forward propagation \n",
    "                  y -- True labels\n",
    "                  caches -- list of caches \n",
    "        \"\"\"\n",
    "\n",
    "        L = self.n_layers - 1\n",
    "\n",
    "        # get number of examples \n",
    "        m = predictions.shape[1]\n",
    "        Y = Y.reshape(predictions.shape)\n",
    "\n",
    "        # Initializing the back propagation we're adding a small epsilon for numeric stability\n",
    "        dAL = -(np.divide(Y, predictions + 1e-9) - np.divide(1-Y, 1-predictions + 1e-9))\n",
    "        current_cache = caches[L-1] # Last layer \n",
    "\n",
    "        # Compute the gradients of the predictions \n",
    "        vars(self)[f'dA{L-1}'], vars(self)[f'dW{L}'], vars(self)[f'db{L}'] = self._back_propagation(dAL, current_cache, \"sigmoid\")\n",
    "\n",
    "        for l in reversed(range(L-1)):\n",
    "\n",
    "            current_cache = caches[l]\n",
    "            vars(self)[f'dA{l}'], vars(self)[f'dW{l+1}'], vars(self)[f'db{l + 1}'] = self._back_propagation(vars(self)[f'dA{l+1}'], current_cache, \"relu\")\n",
    "\n",
    "    \n",
    "    def update_parameters(self):\n",
    "\n",
    "        \"\"\"\n",
    "        Updates the parameters using gradient descent \n",
    "        \"\"\"\n",
    "\n",
    "        L = self.n_layers - 1\n",
    "\n",
    "        # Loop over parameters and update them using computed gradients \n",
    "        for l in range(L):\n",
    "            vars(self)[f'W{l+1}'] = vars(self)[f'W{l+1}'] - self.learning_rate * vars(self)[f'dW{l+1}']\n",
    "            vars(self)[f'b{l+1}'] = vars(self)[f'b{l+1}'] - self.learning_rate * vars(self)[f'db{l+1}']\n",
    "\n",
    "    def fit(self, X, Y, epochs = 2000, print_cost = True):\n",
    "        \"\"\"\n",
    "        Trains the Neural Networks using input data \n",
    "\n",
    "        Arguments:\n",
    "                  X -- input data \n",
    "                  y -- true label\n",
    "                  Epochs -- number of iterations of the optimization loop\n",
    "                  print_cost -- If set to True, this will print the cost very 100 iterations\n",
    "        \"\"\"\n",
    "\n",
    "        # Transpose X to get the correct shape \n",
    "        X = X.T\n",
    "        np.random.seed(1)\n",
    "\n",
    "        # creatte empty array to store the costs \n",
    "        costs = []\n",
    "\n",
    "        # Get number of training examples \n",
    "        m = X.shape[1]\n",
    "\n",
    "        # Initialize parameters \n",
    "        self.initialize_parameters()\n",
    "\n",
    "        # loop for states number of epochs\n",
    "        for i in range(0, epochs):\n",
    "            # Forward propagate and get the predictions and caches \n",
    "            predictions, caches = self.forward_propagation(X)\n",
    "            # compute the cost \n",
    "            cost = self.compute_cost(predictions, Y)\n",
    "            # Calculate the graient and update the parameters \n",
    "            self.back_propagation(predictions, Y, caches )\n",
    "            self.update_parameters()\n",
    "\n",
    "            # print the cost every 10000 training examples \n",
    "            if print_cost and i % 5000 == 0:\n",
    "                print(f\"Cost after iteration {i} : {np.squeeze(cost)}\")\n",
    "            if print_cost and i % 100 == 0:\n",
    "                costs.append(cost)\n",
    "\n",
    "        \n",
    "        if print_cost:\n",
    "\n",
    "            fig = px.line(x = np.squeeze(costs), title = 'cost', template = \"plotly_dark\", width = 800)\n",
    "            fig.show()\n",
    "\n",
    "    def predict(self,X, y):\n",
    "        \"\"\"\n",
    "        uses the trained model to predict given X value \n",
    "\n",
    "        Arguments:\n",
    "                  X -- dataset of examples you could like to label\n",
    "                  y -- true labels of the examples  \n",
    "        \"\"\"\n",
    "\n",
    "        X = X.T\n",
    "\n",
    "        # Get predictions from forward propagation \n",
    "        predictions, _ = self.forward_propagation(X)\n",
    "\n",
    "        # predictions above .5 are true otherwise they are false\n",
    "        predictions = (predictions > 0.5)\n",
    "        predictions = np.squeeze(predictions.astype(int))\n",
    "\n",
    "        # print the accuracy\n",
    "        return np.sum((predictions == y)/X.shape[1]), predictions.T\n"
   ]
  },
  {
   "cell_type": "code",
   "execution_count": 29,
   "metadata": {},
   "outputs": [],
   "source": [
    "def train_evaluate_model(X_train, y_train, X_test, y_test, learning_rate, layer_dimensions, epochs):\n",
    "\n",
    "    # instantiate object instance\n",
    "    model = NeuralNetwork(learning_rate = learning_rate, layer_dimensions = layer_dimensions)\n",
    "    \n",
    "\n",
    "    # fit the model \n",
    "    model.fit(X_train, y_train, epochs = epochs, print_cost = True)\n",
    "    accuracy, predictions = model.predict(X_test, y_test)\n",
    "\n",
    "    # Create a dataframe to visualize the results \n",
    "    eval_df = pd.DataFrame([[learning_rate, layer_dimensions, epochs, accuracy]], columns = ['Learning rate', 'Layers', 'Epochs', 'Accuracy'])\n",
    "\n",
    "    return eval_df"
   ]
  },
  {
   "cell_type": "code",
   "execution_count": 30,
   "metadata": {},
   "outputs": [
    {
     "name": "stdout",
     "output_type": "stream",
     "text": [
      "Cost after iteration 0 : 0.6931539844031984\n",
      "Cost after iteration 5000 : 0.0024629938258191792\n",
      "Cost after iteration 10000 : 0.0005232547090797188\n"
     ]
    },
    {
     "data": {
      "application/vnd.plotly.v1+json": {
       "config": {
        "plotlyServerURL": "https://plot.ly"
       },
       "data": [
        {
         "hovertemplate": "x=%{x}<br>y=%{y}<extra></extra>",
         "legendgroup": "",
         "line": {
          "color": "#636efa",
          "dash": "solid"
         },
         "marker": {
          "symbol": "circle"
         },
         "mode": "lines",
         "name": "",
         "orientation": "h",
         "showlegend": false,
         "type": "scatter",
         "x": [
          0.6931539844031984,
          0.6648587898682157,
          0.6636316043811774,
          0.6277817105721533,
          0.10451027202629186,
          0.06847184649757271,
          0.05892948781232908,
          0.05371065438951334,
          0.05005434726279495,
          0.047232013236166694,
          0.04473979057119,
          0.04176707197957835,
          0.03906684400551896,
          0.03645678241571081,
          0.03395907245306286,
          0.03154607162406021,
          0.029245081966236073,
          0.027034726996992324,
          0.024838900655008316,
          0.02274406059461993,
          0.020802993482249312,
          0.018859818678720486,
          0.017080702210251222,
          0.015479750724952319,
          0.014031747976608165,
          0.012771519096695303,
          0.011681533233376088,
          0.010700667220209499,
          0.009822393907719034,
          0.009062546679593232,
          0.008369816581404519,
          0.007747942941295119,
          0.0071983529297223,
          0.006700160727484097,
          0.0062434104871091035,
          0.0058196221209713865,
          0.005446203721789278,
          0.005101118395826597,
          0.004794578349187321,
          0.004504439857243968,
          0.004231001099177428,
          0.003979531956644126,
          0.0037545806235833377,
          0.003551432124255892,
          0.0033528344419056916,
          0.003174272206285386,
          0.0030108983121267764,
          0.002859391281733139,
          0.002714585071752342,
          0.0025854001633330913,
          0.0024629938258191792,
          0.0023510827905289778,
          0.0022407895545652847,
          0.0021440043005319246,
          0.0020462860858399723,
          0.001963150627232429,
          0.001880337744906585,
          0.0018035550553667434,
          0.0017331906795482392,
          0.001663729753540357,
          0.001600269909823041,
          0.001541503012807533,
          0.0014836130439795105,
          0.001432362204536029,
          0.0013803484164765906,
          0.0013328485365887422,
          0.001287102891580713,
          0.0012448448783390317,
          0.0012049472057891492,
          0.0011662654470774843,
          0.0011298945648990637,
          0.001096009280208653,
          0.0010623659844555412,
          0.0010305537888315487,
          0.001000331780015139,
          0.0009721876764902539,
          0.0009447367471136885,
          0.0009174049776389335,
          0.0008909893923582812,
          0.0008659207910240099,
          0.0008422015961733559,
          0.0008188204246575954,
          0.0007965024764809099,
          0.0007751853627283703,
          0.0007547445214618497,
          0.0007353849009841237,
          0.0007168063904366165,
          0.0006994289229335286,
          0.0006821374458392834,
          0.000665687563604617,
          0.0006506170880993708,
          0.00063549646556448,
          0.0006206813538680884,
          0.0006071007436504348,
          0.0005938931876098797,
          0.0005808101293528717,
          0.0005682903167539773,
          0.0005564706685025323,
          0.0005451872350896401,
          0.00053384239925041,
          0.0005232547090797188,
          0.0005129054527575935,
          0.000502978164548148,
          0.0004932494152277928,
          0.00048395817028047813,
          0.00047477648396865416,
          0.00046607748055555056,
          0.00045749439751517737,
          0.00044926436985925255,
          0.00044129285205199843,
          0.000433618901683442,
          0.0004261889893195993,
          0.00041872504419571946,
          0.00041176086807115267,
          0.0004048745262150004,
          0.00039817252698131625,
          0.0003918154987718702,
          0.000385558714612141,
          0.00037952245256355963,
          0.0003736635960380428,
          0.00036792831346897566,
          0.0003622199107890415,
          0.00035695109836714927,
          0.0003515150814143697,
          0.0003463740803470802,
          0.0003414020272006654,
          0.0003366220800863183,
          0.00033185550877268196,
          0.00032727192018216383,
          0.00032270355384986997,
          0.00031832353196444967,
          0.0003140647091060214,
          0.0003098733164300104,
          0.0003057517442439729,
          0.0003018424780400046,
          0.00029786059269599867,
          0.0002940521296050621,
          0.00029040239421100655,
          0.00028679707460799517,
          0.0002832142487272275,
          0.00027971103440562465,
          0.00027640017643395674,
          0.0002730942653918335,
          0.00026976221969496117,
          0.0002665893456532733,
          0.000263519766475739,
          0.00026046724940561336,
          0.00025739563577856976,
          0.00025447519177596945,
          0.0002515932688530476
         ],
         "xaxis": "x",
         "y": [
          0,
          1,
          2,
          3,
          4,
          5,
          6,
          7,
          8,
          9,
          10,
          11,
          12,
          13,
          14,
          15,
          16,
          17,
          18,
          19,
          20,
          21,
          22,
          23,
          24,
          25,
          26,
          27,
          28,
          29,
          30,
          31,
          32,
          33,
          34,
          35,
          36,
          37,
          38,
          39,
          40,
          41,
          42,
          43,
          44,
          45,
          46,
          47,
          48,
          49,
          50,
          51,
          52,
          53,
          54,
          55,
          56,
          57,
          58,
          59,
          60,
          61,
          62,
          63,
          64,
          65,
          66,
          67,
          68,
          69,
          70,
          71,
          72,
          73,
          74,
          75,
          76,
          77,
          78,
          79,
          80,
          81,
          82,
          83,
          84,
          85,
          86,
          87,
          88,
          89,
          90,
          91,
          92,
          93,
          94,
          95,
          96,
          97,
          98,
          99,
          100,
          101,
          102,
          103,
          104,
          105,
          106,
          107,
          108,
          109,
          110,
          111,
          112,
          113,
          114,
          115,
          116,
          117,
          118,
          119,
          120,
          121,
          122,
          123,
          124,
          125,
          126,
          127,
          128,
          129,
          130,
          131,
          132,
          133,
          134,
          135,
          136,
          137,
          138,
          139,
          140,
          141,
          142,
          143,
          144,
          145,
          146,
          147,
          148,
          149
         ],
         "yaxis": "y"
        }
       ],
       "layout": {
        "legend": {
         "tracegroupgap": 0
        },
        "template": {
         "data": {
          "bar": [
           {
            "error_x": {
             "color": "#f2f5fa"
            },
            "error_y": {
             "color": "#f2f5fa"
            },
            "marker": {
             "line": {
              "color": "rgb(17,17,17)",
              "width": 0.5
             },
             "pattern": {
              "fillmode": "overlay",
              "size": 10,
              "solidity": 0.2
             }
            },
            "type": "bar"
           }
          ],
          "barpolar": [
           {
            "marker": {
             "line": {
              "color": "rgb(17,17,17)",
              "width": 0.5
             },
             "pattern": {
              "fillmode": "overlay",
              "size": 10,
              "solidity": 0.2
             }
            },
            "type": "barpolar"
           }
          ],
          "carpet": [
           {
            "aaxis": {
             "endlinecolor": "#A2B1C6",
             "gridcolor": "#506784",
             "linecolor": "#506784",
             "minorgridcolor": "#506784",
             "startlinecolor": "#A2B1C6"
            },
            "baxis": {
             "endlinecolor": "#A2B1C6",
             "gridcolor": "#506784",
             "linecolor": "#506784",
             "minorgridcolor": "#506784",
             "startlinecolor": "#A2B1C6"
            },
            "type": "carpet"
           }
          ],
          "choropleth": [
           {
            "colorbar": {
             "outlinewidth": 0,
             "ticks": ""
            },
            "type": "choropleth"
           }
          ],
          "contour": [
           {
            "colorbar": {
             "outlinewidth": 0,
             "ticks": ""
            },
            "colorscale": [
             [
              0,
              "#0d0887"
             ],
             [
              0.1111111111111111,
              "#46039f"
             ],
             [
              0.2222222222222222,
              "#7201a8"
             ],
             [
              0.3333333333333333,
              "#9c179e"
             ],
             [
              0.4444444444444444,
              "#bd3786"
             ],
             [
              0.5555555555555556,
              "#d8576b"
             ],
             [
              0.6666666666666666,
              "#ed7953"
             ],
             [
              0.7777777777777778,
              "#fb9f3a"
             ],
             [
              0.8888888888888888,
              "#fdca26"
             ],
             [
              1,
              "#f0f921"
             ]
            ],
            "type": "contour"
           }
          ],
          "contourcarpet": [
           {
            "colorbar": {
             "outlinewidth": 0,
             "ticks": ""
            },
            "type": "contourcarpet"
           }
          ],
          "heatmap": [
           {
            "colorbar": {
             "outlinewidth": 0,
             "ticks": ""
            },
            "colorscale": [
             [
              0,
              "#0d0887"
             ],
             [
              0.1111111111111111,
              "#46039f"
             ],
             [
              0.2222222222222222,
              "#7201a8"
             ],
             [
              0.3333333333333333,
              "#9c179e"
             ],
             [
              0.4444444444444444,
              "#bd3786"
             ],
             [
              0.5555555555555556,
              "#d8576b"
             ],
             [
              0.6666666666666666,
              "#ed7953"
             ],
             [
              0.7777777777777778,
              "#fb9f3a"
             ],
             [
              0.8888888888888888,
              "#fdca26"
             ],
             [
              1,
              "#f0f921"
             ]
            ],
            "type": "heatmap"
           }
          ],
          "heatmapgl": [
           {
            "colorbar": {
             "outlinewidth": 0,
             "ticks": ""
            },
            "colorscale": [
             [
              0,
              "#0d0887"
             ],
             [
              0.1111111111111111,
              "#46039f"
             ],
             [
              0.2222222222222222,
              "#7201a8"
             ],
             [
              0.3333333333333333,
              "#9c179e"
             ],
             [
              0.4444444444444444,
              "#bd3786"
             ],
             [
              0.5555555555555556,
              "#d8576b"
             ],
             [
              0.6666666666666666,
              "#ed7953"
             ],
             [
              0.7777777777777778,
              "#fb9f3a"
             ],
             [
              0.8888888888888888,
              "#fdca26"
             ],
             [
              1,
              "#f0f921"
             ]
            ],
            "type": "heatmapgl"
           }
          ],
          "histogram": [
           {
            "marker": {
             "pattern": {
              "fillmode": "overlay",
              "size": 10,
              "solidity": 0.2
             }
            },
            "type": "histogram"
           }
          ],
          "histogram2d": [
           {
            "colorbar": {
             "outlinewidth": 0,
             "ticks": ""
            },
            "colorscale": [
             [
              0,
              "#0d0887"
             ],
             [
              0.1111111111111111,
              "#46039f"
             ],
             [
              0.2222222222222222,
              "#7201a8"
             ],
             [
              0.3333333333333333,
              "#9c179e"
             ],
             [
              0.4444444444444444,
              "#bd3786"
             ],
             [
              0.5555555555555556,
              "#d8576b"
             ],
             [
              0.6666666666666666,
              "#ed7953"
             ],
             [
              0.7777777777777778,
              "#fb9f3a"
             ],
             [
              0.8888888888888888,
              "#fdca26"
             ],
             [
              1,
              "#f0f921"
             ]
            ],
            "type": "histogram2d"
           }
          ],
          "histogram2dcontour": [
           {
            "colorbar": {
             "outlinewidth": 0,
             "ticks": ""
            },
            "colorscale": [
             [
              0,
              "#0d0887"
             ],
             [
              0.1111111111111111,
              "#46039f"
             ],
             [
              0.2222222222222222,
              "#7201a8"
             ],
             [
              0.3333333333333333,
              "#9c179e"
             ],
             [
              0.4444444444444444,
              "#bd3786"
             ],
             [
              0.5555555555555556,
              "#d8576b"
             ],
             [
              0.6666666666666666,
              "#ed7953"
             ],
             [
              0.7777777777777778,
              "#fb9f3a"
             ],
             [
              0.8888888888888888,
              "#fdca26"
             ],
             [
              1,
              "#f0f921"
             ]
            ],
            "type": "histogram2dcontour"
           }
          ],
          "mesh3d": [
           {
            "colorbar": {
             "outlinewidth": 0,
             "ticks": ""
            },
            "type": "mesh3d"
           }
          ],
          "parcoords": [
           {
            "line": {
             "colorbar": {
              "outlinewidth": 0,
              "ticks": ""
             }
            },
            "type": "parcoords"
           }
          ],
          "pie": [
           {
            "automargin": true,
            "type": "pie"
           }
          ],
          "scatter": [
           {
            "marker": {
             "line": {
              "color": "#283442"
             }
            },
            "type": "scatter"
           }
          ],
          "scatter3d": [
           {
            "line": {
             "colorbar": {
              "outlinewidth": 0,
              "ticks": ""
             }
            },
            "marker": {
             "colorbar": {
              "outlinewidth": 0,
              "ticks": ""
             }
            },
            "type": "scatter3d"
           }
          ],
          "scattercarpet": [
           {
            "marker": {
             "colorbar": {
              "outlinewidth": 0,
              "ticks": ""
             }
            },
            "type": "scattercarpet"
           }
          ],
          "scattergeo": [
           {
            "marker": {
             "colorbar": {
              "outlinewidth": 0,
              "ticks": ""
             }
            },
            "type": "scattergeo"
           }
          ],
          "scattergl": [
           {
            "marker": {
             "line": {
              "color": "#283442"
             }
            },
            "type": "scattergl"
           }
          ],
          "scattermapbox": [
           {
            "marker": {
             "colorbar": {
              "outlinewidth": 0,
              "ticks": ""
             }
            },
            "type": "scattermapbox"
           }
          ],
          "scatterpolar": [
           {
            "marker": {
             "colorbar": {
              "outlinewidth": 0,
              "ticks": ""
             }
            },
            "type": "scatterpolar"
           }
          ],
          "scatterpolargl": [
           {
            "marker": {
             "colorbar": {
              "outlinewidth": 0,
              "ticks": ""
             }
            },
            "type": "scatterpolargl"
           }
          ],
          "scatterternary": [
           {
            "marker": {
             "colorbar": {
              "outlinewidth": 0,
              "ticks": ""
             }
            },
            "type": "scatterternary"
           }
          ],
          "surface": [
           {
            "colorbar": {
             "outlinewidth": 0,
             "ticks": ""
            },
            "colorscale": [
             [
              0,
              "#0d0887"
             ],
             [
              0.1111111111111111,
              "#46039f"
             ],
             [
              0.2222222222222222,
              "#7201a8"
             ],
             [
              0.3333333333333333,
              "#9c179e"
             ],
             [
              0.4444444444444444,
              "#bd3786"
             ],
             [
              0.5555555555555556,
              "#d8576b"
             ],
             [
              0.6666666666666666,
              "#ed7953"
             ],
             [
              0.7777777777777778,
              "#fb9f3a"
             ],
             [
              0.8888888888888888,
              "#fdca26"
             ],
             [
              1,
              "#f0f921"
             ]
            ],
            "type": "surface"
           }
          ],
          "table": [
           {
            "cells": {
             "fill": {
              "color": "#506784"
             },
             "line": {
              "color": "rgb(17,17,17)"
             }
            },
            "header": {
             "fill": {
              "color": "#2a3f5f"
             },
             "line": {
              "color": "rgb(17,17,17)"
             }
            },
            "type": "table"
           }
          ]
         },
         "layout": {
          "annotationdefaults": {
           "arrowcolor": "#f2f5fa",
           "arrowhead": 0,
           "arrowwidth": 1
          },
          "autotypenumbers": "strict",
          "coloraxis": {
           "colorbar": {
            "outlinewidth": 0,
            "ticks": ""
           }
          },
          "colorscale": {
           "diverging": [
            [
             0,
             "#8e0152"
            ],
            [
             0.1,
             "#c51b7d"
            ],
            [
             0.2,
             "#de77ae"
            ],
            [
             0.3,
             "#f1b6da"
            ],
            [
             0.4,
             "#fde0ef"
            ],
            [
             0.5,
             "#f7f7f7"
            ],
            [
             0.6,
             "#e6f5d0"
            ],
            [
             0.7,
             "#b8e186"
            ],
            [
             0.8,
             "#7fbc41"
            ],
            [
             0.9,
             "#4d9221"
            ],
            [
             1,
             "#276419"
            ]
           ],
           "sequential": [
            [
             0,
             "#0d0887"
            ],
            [
             0.1111111111111111,
             "#46039f"
            ],
            [
             0.2222222222222222,
             "#7201a8"
            ],
            [
             0.3333333333333333,
             "#9c179e"
            ],
            [
             0.4444444444444444,
             "#bd3786"
            ],
            [
             0.5555555555555556,
             "#d8576b"
            ],
            [
             0.6666666666666666,
             "#ed7953"
            ],
            [
             0.7777777777777778,
             "#fb9f3a"
            ],
            [
             0.8888888888888888,
             "#fdca26"
            ],
            [
             1,
             "#f0f921"
            ]
           ],
           "sequentialminus": [
            [
             0,
             "#0d0887"
            ],
            [
             0.1111111111111111,
             "#46039f"
            ],
            [
             0.2222222222222222,
             "#7201a8"
            ],
            [
             0.3333333333333333,
             "#9c179e"
            ],
            [
             0.4444444444444444,
             "#bd3786"
            ],
            [
             0.5555555555555556,
             "#d8576b"
            ],
            [
             0.6666666666666666,
             "#ed7953"
            ],
            [
             0.7777777777777778,
             "#fb9f3a"
            ],
            [
             0.8888888888888888,
             "#fdca26"
            ],
            [
             1,
             "#f0f921"
            ]
           ]
          },
          "colorway": [
           "#636efa",
           "#EF553B",
           "#00cc96",
           "#ab63fa",
           "#FFA15A",
           "#19d3f3",
           "#FF6692",
           "#B6E880",
           "#FF97FF",
           "#FECB52"
          ],
          "font": {
           "color": "#f2f5fa"
          },
          "geo": {
           "bgcolor": "rgb(17,17,17)",
           "lakecolor": "rgb(17,17,17)",
           "landcolor": "rgb(17,17,17)",
           "showlakes": true,
           "showland": true,
           "subunitcolor": "#506784"
          },
          "hoverlabel": {
           "align": "left"
          },
          "hovermode": "closest",
          "mapbox": {
           "style": "dark"
          },
          "paper_bgcolor": "rgb(17,17,17)",
          "plot_bgcolor": "rgb(17,17,17)",
          "polar": {
           "angularaxis": {
            "gridcolor": "#506784",
            "linecolor": "#506784",
            "ticks": ""
           },
           "bgcolor": "rgb(17,17,17)",
           "radialaxis": {
            "gridcolor": "#506784",
            "linecolor": "#506784",
            "ticks": ""
           }
          },
          "scene": {
           "xaxis": {
            "backgroundcolor": "rgb(17,17,17)",
            "gridcolor": "#506784",
            "gridwidth": 2,
            "linecolor": "#506784",
            "showbackground": true,
            "ticks": "",
            "zerolinecolor": "#C8D4E3"
           },
           "yaxis": {
            "backgroundcolor": "rgb(17,17,17)",
            "gridcolor": "#506784",
            "gridwidth": 2,
            "linecolor": "#506784",
            "showbackground": true,
            "ticks": "",
            "zerolinecolor": "#C8D4E3"
           },
           "zaxis": {
            "backgroundcolor": "rgb(17,17,17)",
            "gridcolor": "#506784",
            "gridwidth": 2,
            "linecolor": "#506784",
            "showbackground": true,
            "ticks": "",
            "zerolinecolor": "#C8D4E3"
           }
          },
          "shapedefaults": {
           "line": {
            "color": "#f2f5fa"
           }
          },
          "sliderdefaults": {
           "bgcolor": "#C8D4E3",
           "bordercolor": "rgb(17,17,17)",
           "borderwidth": 1,
           "tickwidth": 0
          },
          "ternary": {
           "aaxis": {
            "gridcolor": "#506784",
            "linecolor": "#506784",
            "ticks": ""
           },
           "baxis": {
            "gridcolor": "#506784",
            "linecolor": "#506784",
            "ticks": ""
           },
           "bgcolor": "rgb(17,17,17)",
           "caxis": {
            "gridcolor": "#506784",
            "linecolor": "#506784",
            "ticks": ""
           }
          },
          "title": {
           "x": 0.05
          },
          "updatemenudefaults": {
           "bgcolor": "#506784",
           "borderwidth": 0
          },
          "xaxis": {
           "automargin": true,
           "gridcolor": "#283442",
           "linecolor": "#506784",
           "ticks": "",
           "title": {
            "standoff": 15
           },
           "zerolinecolor": "#283442",
           "zerolinewidth": 2
          },
          "yaxis": {
           "automargin": true,
           "gridcolor": "#283442",
           "linecolor": "#506784",
           "ticks": "",
           "title": {
            "standoff": 15
           },
           "zerolinecolor": "#283442",
           "zerolinewidth": 2
          }
         }
        },
        "title": {
         "text": "cost"
        },
        "width": 800,
        "xaxis": {
         "anchor": "y",
         "domain": [
          0,
          1
         ],
         "title": {
          "text": "x"
         }
        },
        "yaxis": {
         "anchor": "x",
         "domain": [
          0,
          1
         ],
         "title": {
          "text": "y"
         }
        }
       }
      }
     },
     "metadata": {},
     "output_type": "display_data"
    }
   ],
   "source": [
    "learning_rate = 0.1\n",
    "layers = [25, 16, 32, 1]\n",
    "epochs = 15000\n",
    "results = train_evaluate_model(X_train, y_train, X_test, y_test, learning_rate = learning_rate, layer_dimensions = layers, epochs = epochs)"
   ]
  },
  {
   "cell_type": "code",
   "execution_count": 31,
   "metadata": {},
   "outputs": [
    {
     "data": {
      "text/html": [
       "<div>\n",
       "<style scoped>\n",
       "    .dataframe tbody tr th:only-of-type {\n",
       "        vertical-align: middle;\n",
       "    }\n",
       "\n",
       "    .dataframe tbody tr th {\n",
       "        vertical-align: top;\n",
       "    }\n",
       "\n",
       "    .dataframe thead th {\n",
       "        text-align: right;\n",
       "    }\n",
       "</style>\n",
       "<table border=\"1\" class=\"dataframe\">\n",
       "  <thead>\n",
       "    <tr style=\"text-align: right;\">\n",
       "      <th></th>\n",
       "      <th>Learning rate</th>\n",
       "      <th>Layers</th>\n",
       "      <th>Epochs</th>\n",
       "      <th>Accuracy</th>\n",
       "    </tr>\n",
       "  </thead>\n",
       "  <tbody>\n",
       "    <tr>\n",
       "      <th>0</th>\n",
       "      <td>0.1</td>\n",
       "      <td>[25, 16, 32, 1]</td>\n",
       "      <td>15000</td>\n",
       "      <td>0.99115</td>\n",
       "    </tr>\n",
       "  </tbody>\n",
       "</table>\n",
       "</div>"
      ],
      "text/plain": [
       "   Learning rate           Layers  Epochs  Accuracy\n",
       "0            0.1  [25, 16, 32, 1]   15000   0.99115"
      ]
     },
     "execution_count": 31,
     "metadata": {},
     "output_type": "execute_result"
    }
   ],
   "source": [
    "results"
   ]
  },
  {
   "cell_type": "code",
   "execution_count": null,
   "metadata": {},
   "outputs": [],
   "source": []
  }
 ],
 "metadata": {
  "kernelspec": {
   "display_name": "Python 3",
   "language": "python",
   "name": "python3"
  },
  "language_info": {
   "codemirror_mode": {
    "name": "ipython",
    "version": 3
   },
   "file_extension": ".py",
   "mimetype": "text/x-python",
   "name": "python",
   "nbconvert_exporter": "python",
   "pygments_lexer": "ipython3",
   "version": "3.11.4"
  }
 },
 "nbformat": 4,
 "nbformat_minor": 2
}
